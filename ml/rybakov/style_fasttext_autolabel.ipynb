{
  "cells": [
    {
      "cell_type": "markdown",
      "metadata": {},
      "source": [
        "# Авторазметка стилей: fastText\n"
      ]
    },
    {
      "cell_type": "markdown",
      "metadata": {},
      "source": [
        "Альтернативный пайплайн авторазметки. Вместо zero-shot + BERT используется `fasttext.train_supervised`, \n",
        "который обучается на уверенных подсказках (`style_hint`) и переносит метки на весь корпус.\n",
        "\n",
        "**Что делаем:**\n",
        "- загружаем подготовленный датасет и фильтруем тексты по порогу уверенности hint;\n",
        "- делим выборку на трейн/валидацию и обучаем fastText;\n",
        "- оцениваем качество на hold-out и сравниваем с hint;\n",
        "- распространяем метки на весь корпус, сохраняем псевдоразметку и кандидатов для ручной проверки.\n"
      ]
    },
    {
      "cell_type": "code",
      "execution_count": 1,
      "metadata": {},
      "outputs": [
        {
          "name": "stdout",
          "output_type": "stream",
          "text": [
            "fastText version: unknown\n"
          ]
        }
      ],
      "source": [
        "# Импорты и установка fastText\n",
        "import importlib\n",
        "import subprocess\n",
        "import sys\n",
        "from pathlib import Path\n",
        "from tempfile import NamedTemporaryFile\n",
        "\n",
        "def ensure_fasttext() -> \"module\":\n",
        "    try:\n",
        "        return importlib.import_module(\"fasttext\")\n",
        "    except ModuleNotFoundError:\n",
        "        candidates = [\n",
        "            (\"fasttext-wheel==0.9.2\", []),\n",
        "            (\"fasttext==0.9.2\", [\"--no-build-isolation\", \"--use-pep517\"])\n",
        "        ]\n",
        "        last_err = None\n",
        "        for package, extra_args in candidates:\n",
        "            try:\n",
        "                subprocess.run([sys.executable, \"-m\", \"pip\", \"install\", package, *extra_args], check=True)\n",
        "                break\n",
        "            except subprocess.CalledProcessError as err:\n",
        "                last_err = err\n",
        "        else:\n",
        "            raise ModuleNotFoundError(\"fasttext is not installed and installation attempts failed\") from last_err\n",
        "        return importlib.import_module(\"fasttext\")\n",
        "\n",
        "fasttext = ensure_fasttext()\n",
        "\n",
        "import random\n",
        "import numpy as np\n",
        "import pandas as pd\n",
        "from sklearn.metrics import accuracy_score, classification_report\n",
        "from sklearn.model_selection import train_test_split\n",
        "\n",
        "print(f\"fastText version: {getattr(fasttext, '__version__', 'unknown')}\")\n"
      ]
    },
    {
      "cell_type": "markdown",
      "metadata": {},
      "source": [
        "## Конфигурация\n"
      ]
    },
    {
      "cell_type": "code",
      "execution_count": 2,
      "metadata": {},
      "outputs": [],
      "source": [
        "AUTOLABEL_ROOT = Path(\"cache_boosted/autolabel\")\n",
        "FASTTEXT_DIR = AUTOLABEL_ROOT / \"fasttext\"\n",
        "FASTTEXT_DIR.mkdir(parents=True, exist_ok=True)\n",
        "\n",
        "config = {\n",
        "    \"DATASET_CSV\": Path(\"data/taiga_style_dataset.csv\"),\n",
        "    \"TEXT_COLUMN\": \"text\",\n",
        "    \"LABEL_COLUMN\": \"style_hint_label\",\n",
        "    \"LABEL_NAME_MAP\": {0: \"разговорный стиль\", 1: \"официально-деловой стиль\"},\n",
        "    \"HINT_CONFIDENCE_COLUMN\": \"style_hint_confidence\",\n",
        "    \"TRAIN_CONFIDENCE_THRESHOLD\": 0.7,\n",
        "    \"VAL_SIZE\": 0.2,\n",
        "    \"RANDOM_SEED\": 42,\n",
        "    \"FASTTEXT_PARAMS\": {\n",
        "        \"epoch\": 30,\n",
        "        \"lr\": 0.5,\n",
        "        \"wordNgrams\": 2,\n",
        "        \"dim\": 200,\n",
        "        \"loss\": \"softmax\",\n",
        "    },\n",
        "    \"PSEUDO_MIN_CONF\": 0.0,\n",
        "    \"UNCERTAIN_TOP_N\": 300,\n",
        "}\n",
        "\n",
        "random.seed(config[\"RANDOM_SEED\"])\n",
        "np.random.seed(config[\"RANDOM_SEED\"])\n"
      ]
    },
    {
      "cell_type": "code",
      "execution_count": 3,
      "metadata": {},
      "outputs": [
        {
          "name": "stdout",
          "output_type": "stream",
          "text": [
            "Всего записей: 16000\n",
            "style_hint_label\n",
            "0    8000\n",
            "1    8000\n",
            "Name: count, dtype: int64\n",
            "Распределение уверенности hint:\n",
            "style_hint_confidence\n",
            "0.60    8000\n",
            "0.75    8000\n",
            "Name: count, dtype: int64\n"
          ]
        }
      ],
      "source": [
        "# Загружаем датасет и готовим признаки\n",
        "data_path = config[\"DATASET_CSV\"]\n",
        "if not data_path.exists():\n",
        "    raise FileNotFoundError(f\"Не найден {data_path}. Сначала сформируйте корпус.\")\n",
        "\n",
        "df = pd.read_csv(data_path, encoding=\"utf-8\")\n",
        "text_col = config[\"TEXT_COLUMN\"]\n",
        "label_col = config[\"LABEL_COLUMN\"]\n",
        "hint_conf_col = config.get(\"HINT_CONFIDENCE_COLUMN\")\n",
        "label_map = config[\"LABEL_NAME_MAP\"]\n",
        "\n",
        "if text_col not in df.columns or label_col not in df.columns:\n",
        "    raise KeyError(\"В датасете отсутствуют нужные столбцы\")\n",
        "\n",
        "df = df.dropna(subset=[text_col, label_col]).copy()\n",
        "df[text_col] = df[text_col].astype(str).str.strip()\n",
        "df = df[df[text_col].astype(bool)].reset_index(drop=True)\n",
        "df[label_col] = df[label_col].astype(int)\n",
        "df[\"hint_label_name\"] = df[label_col].map(label_map)\n",
        "if hint_conf_col and hint_conf_col in df.columns:\n",
        "    df[hint_conf_col] = df[hint_conf_col].astype(float)\n",
        "\n",
        "print(f\"Всего записей: {len(df)}\")\n",
        "print(df[label_col].value_counts().rename(\"count\"))\n",
        "if hint_conf_col:\n",
        "    print(\"Распределение уверенности hint:\")\n",
        "    print(df[hint_conf_col].value_counts().sort_index())\n"
      ]
    },
    {
      "cell_type": "code",
      "execution_count": 4,
      "metadata": {},
      "outputs": [
        {
          "name": "stdout",
          "output_type": "stream",
          "text": [
            "Тексты для обучения fastText: 8000 (порог=0.7)\n",
            "Отложено без обучения: 8000\n",
            "train=6400, valid=1600\n"
          ]
        }
      ],
      "source": [
        "# Формируем обучающую выборку по порогу уверенности\n",
        "threshold = float(config.get(\"TRAIN_CONFIDENCE_THRESHOLD\", 0.0) or 0.0)\n",
        "if hint_conf_col and threshold > 0:\n",
        "    train_mask = df[hint_conf_col] >= threshold\n",
        "else:\n",
        "    train_mask = pd.Series(True, index=df.index)\n",
        "\n",
        "train_df = df.loc[train_mask, [text_col, label_col]].copy()\n",
        "holdout_df = df.loc[~train_mask, [text_col, label_col]].copy() if (~train_mask).any() else pd.DataFrame(columns=[text_col, label_col])\n",
        "\n",
        "print(f\"Тексты для обучения fastText: {len(train_df)} (порог={threshold})\")\n",
        "if not holdout_df.empty:\n",
        "    print(f\"Отложено без обучения: {len(holdout_df)}\")\n",
        "\n",
        "ft_train, ft_valid = train_test_split(\n",
        "    train_df,\n",
        "    test_size=config[\"VAL_SIZE\"],\n",
        "    random_state=config[\"RANDOM_SEED\"],\n",
        "    stratify=train_df[label_col],\n",
        ")\n",
        "print(f\"train={len(ft_train)}, valid={len(ft_valid)}\")\n"
      ]
    },
    {
      "cell_type": "code",
      "execution_count": 5,
      "metadata": {},
      "outputs": [
        {
          "data": {
            "text/plain": [
              "(PosixPath('/tmp/tmpd7_cofuh_train.txt'),\n",
              " PosixPath('/tmp/tmpnjto8nmu_valid.txt'))"
            ]
          },
          "execution_count": 5,
          "metadata": {},
          "output_type": "execute_result"
        }
      ],
      "source": [
        "# Утилиты для экспорта в формат fastText\n",
        "def format_label(label_id: int) -> str:\n",
        "    return f\"__label__{label_id}\"\n",
        "\n",
        "def export_fasttext_file(frame: pd.DataFrame, prefix: str) -> Path:\n",
        "    tmp = NamedTemporaryFile(\"w\", encoding=\"utf-8\", delete=False, suffix=f\"_{prefix}.txt\")\n",
        "    for text, label_id in zip(frame[text_col], frame[label_col]):\n",
        "        normalized = \" \".join(str(text).split())\n",
        "        tmp.write(f\"{format_label(int(label_id))} {normalized}\\n\")\n",
        "    tmp_path = Path(tmp.name)\n",
        "    tmp.close()\n",
        "    return tmp_path\n",
        "\n",
        "train_file = export_fasttext_file(ft_train, \"train\")\n",
        "valid_file = export_fasttext_file(ft_valid, \"valid\")\n",
        "train_file, valid_file\n"
      ]
    },
    {
      "cell_type": "code",
      "execution_count": 6,
      "metadata": {},
      "outputs": [
        {
          "name": "stderr",
          "output_type": "stream",
          "text": [
            "Read 0M words\n",
            "Number of words:  57558\n",
            "Number of labels: 1\n",
            "Progress: 100.0% words/sec/thread:  952897 lr:  0.000000 avg.loss:  0.000000 ETA:   0h 0m 0s\n"
          ]
        },
        {
          "data": {
            "text/plain": [
              "<fasttext.FastText._FastText at 0x71aa6c0e94c0>"
            ]
          },
          "execution_count": 6,
          "metadata": {},
          "output_type": "execute_result"
        }
      ],
      "source": [
        "# Обучаем модель fastText\n",
        "train_kwargs = dict(config[\"FASTTEXT_PARAMS\"])\n",
        "train_kwargs.setdefault(\"verbose\", 2)\n",
        "model = fasttext.train_supervised(input=train_file.as_posix(), **train_kwargs)\n",
        "model\n"
      ]
    },
    {
      "cell_type": "code",
      "execution_count": 7,
      "metadata": {},
      "outputs": [
        {
          "name": "stderr",
          "output_type": "stream",
          "text": [
            "/home/count/code/hw_nlp/.venv/lib/python3.12/site-packages/sklearn/metrics/_classification.py:1731: UndefinedMetricWarning: Precision is ill-defined and being set to 0.0 in labels with no predicted samples. Use `zero_division` parameter to control this behavior.\n",
            "  _warn_prf(average, modifier, f\"{metric.capitalize()} is\", result.shape[0])\n",
            "/home/count/code/hw_nlp/.venv/lib/python3.12/site-packages/sklearn/metrics/_classification.py:1731: UndefinedMetricWarning: Recall is ill-defined and being set to 0.0 in labels with no true samples. Use `zero_division` parameter to control this behavior.\n",
            "  _warn_prf(average, modifier, f\"{metric.capitalize()} is\", result.shape[0])\n",
            "/home/count/code/hw_nlp/.venv/lib/python3.12/site-packages/sklearn/metrics/_classification.py:1731: UndefinedMetricWarning: F-score is ill-defined and being set to 0.0 in labels with no true nor predicted samples. Use `zero_division` parameter to control this behavior.\n",
            "  _warn_prf(average, modifier, f\"{metric.capitalize()} is\", result.shape[0])\n",
            "/home/count/code/hw_nlp/.venv/lib/python3.12/site-packages/sklearn/metrics/_classification.py:1731: UndefinedMetricWarning: Precision is ill-defined and being set to 0.0 in labels with no predicted samples. Use `zero_division` parameter to control this behavior.\n",
            "  _warn_prf(average, modifier, f\"{metric.capitalize()} is\", result.shape[0])\n",
            "/home/count/code/hw_nlp/.venv/lib/python3.12/site-packages/sklearn/metrics/_classification.py:1731: UndefinedMetricWarning: Recall is ill-defined and being set to 0.0 in labels with no true samples. Use `zero_division` parameter to control this behavior.\n",
            "  _warn_prf(average, modifier, f\"{metric.capitalize()} is\", result.shape[0])\n",
            "/home/count/code/hw_nlp/.venv/lib/python3.12/site-packages/sklearn/metrics/_classification.py:1731: UndefinedMetricWarning: F-score is ill-defined and being set to 0.0 in labels with no true nor predicted samples. Use `zero_division` parameter to control this behavior.\n",
            "  _warn_prf(average, modifier, f\"{metric.capitalize()} is\", result.shape[0])\n"
          ]
        },
        {
          "name": "stdout",
          "output_type": "stream",
          "text": [
            "Accuracy: 1.000\n",
            "                          precision    recall  f1-score   support\n",
            "\n",
            "       разговорный стиль      0.000     0.000     0.000         0\n",
            "официально-деловой стиль      1.000     1.000     1.000      1600\n",
            "\n",
            "                accuracy                          1.000      1600\n",
            "               macro avg      0.500     0.500     0.500      1600\n",
            "            weighted avg      1.000     1.000     1.000      1600\n",
            "\n"
          ]
        },
        {
          "name": "stderr",
          "output_type": "stream",
          "text": [
            "/home/count/code/hw_nlp/.venv/lib/python3.12/site-packages/sklearn/metrics/_classification.py:1731: UndefinedMetricWarning: Precision is ill-defined and being set to 0.0 in labels with no predicted samples. Use `zero_division` parameter to control this behavior.\n",
            "  _warn_prf(average, modifier, f\"{metric.capitalize()} is\", result.shape[0])\n",
            "/home/count/code/hw_nlp/.venv/lib/python3.12/site-packages/sklearn/metrics/_classification.py:1731: UndefinedMetricWarning: Recall is ill-defined and being set to 0.0 in labels with no true samples. Use `zero_division` parameter to control this behavior.\n",
            "  _warn_prf(average, modifier, f\"{metric.capitalize()} is\", result.shape[0])\n",
            "/home/count/code/hw_nlp/.venv/lib/python3.12/site-packages/sklearn/metrics/_classification.py:1731: UndefinedMetricWarning: F-score is ill-defined and being set to 0.0 in labels with no true nor predicted samples. Use `zero_division` parameter to control this behavior.\n",
            "  _warn_prf(average, modifier, f\"{metric.capitalize()} is\", result.shape[0])\n"
          ]
        }
      ],
      "source": [
        "# Оценка на валидации\n",
        "def predict_ids(texts, k: int = 1):\n",
        "    labels, probs = model.predict(texts, k=k)\n",
        "    label_ids = [int(label[0].replace(\"__label__\", \"\")) for label in labels]\n",
        "    confidences = [prob[0] for prob in probs]\n",
        "    return label_ids, confidences\n",
        "\n",
        "y_true = ft_valid[label_col].to_numpy()\n",
        "y_pred, y_scores = predict_ids(ft_valid[text_col].tolist())\n",
        "print(f\"Accuracy: {accuracy_score(y_true, y_pred):.3f}\")\n",
        "print(classification_report(\n",
        "    y_true,\n",
        "    y_pred,\n",
        "    labels=sorted(label_map.keys()),\n",
        "    target_names=[label_map[i] for i in sorted(label_map.keys())],\n",
        "    digits=3,\n",
        "))\n"
      ]
    },
    {
      "cell_type": "code",
      "execution_count": 8,
      "metadata": {},
      "outputs": [
        {
          "data": {
            "text/plain": [
              "PosixPath('cache_boosted/autolabel/fasttext/fasttext_autolabel.bin')"
            ]
          },
          "execution_count": 8,
          "metadata": {},
          "output_type": "execute_result"
        }
      ],
      "source": [
        "# Сохраняем модель и очищаем временные файлы\n",
        "model_path = FASTTEXT_DIR / \"fasttext_autolabel.bin\"\n",
        "model.save_model(model_path.as_posix())\n",
        "for tmp_path in (train_file, valid_file):\n",
        "    if tmp_path.exists():\n",
        "        tmp_path.unlink(missing_ok=True)\n",
        "model_path\n"
      ]
    },
    {
      "cell_type": "code",
      "execution_count": 9,
      "metadata": {},
      "outputs": [
        {
          "name": "stdout",
          "output_type": "stream",
          "text": [
            "Доля расхождений fastText vs hint: 50.00%\n"
          ]
        },
        {
          "data": {
            "application/vnd.microsoft.datawrangler.viewer.v0+json": {
              "columns": [
                {
                  "name": "hint_label_name",
                  "rawType": "object",
                  "type": "string"
                },
                {
                  "name": "официально-деловой стиль",
                  "rawType": "int64",
                  "type": "integer"
                }
              ],
              "ref": "c45f4e12-12f0-4e4d-a3db-56288c155d10",
              "rows": [
                [
                  "официально-деловой стиль",
                  "8000"
                ],
                [
                  "разговорный стиль",
                  "8000"
                ]
              ],
              "shape": {
                "columns": 1,
                "rows": 2
              }
            },
            "text/html": [
              "<div>\n",
              "<style scoped>\n",
              "    .dataframe tbody tr th:only-of-type {\n",
              "        vertical-align: middle;\n",
              "    }\n",
              "\n",
              "    .dataframe tbody tr th {\n",
              "        vertical-align: top;\n",
              "    }\n",
              "\n",
              "    .dataframe thead th {\n",
              "        text-align: right;\n",
              "    }\n",
              "</style>\n",
              "<table border=\"1\" class=\"dataframe\">\n",
              "  <thead>\n",
              "    <tr style=\"text-align: right;\">\n",
              "      <th>pseudo_label_name</th>\n",
              "      <th>официально-деловой стиль</th>\n",
              "    </tr>\n",
              "    <tr>\n",
              "      <th>hint_label_name</th>\n",
              "      <th></th>\n",
              "    </tr>\n",
              "  </thead>\n",
              "  <tbody>\n",
              "    <tr>\n",
              "      <th>официально-деловой стиль</th>\n",
              "      <td>8000</td>\n",
              "    </tr>\n",
              "    <tr>\n",
              "      <th>разговорный стиль</th>\n",
              "      <td>8000</td>\n",
              "    </tr>\n",
              "  </tbody>\n",
              "</table>\n",
              "</div>"
            ],
            "text/plain": [
              "pseudo_label_name         официально-деловой стиль\n",
              "hint_label_name                                   \n",
              "официально-деловой стиль                      8000\n",
              "разговорный стиль                             8000"
            ]
          },
          "execution_count": 9,
          "metadata": {},
          "output_type": "execute_result"
        }
      ],
      "source": [
        "# Псевдорозметка всего корпуса\n",
        "all_pred_ids, all_pred_scores = predict_ids(df[text_col].tolist())\n",
        "pseudo_df = df.copy()\n",
        "pseudo_df[\"pseudo_label_id\"] = all_pred_ids\n",
        "pseudo_df[\"pseudo_label_name\"] = pseudo_df[\"pseudo_label_id\"].map(label_map)\n",
        "pseudo_df[\"pseudo_confidence\"] = all_pred_scores\n",
        "pseudo_df[\"hint_matches\"] = pseudo_df[label_col] == pseudo_df[\"pseudo_label_id\"]\n",
        "\n",
        "mismatch_rate = 1 - pseudo_df[\"hint_matches\"].mean()\n",
        "print(f\"Доля расхождений fastText vs hint: {mismatch_rate:.2%}\")\n",
        "pd.crosstab(pseudo_df[\"hint_label_name\"], pseudo_df[\"pseudo_label_name\"])\n"
      ]
    },
    {
      "cell_type": "code",
      "execution_count": 10,
      "metadata": {},
      "outputs": [
        {
          "name": "stdout",
          "output_type": "stream",
          "text": [
            "Псевдометки сохранены в cache_boosted/autolabel/fasttext/fasttext_pseudo_labels.csv\n",
            "300 примеров сохранены для ручной проверки → cache_boosted/autolabel/fasttext/fasttext_uncertain_samples.csv\n"
          ]
        }
      ],
      "source": [
        "# Сохраняем псевдометки и список сомнительных примеров\n",
        "min_conf = float(config.get(\"PSEUDO_MIN_CONF\", 0.0) or 0.0)\n",
        "pseudo_filtered = pseudo_df[pseudo_df[\"pseudo_confidence\"] >= min_conf].copy()\n",
        "if min_conf > 0:\n",
        "    print(f\"Отфильтровано по уверенности >= {min_conf:.2f}: {len(pseudo_filtered)} из {len(pseudo_df)}\")\n",
        "\n",
        "pseudo_path = FASTTEXT_DIR / \"fasttext_pseudo_labels.csv\"\n",
        "pseudo_filtered.to_csv(pseudo_path, index=False)\n",
        "print(f\"Псевдометки сохранены в {pseudo_path}\")\n",
        "\n",
        "top_n = int(config.get(\"UNCERTAIN_TOP_N\", 0) or 0)\n",
        "if top_n > 0:\n",
        "    uncertain = pseudo_filtered.nsmallest(top_n, \"pseudo_confidence\")\n",
        "    uncertain_path = FASTTEXT_DIR / \"fasttext_uncertain_samples.csv\"\n",
        "    uncertain.to_csv(uncertain_path, index=False)\n",
        "    print(f\"{len(uncertain)} примеров сохранены для ручной проверки → {uncertain_path}\")\n"
      ]
    },
    {
      "cell_type": "code",
      "execution_count": 11,
      "metadata": {},
      "outputs": [
        {
          "data": {
            "application/vnd.microsoft.datawrangler.viewer.v0+json": {
              "columns": [
                {
                  "name": "index",
                  "rawType": "int64",
                  "type": "integer"
                },
                {
                  "name": "text",
                  "rawType": "object",
                  "type": "string"
                },
                {
                  "name": "hint_label_name",
                  "rawType": "object",
                  "type": "string"
                },
                {
                  "name": "pseudo_label_name",
                  "rawType": "object",
                  "type": "string"
                },
                {
                  "name": "pseudo_confidence",
                  "rawType": "float32",
                  "type": "float"
                }
              ],
              "ref": "93b21e44-92e3-4b2f-8853-34bacbed43b5",
              "rows": [
                [
                  "0",
                  "Кто против ЕР с сотней Казаков подъедем пошукаем кто зачинщик и нагайками забьем",
                  "разговорный стиль",
                  "официально-деловой стиль",
                  "1.00001"
                ],
                [
                  "2",
                  "Пора прекратить размахивать Ядерной Дубиной!",
                  "разговорный стиль",
                  "официально-деловой стиль",
                  "1.00001"
                ],
                [
                  "5",
                  "ПРИЧИНА Россия\" - партия Путина, он ее основал и именно за нее он будет голосовать 18 сентября. И если вы хотите поддержать его, то на выборах в госдуму должны сделать тоже самое.Причина No2 \"Единая Россия\" - партия, проверенная временем. Когда 16 лет назад партия приходила к власти, в стране не выплачивались пенсии, задерживались зарплаты, а на Кавказе и вовсе шла война.",
                  "разговорный стиль",
                  "официально-деловой стиль",
                  "1.00001"
                ],
                [
                  "6",
                  "На демонтаж денег нет у Интер РАО, им надо ещё людей сначала сократить, а когда заработает новая ПГУ-420, вот тогда-то и можно будет делать демонтаж, но это после 2020 года будет, хотя, может ещё все поменяется, как власть после 18 сентября... приходите на выборы и голосуйте против Единой России, чьи учредители как раз и заправляют Интер РАО - Электрогенерация:)",
                  "разговорный стиль",
                  "официально-деловой стиль",
                  "1.00001"
                ],
                [
                  "10",
                  "\"Доллар, доллар - это грязная зелёная бумажка\"©В. В. Жириновский",
                  "разговорный стиль",
                  "официально-деловой стиль",
                  "1.00001"
                ],
                [
                  "15",
                  "Тупая предвыборная агитация под прикрытием субботника. Сраная Единая Россия.",
                  "разговорный стиль",
                  "официально-деловой стиль",
                  "1.00001"
                ],
                [
                  "20",
                  "Фаина, путину похер. А жирик отсылает нуждающимся .в группе увидела чек от жирика и девочки в комментариях писали что приходила",
                  "разговорный стиль",
                  "официально-деловой стиль",
                  "1.00001"
                ],
                [
                  "21",
                  "Aleksandr, что у него есть? Я к тому, что женщина-президент в нормальном обществе - это норма. Жириновский не даун? Обоснуй. И да, где ты видел в американской политике человека среднего класса, хотя бы?",
                  "разговорный стиль",
                  "официально-деловой стиль",
                  "1.00001"
                ],
                [
                  "22",
                  "Дааааааа...... Это что же такое употребляет автор, что могло пробить на подобный бред.Растущее влияние КПРФ..... Это вообще круто..... Круче только присвоение Косенкову звания \"мужественного борца с партией власти\".Вообще такой потока лжи как в данной статейке редко можно прочитать....",
                  "разговорный стиль",
                  "официально-деловой стиль",
                  "1.00001"
                ],
                [
                  "27",
                  "вот как и с нами отказались встретиться руководство Справедливой России когда мы приехали рассказать сто Справедливую Россию слили в Единую России так что Евгений подумай о вступлении в партию.",
                  "разговорный стиль",
                  "официально-деловой стиль",
                  "1.00001"
                ]
              ],
              "shape": {
                "columns": 4,
                "rows": 10
              }
            },
            "text/html": [
              "<div>\n",
              "<style scoped>\n",
              "    .dataframe tbody tr th:only-of-type {\n",
              "        vertical-align: middle;\n",
              "    }\n",
              "\n",
              "    .dataframe tbody tr th {\n",
              "        vertical-align: top;\n",
              "    }\n",
              "\n",
              "    .dataframe thead th {\n",
              "        text-align: right;\n",
              "    }\n",
              "</style>\n",
              "<table border=\"1\" class=\"dataframe\">\n",
              "  <thead>\n",
              "    <tr style=\"text-align: right;\">\n",
              "      <th></th>\n",
              "      <th>text</th>\n",
              "      <th>hint_label_name</th>\n",
              "      <th>pseudo_label_name</th>\n",
              "      <th>pseudo_confidence</th>\n",
              "    </tr>\n",
              "  </thead>\n",
              "  <tbody>\n",
              "    <tr>\n",
              "      <th>0</th>\n",
              "      <td>Кто против ЕР с сотней Казаков подъедем пошука...</td>\n",
              "      <td>разговорный стиль</td>\n",
              "      <td>официально-деловой стиль</td>\n",
              "      <td>1.00001</td>\n",
              "    </tr>\n",
              "    <tr>\n",
              "      <th>2</th>\n",
              "      <td>Пора прекратить размахивать Ядерной Дубиной!</td>\n",
              "      <td>разговорный стиль</td>\n",
              "      <td>официально-деловой стиль</td>\n",
              "      <td>1.00001</td>\n",
              "    </tr>\n",
              "    <tr>\n",
              "      <th>5</th>\n",
              "      <td>ПРИЧИНА Россия\" - партия Путина, он ее основал...</td>\n",
              "      <td>разговорный стиль</td>\n",
              "      <td>официально-деловой стиль</td>\n",
              "      <td>1.00001</td>\n",
              "    </tr>\n",
              "    <tr>\n",
              "      <th>6</th>\n",
              "      <td>На демонтаж денег нет у Интер РАО, им надо ещё...</td>\n",
              "      <td>разговорный стиль</td>\n",
              "      <td>официально-деловой стиль</td>\n",
              "      <td>1.00001</td>\n",
              "    </tr>\n",
              "    <tr>\n",
              "      <th>10</th>\n",
              "      <td>\"Доллар, доллар - это грязная зелёная бумажка\"...</td>\n",
              "      <td>разговорный стиль</td>\n",
              "      <td>официально-деловой стиль</td>\n",
              "      <td>1.00001</td>\n",
              "    </tr>\n",
              "    <tr>\n",
              "      <th>15</th>\n",
              "      <td>Тупая предвыборная агитация под прикрытием суб...</td>\n",
              "      <td>разговорный стиль</td>\n",
              "      <td>официально-деловой стиль</td>\n",
              "      <td>1.00001</td>\n",
              "    </tr>\n",
              "    <tr>\n",
              "      <th>20</th>\n",
              "      <td>Фаина, путину похер. А жирик отсылает нуждающи...</td>\n",
              "      <td>разговорный стиль</td>\n",
              "      <td>официально-деловой стиль</td>\n",
              "      <td>1.00001</td>\n",
              "    </tr>\n",
              "    <tr>\n",
              "      <th>21</th>\n",
              "      <td>Aleksandr, что у него есть? Я к тому, что женщ...</td>\n",
              "      <td>разговорный стиль</td>\n",
              "      <td>официально-деловой стиль</td>\n",
              "      <td>1.00001</td>\n",
              "    </tr>\n",
              "    <tr>\n",
              "      <th>22</th>\n",
              "      <td>Дааааааа...... Это что же такое употребляет ав...</td>\n",
              "      <td>разговорный стиль</td>\n",
              "      <td>официально-деловой стиль</td>\n",
              "      <td>1.00001</td>\n",
              "    </tr>\n",
              "    <tr>\n",
              "      <th>27</th>\n",
              "      <td>вот как и с нами отказались встретиться руково...</td>\n",
              "      <td>разговорный стиль</td>\n",
              "      <td>официально-деловой стиль</td>\n",
              "      <td>1.00001</td>\n",
              "    </tr>\n",
              "  </tbody>\n",
              "</table>\n",
              "</div>"
            ],
            "text/plain": [
              "                                                 text    hint_label_name  \\\n",
              "0   Кто против ЕР с сотней Казаков подъедем пошука...  разговорный стиль   \n",
              "2        Пора прекратить размахивать Ядерной Дубиной!  разговорный стиль   \n",
              "5   ПРИЧИНА Россия\" - партия Путина, он ее основал...  разговорный стиль   \n",
              "6   На демонтаж денег нет у Интер РАО, им надо ещё...  разговорный стиль   \n",
              "10  \"Доллар, доллар - это грязная зелёная бумажка\"...  разговорный стиль   \n",
              "15  Тупая предвыборная агитация под прикрытием суб...  разговорный стиль   \n",
              "20  Фаина, путину похер. А жирик отсылает нуждающи...  разговорный стиль   \n",
              "21  Aleksandr, что у него есть? Я к тому, что женщ...  разговорный стиль   \n",
              "22  Дааааааа...... Это что же такое употребляет ав...  разговорный стиль   \n",
              "27  вот как и с нами отказались встретиться руково...  разговорный стиль   \n",
              "\n",
              "           pseudo_label_name  pseudo_confidence  \n",
              "0   официально-деловой стиль            1.00001  \n",
              "2   официально-деловой стиль            1.00001  \n",
              "5   официально-деловой стиль            1.00001  \n",
              "6   официально-деловой стиль            1.00001  \n",
              "10  официально-деловой стиль            1.00001  \n",
              "15  официально-деловой стиль            1.00001  \n",
              "20  официально-деловой стиль            1.00001  \n",
              "21  официально-деловой стиль            1.00001  \n",
              "22  официально-деловой стиль            1.00001  \n",
              "27  официально-деловой стиль            1.00001  "
            ]
          },
          "execution_count": 11,
          "metadata": {},
          "output_type": "execute_result"
        }
      ],
      "source": [
        "# Быстрый просмотр расхождений\n",
        "pseudo_df.loc[~pseudo_df[\"hint_matches\"], [text_col, \"hint_label_name\", \"pseudo_label_name\", \"pseudo_confidence\"]].head(10)\n"
      ]
    }
  ],
  "metadata": {
    "kernelspec": {
      "display_name": ".venv",
      "language": "python",
      "name": "python3"
    },
    "language_info": {
      "codemirror_mode": {
        "name": "ipython",
        "version": 3
      },
      "file_extension": ".py",
      "mimetype": "text/x-python",
      "name": "python",
      "nbconvert_exporter": "python",
      "pygments_lexer": "ipython3",
      "version": "3.12.3"
    }
  },
  "nbformat": 4,
  "nbformat_minor": 5
}
