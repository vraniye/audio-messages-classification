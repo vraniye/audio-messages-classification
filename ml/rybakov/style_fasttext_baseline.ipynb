{
 "cells": [
  {
   "cell_type": "markdown",
   "metadata": {},
   "source": [
    "baseline fastText для классификации стилей\n"
   ]
  },
  {
   "cell_type": "markdown",
   "metadata": {},
   "source": [
    "- загрузка данных из `data/taiga_style_dataset.csv`;\n",
    "- подготовка текстов и меток к формату fastText;\n",
    "- обучение `fasttext.train_supervised`;\n",
    "- проверка точности и отчёт по метрикам;\n",
    "- сохранение модели.\n"
   ]
  },
  {
   "cell_type": "code",
   "execution_count": 27,
   "id": "b0caa280",
   "metadata": {},
   "outputs": [],
   "source": [
    "# Устанавливаем fastText при необходимости и подключаем зависимости\n",
    "import importlib\n",
    "import subprocess\n",
    "import sys\n",
    "from pathlib import Path\n",
    "from tempfile import NamedTemporaryFile\n",
    "\n",
    "def ensure_fasttext():\n",
    "    try:\n",
    "        return importlib.import_module(\"fasttext\")\n",
    "    except ModuleNotFoundError:\n",
    "        candidates = [\n",
    "            (\"fasttext-wheel==0.9.2\", []),\n",
    "            (\"fasttext==0.9.2\", [\"--no-build-isolation\", \"--use-pep517\"])\n",
    "        ]\n",
    "        last_err = None\n",
    "        for package, extra_args in candidates:\n",
    "            try:\n",
    "                subprocess.run([sys.executable, \"-m\", \"pip\", \"install\", package, *extra_args], check=True)\n",
    "                break\n",
    "            except subprocess.CalledProcessError as err:\n",
    "                last_err = err\n",
    "        else:\n",
    "            raise ModuleNotFoundError(\"fasttext is not installed and installation attempts failed\") from last_err\n",
    "        return importlib.import_module(\"fasttext\")\n",
    "\n",
    "fasttext = ensure_fasttext()\n",
    "\n",
    "import numpy as np\n",
    "import pandas as pd\n",
    "from sklearn.metrics import accuracy_score, classification_report\n",
    "from sklearn.model_selection import train_test_split\n",
    "\n",
    "import random\n",
    "\n",
    "# NumPy 2.0 compatibility shim for fastText predict()\n",
    "_FastTextClass = fasttext.FastText._FastText\n",
    "\n",
    "def _predict_numpy_safe(self, text, k=1, threshold=0.0, on_unicode_error=\"strict\"):\n",
    "    def check(entry: str) -> str:\n",
    "        if entry.find(\"\\n\") != -1:\n",
    "            raise ValueError(\"predict processes one line at a time (remove \\\"\\\\n\\\")\")\n",
    "        return entry + \"\\n\"\n",
    "\n",
    "    if isinstance(text, list):\n",
    "        text = [check(entry) for entry in text]\n",
    "        all_labels, all_probs = self.f.multilinePredict(text, k, threshold, on_unicode_error)\n",
    "        return all_labels, all_probs\n",
    "\n",
    "    text = check(text)\n",
    "    predictions = self.f.predict(text, k, threshold, on_unicode_error)\n",
    "    if predictions:\n",
    "        probs, labels = zip(*predictions)\n",
    "    else:\n",
    "        probs, labels = ([], ())\n",
    "    return labels, np.asarray(probs)\n",
    "\n",
    "_FastTextClass.predict = _predict_numpy_safe\n",
    "\n"
   ]
  },
  {
   "cell_type": "code",
   "execution_count": 28,
   "id": "d4de1127",
   "metadata": {},
   "outputs": [],
   "source": [
    "# Конфигурация путей и воспроизводимость\n",
    "DATA_PATH = Path(\"data/taiga_style_dataset.csv\")\n",
    "MODEL_DIR = Path(\"models\")\n",
    "RANDOM_SEED = 42\n",
    "VAL_SIZE = 0.2\n",
    "\n",
    "MODEL_DIR.mkdir(parents=True, exist_ok=True)\n",
    "\n",
    "random.seed(RANDOM_SEED)\n",
    "np.random.seed(RANDOM_SEED)\n"
   ]
  },
  {
   "cell_type": "code",
   "execution_count": 29,
   "id": "d7244950",
   "metadata": {},
   "outputs": [
    {
     "data": {
      "text/plain": [
       "{0: 'разговорный стиль', 1: 'официально-деловой стиль'}"
      ]
     },
     "execution_count": 29,
     "metadata": {},
     "output_type": "execute_result"
    }
   ],
   "source": [
    "# Загружаем и минимально очищаем корпус\n",
    "df = (\n",
    "    pd.read_csv(DATA_PATH)\n",
    "    .rename(columns={\"style_hint_label\": \"label_id\", \"style_hint\": \"label_name\"})\n",
    ")\n",
    "df[\"text\"] = df[\"text\"].fillna(\"\").astype(str)\n",
    "df[\"label_id\"] = df[\"label_id\"].astype(int)\n",
    "df[\"label_name\"] = df[\"label_name\"].fillna(\"unknown\").astype(str)\n",
    "df = df[df[\"text\"].str.strip().astype(bool)].reset_index(drop=True)\n",
    "\n",
    "id_to_name = df.drop_duplicates(\"label_id\").set_index(\"label_id\")[\"label_name\"].to_dict()\n",
    "id_to_name\n"
   ]
  },
  {
   "cell_type": "code",
   "execution_count": 30,
   "id": "33383330",
   "metadata": {},
   "outputs": [
    {
     "data": {
      "application/vnd.microsoft.datawrangler.viewer.v0+json": {
       "columns": [
        {
         "name": "label_id",
         "rawType": "int64",
         "type": "integer"
        },
        {
         "name": "count",
         "rawType": "int64",
         "type": "integer"
        }
       ],
       "ref": "2d587935-409c-46da-9ea1-1197daee9e1d",
       "rows": [
        [
         "0",
         "8000"
        ],
        [
         "1",
         "8000"
        ]
       ],
       "shape": {
        "columns": 1,
        "rows": 2
       }
      },
      "text/html": [
       "<div>\n",
       "<style scoped>\n",
       "    .dataframe tbody tr th:only-of-type {\n",
       "        vertical-align: middle;\n",
       "    }\n",
       "\n",
       "    .dataframe tbody tr th {\n",
       "        vertical-align: top;\n",
       "    }\n",
       "\n",
       "    .dataframe thead th {\n",
       "        text-align: right;\n",
       "    }\n",
       "</style>\n",
       "<table border=\"1\" class=\"dataframe\">\n",
       "  <thead>\n",
       "    <tr style=\"text-align: right;\">\n",
       "      <th></th>\n",
       "      <th>count</th>\n",
       "    </tr>\n",
       "    <tr>\n",
       "      <th>label_id</th>\n",
       "      <th></th>\n",
       "    </tr>\n",
       "  </thead>\n",
       "  <tbody>\n",
       "    <tr>\n",
       "      <th>0</th>\n",
       "      <td>8000</td>\n",
       "    </tr>\n",
       "    <tr>\n",
       "      <th>1</th>\n",
       "      <td>8000</td>\n",
       "    </tr>\n",
       "  </tbody>\n",
       "</table>\n",
       "</div>"
      ],
      "text/plain": [
       "          count\n",
       "label_id       \n",
       "0          8000\n",
       "1          8000"
      ]
     },
     "execution_count": 30,
     "metadata": {},
     "output_type": "execute_result"
    }
   ],
   "source": [
    "# Баланс классов\n",
    "label_counts = df[\"label_id\"].value_counts().sort_index()\n",
    "label_counts.to_frame(\"count\")\n"
   ]
  },
  {
   "cell_type": "code",
   "execution_count": 31,
   "id": "05c34154",
   "metadata": {},
   "outputs": [
    {
     "data": {
      "text/plain": [
       "((12800, 2), (3200, 2))"
      ]
     },
     "execution_count": 31,
     "metadata": {},
     "output_type": "execute_result"
    }
   ],
   "source": [
    "# Формируем трейн/валидацию\n",
    "train_df, valid_df = train_test_split(\n",
    "    df[[\"text\", \"label_id\"]],\n",
    "    test_size=VAL_SIZE,\n",
    "    random_state=RANDOM_SEED,\n",
    "    stratify=df[\"label_id\"],\n",
    ")\n",
    "train_df.shape, valid_df.shape\n"
   ]
  },
  {
   "cell_type": "code",
   "execution_count": 32,
   "id": "6223bfd8",
   "metadata": {},
   "outputs": [
    {
     "data": {
      "text/plain": [
       "(PosixPath('/tmp/tmp41u9sfwj_train.txt'),\n",
       " PosixPath('/tmp/tmp_ywhybvq_valid.txt'))"
      ]
     },
     "execution_count": 32,
     "metadata": {},
     "output_type": "execute_result"
    }
   ],
   "source": [
    "# Подготавливаем временные файлы формата fastText\n",
    "def format_label(label_id: int) -> str:\n",
    "    return f\"__label__{label_id}\"\n",
    "\n",
    "def export_fasttext_file(frame, prefix: str) -> Path:\n",
    "    tmp = NamedTemporaryFile(\"w\", encoding=\"utf-8\", delete=False, suffix=f\"_{prefix}.txt\")\n",
    "    for text, label_id in zip(frame[\"text\"], frame[\"label_id\"]):\n",
    "        normalized = \" \".join(text.split())\n",
    "        tmp.write(f\"{format_label(int(label_id))} {normalized}\\n\")\n",
    "    tmp_path = Path(tmp.name)\n",
    "    tmp.close()\n",
    "    return tmp_path\n",
    "\n",
    "train_file = export_fasttext_file(train_df, \"train\")\n",
    "valid_file = export_fasttext_file(valid_df, \"valid\")\n",
    "train_file, valid_file\n"
   ]
  },
  {
   "cell_type": "code",
   "execution_count": 33,
   "id": "eaa55b68",
   "metadata": {},
   "outputs": [
    {
     "name": "stderr",
     "output_type": "stream",
     "text": [
      "Read 0M words\n",
      "Number of words:  96782\n",
      "Number of labels: 2\n",
      "Progress: 100.0% words/sec/thread:  613874 lr:  0.000000 avg.loss:  0.025283 ETA:   0h 0m 0s\n"
     ]
    },
    {
     "data": {
      "text/plain": [
       "<fasttext.FastText._FastText at 0x7eab1e895880>"
      ]
     },
     "execution_count": 33,
     "metadata": {},
     "output_type": "execute_result"
    }
   ],
   "source": [
    "# Обучаем fastText\n",
    "model = fasttext.train_supervised(\n",
    "    input=train_file.as_posix(),\n",
    "    epoch=30,\n",
    "    lr=0.5,\n",
    "    wordNgrams=3,\n",
    "    dim=200,\n",
    "    loss=\"ova\", #softmax\n",
    "    verbose=2,\n",
    ")\n",
    "model\n"
   ]
  },
  {
   "cell_type": "code",
   "execution_count": 34,
   "id": "3ae75e1f",
   "metadata": {},
   "outputs": [
    {
     "name": "stdout",
     "output_type": "stream",
     "text": [
      "Accuracy: 0.964\n",
      "                          precision    recall  f1-score   support\n",
      "\n",
      "       разговорный стиль      0.967     0.961     0.964      1600\n",
      "официально-деловой стиль      0.961     0.968     0.964      1600\n",
      "\n",
      "                accuracy                          0.964      3200\n",
      "               macro avg      0.964     0.964     0.964      3200\n",
      "            weighted avg      0.964     0.964     0.964      3200\n",
      "\n"
     ]
    }
   ],
   "source": [
    "# Оцениваем качество на валидации\n",
    "sorted_ids = sorted(id_to_name)\n",
    "target_names = [id_to_name[idx] for idx in sorted_ids]\n",
    "\n",
    "def predict_ids(texts):\n",
    "    labels, probs = model.predict(texts)\n",
    "    label_ids = [int(label[0].replace(\"__label__\", \"\")) for label in labels]\n",
    "    confidences = [prob[0] for prob in probs]\n",
    "    return label_ids, confidences\n",
    "\n",
    "y_true = valid_df[\"label_id\"].to_numpy()\n",
    "y_pred, y_scores = predict_ids(valid_df[\"text\"].tolist())\n",
    "\n",
    "val_accuracy = accuracy_score(y_true, y_pred)\n",
    "val_report_text = classification_report(\n",
    "    y_true, y_pred, labels=sorted_ids, target_names=target_names, digits=3\n",
    ")\n",
    "val_report_dict = classification_report(\n",
    "    y_true, y_pred, labels=sorted_ids, target_names=target_names, output_dict=True\n",
    ")\n",
    "\n",
    "print(f\"Accuracy: {val_accuracy:.3f}\")\n",
    "print(val_report_text)\n"
   ]
  },
  {
   "cell_type": "code",
   "execution_count": 35,
   "id": "224574f4",
   "metadata": {},
   "outputs": [
    {
     "name": "stdout",
     "output_type": "stream",
     "text": [
      "Доля расхождений с hint: 0.71% (114 из 16000)\n"
     ]
    },
    {
     "data": {
      "application/vnd.microsoft.datawrangler.viewer.v0+json": {
       "columns": [
        {
         "name": "hint_label_name",
         "rawType": "object",
         "type": "string"
        },
        {
         "name": "официально-деловой стиль",
         "rawType": "int64",
         "type": "integer"
        },
        {
         "name": "разговорный стиль",
         "rawType": "int64",
         "type": "integer"
        }
       ],
       "ref": "c36283c0-0962-4c30-9c2b-72441ca186c4",
       "rows": [
        [
         "официально-деловой стиль",
         "7948",
         "52"
        ],
        [
         "разговорный стиль",
         "62",
         "7938"
        ]
       ],
       "shape": {
        "columns": 2,
        "rows": 2
       }
      },
      "text/html": [
       "<div>\n",
       "<style scoped>\n",
       "    .dataframe tbody tr th:only-of-type {\n",
       "        vertical-align: middle;\n",
       "    }\n",
       "\n",
       "    .dataframe tbody tr th {\n",
       "        vertical-align: top;\n",
       "    }\n",
       "\n",
       "    .dataframe thead th {\n",
       "        text-align: right;\n",
       "    }\n",
       "</style>\n",
       "<table border=\"1\" class=\"dataframe\">\n",
       "  <thead>\n",
       "    <tr style=\"text-align: right;\">\n",
       "      <th>pred_label_name</th>\n",
       "      <th>официально-деловой стиль</th>\n",
       "      <th>разговорный стиль</th>\n",
       "    </tr>\n",
       "    <tr>\n",
       "      <th>hint_label_name</th>\n",
       "      <th></th>\n",
       "      <th></th>\n",
       "    </tr>\n",
       "  </thead>\n",
       "  <tbody>\n",
       "    <tr>\n",
       "      <th>официально-деловой стиль</th>\n",
       "      <td>7948</td>\n",
       "      <td>52</td>\n",
       "    </tr>\n",
       "    <tr>\n",
       "      <th>разговорный стиль</th>\n",
       "      <td>62</td>\n",
       "      <td>7938</td>\n",
       "    </tr>\n",
       "  </tbody>\n",
       "</table>\n",
       "</div>"
      ],
      "text/plain": [
       "pred_label_name           официально-деловой стиль  разговорный стиль\n",
       "hint_label_name                                                      \n",
       "официально-деловой стиль                      7948                 52\n",
       "разговорный стиль                               62               7938"
      ]
     },
     "execution_count": 35,
     "metadata": {},
     "output_type": "execute_result"
    }
   ],
   "source": [
    "# Сравниваем предсказания модели с hint по всему корпусу\n",
    "comparison_df = df[[\"text\", \"label_id\"]].copy()\n",
    "comparison_df[\"hint_label_name\"] = comparison_df[\"label_id\"].map(id_to_name)\n",
    "\n",
    "pred_ids, pred_probs = predict_ids(comparison_df[\"text\"].tolist())\n",
    "comparison_df[\"pred_label_id\"] = pred_ids\n",
    "comparison_df[\"pred_label_name\"] = comparison_df[\"pred_label_id\"].map(id_to_name)\n",
    "comparison_df[\"pred_confidence\"] = pred_probs\n",
    "\n",
    "mismatch_mask = comparison_df[\"pred_label_id\"] != comparison_df[\"label_id\"]\n",
    "mismatch_rate = mismatch_mask.mean()\n",
    "print(f\"Доля расхождений с hint: {mismatch_rate:.2%} ({mismatch_mask.sum()} из {len(comparison_df)})\")\n",
    "pd.crosstab(comparison_df[\"hint_label_name\"], comparison_df[\"pred_label_name\"])\n"
   ]
  },
  {
   "cell_type": "code",
   "execution_count": 36,
   "id": "ead81c8c",
   "metadata": {},
   "outputs": [
    {
     "data": {
      "application/vnd.microsoft.datawrangler.viewer.v0+json": {
       "columns": [
        {
         "name": "index",
         "rawType": "int64",
         "type": "integer"
        },
        {
         "name": "text",
         "rawType": "object",
         "type": "string"
        },
        {
         "name": "hint_label_name",
         "rawType": "object",
         "type": "string"
        },
        {
         "name": "pred_label_name",
         "rawType": "object",
         "type": "string"
        },
        {
         "name": "pred_confidence",
         "rawType": "float32",
         "type": "float"
        }
       ],
       "ref": "cafda602-f1b6-4789-b31c-83a5ebbd3d98",
       "rows": [
        [
         "216",
         "Здравствуйте. Я очень рад, что Вы ,,закорешились'' с ПарНаСом. В нём - с убийства Немцова и ,,размежеванием'' с Навальным - с лидером ,,большие проблемы''. Очень рад наличию ,,взаимопонимания'' Вас с Касьяновым. Хочу - ,,правильного капитализма'' в России... с 1984-го года... (сам - с 1960-го, трижды отец, дважды дед... музыкант (клавишник, не ,,виолончелист''...",
         "разговорный стиль",
         "официально-деловой стиль",
         "0.7981968"
        ],
        [
         "252",
         "Для первой это второй в жизни финал турнира Большого Шлема (в 2007 году она проиграла младшей Уильямс на все том же Wimbledon), вторая и вовсе первый раз забралась так высоко. Именно обстановка Центрального корта, близости трофея и болельщицкого ажиотажа подвели Сабин. Первый гейм в матче она выиграла, да еще и на чужой подаче.",
         "официально-деловой стиль",
         "разговорный стиль",
         "0.914911"
        ],
        [
         "346",
         "есть собака или кот - приноси в лдпр! нафигачим шаурмы - нехрен без толку мяукать!",
         "разговорный стиль",
         "официально-деловой стиль",
         "0.76630366"
        ],
        [
         "407",
         "Макс, Япончик - Япончик (наст. имя - Мойше-Яков Вольфович Винницкий; 30 октября 1891, село Голта Ананьевский уезд Херсонская губерния Российская империя - 4 августа 1919, Вознесенск, Херсонская губерния, УНР) - знаменитый одесский налётчик.",
         "разговорный стиль",
         "официально-деловой стиль",
         "0.9951046"
        ],
        [
         "430",
         "Мустафа Джемилев несколько ошибся, когда 2 января сказал: морская блокада Крыма невозможна. Время показывает: очень даже возможна. Свой вывод Джемилев сделал исходя из скромных возможностей военно-морских сил Украины. Но он не учел вариант, - РФ сама может организовать морскую блокаду Крыма. Ее фактическим началом стал запрет в конце 2015 г. ввоза продуктов из Турции в Крым.",
         "разговорный стиль",
         "официально-деловой стиль",
         "0.96790934"
        ],
        [
         "546",
         "Сообщалось, что один из приятелей Лебедева оказался водителем свердловского исполкома партии \"Единая Россия\" Кардашем Фатаховым, приехавший в Сагру на служебном автомобиле. Конфликт в Сагре стал известен во многом именно благодаря \"Городу без наркотиков\" и лично Евгению Ройзману, сообщившему о происшествии в своем \"живом журнале\".",
         "официально-деловой стиль",
         "разговорный стиль",
         "0.51562995"
        ],
        [
         "570",
         "Степан, шоб она текла до утра!Вы ничего не понимаете в Ельцине! Он был эпичен и велик.Ельцин взял и поимел Советский Союз. Ельцин приехал в США и, насрав на все их правила и обычаи, накатил и весело станцевал, наглядно демонстрируя свою отношение к \"великой Америке\". Я, БЛЯДЬ, ПРИБЫЛ В ВАШИНГТОН С ДВУМЯ ЧЕМОДАНАМИ В РУКАХ.",
         "разговорный стиль",
         "официально-деловой стиль",
         "0.9019307"
        ],
        [
         "715",
         "Нам остается только принять это как свершившийся факт\", - цитируют Петреску \"Известия\". \"С таким же пониманием мы принимаем и то обстоятельство, что против казанского \"Рубина\" нам придется играть без наших болельщиков. И в этом случае КДК действовал исключительно согласно регламенту. Таковы футбольные законы.",
         "официально-деловой стиль",
         "разговорный стиль",
         "0.98505294"
        ],
        [
         "1006",
         "Опять ни слова о том, что буржуйское ЕдРо препятствует своим большинством в принятии законов для народа, а принимает законы ухудшающие жизнь простых людей. Эта курица от ЕдРо на дебатах выдала, что мол другие говорят, а ЕдРо делает. Надо же ставить их на место в конце концов! Про то, как в СССР жилось хорошо, что выиграли войну, вышли в космос, мы уже стописят раз слышали.",
         "разговорный стиль",
         "официально-деловой стиль",
         "0.6370408"
        ],
        [
         "1251",
         "Владимир, относиться к жирику серьезно, и принимать его за оракула это носить еще более розовые очки. Он ничем не лучше сионистов! Он мастер по навешиванию лапши на уши👇",
         "разговорный стиль",
         "официально-деловой стиль",
         "0.62246937"
        ]
       ],
       "shape": {
        "columns": 4,
        "rows": 10
       }
      },
      "text/html": [
       "<div>\n",
       "<style scoped>\n",
       "    .dataframe tbody tr th:only-of-type {\n",
       "        vertical-align: middle;\n",
       "    }\n",
       "\n",
       "    .dataframe tbody tr th {\n",
       "        vertical-align: top;\n",
       "    }\n",
       "\n",
       "    .dataframe thead th {\n",
       "        text-align: right;\n",
       "    }\n",
       "</style>\n",
       "<table border=\"1\" class=\"dataframe\">\n",
       "  <thead>\n",
       "    <tr style=\"text-align: right;\">\n",
       "      <th></th>\n",
       "      <th>text</th>\n",
       "      <th>hint_label_name</th>\n",
       "      <th>pred_label_name</th>\n",
       "      <th>pred_confidence</th>\n",
       "    </tr>\n",
       "  </thead>\n",
       "  <tbody>\n",
       "    <tr>\n",
       "      <th>216</th>\n",
       "      <td>Здравствуйте. Я очень рад, что Вы ,,закорешили...</td>\n",
       "      <td>разговорный стиль</td>\n",
       "      <td>официально-деловой стиль</td>\n",
       "      <td>0.798197</td>\n",
       "    </tr>\n",
       "    <tr>\n",
       "      <th>252</th>\n",
       "      <td>Для первой это второй в жизни финал турнира Бо...</td>\n",
       "      <td>официально-деловой стиль</td>\n",
       "      <td>разговорный стиль</td>\n",
       "      <td>0.914911</td>\n",
       "    </tr>\n",
       "    <tr>\n",
       "      <th>346</th>\n",
       "      <td>есть собака или кот - приноси в лдпр! нафигачи...</td>\n",
       "      <td>разговорный стиль</td>\n",
       "      <td>официально-деловой стиль</td>\n",
       "      <td>0.766304</td>\n",
       "    </tr>\n",
       "    <tr>\n",
       "      <th>407</th>\n",
       "      <td>Макс, Япончик - Япончик (наст. имя - Мойше-Яко...</td>\n",
       "      <td>разговорный стиль</td>\n",
       "      <td>официально-деловой стиль</td>\n",
       "      <td>0.995105</td>\n",
       "    </tr>\n",
       "    <tr>\n",
       "      <th>430</th>\n",
       "      <td>Мустафа Джемилев несколько ошибся, когда 2 янв...</td>\n",
       "      <td>разговорный стиль</td>\n",
       "      <td>официально-деловой стиль</td>\n",
       "      <td>0.967909</td>\n",
       "    </tr>\n",
       "    <tr>\n",
       "      <th>546</th>\n",
       "      <td>Сообщалось, что один из приятелей Лебедева ока...</td>\n",
       "      <td>официально-деловой стиль</td>\n",
       "      <td>разговорный стиль</td>\n",
       "      <td>0.515630</td>\n",
       "    </tr>\n",
       "    <tr>\n",
       "      <th>570</th>\n",
       "      <td>Степан, шоб она текла до утра!Вы ничего не пон...</td>\n",
       "      <td>разговорный стиль</td>\n",
       "      <td>официально-деловой стиль</td>\n",
       "      <td>0.901931</td>\n",
       "    </tr>\n",
       "    <tr>\n",
       "      <th>715</th>\n",
       "      <td>Нам остается только принять это как свершивший...</td>\n",
       "      <td>официально-деловой стиль</td>\n",
       "      <td>разговорный стиль</td>\n",
       "      <td>0.985053</td>\n",
       "    </tr>\n",
       "    <tr>\n",
       "      <th>1006</th>\n",
       "      <td>Опять ни слова о том, что буржуйское ЕдРо преп...</td>\n",
       "      <td>разговорный стиль</td>\n",
       "      <td>официально-деловой стиль</td>\n",
       "      <td>0.637041</td>\n",
       "    </tr>\n",
       "    <tr>\n",
       "      <th>1251</th>\n",
       "      <td>Владимир, относиться к жирику серьезно, и прин...</td>\n",
       "      <td>разговорный стиль</td>\n",
       "      <td>официально-деловой стиль</td>\n",
       "      <td>0.622469</td>\n",
       "    </tr>\n",
       "  </tbody>\n",
       "</table>\n",
       "</div>"
      ],
      "text/plain": [
       "                                                   text  \\\n",
       "216   Здравствуйте. Я очень рад, что Вы ,,закорешили...   \n",
       "252   Для первой это второй в жизни финал турнира Бо...   \n",
       "346   есть собака или кот - приноси в лдпр! нафигачи...   \n",
       "407   Макс, Япончик - Япончик (наст. имя - Мойше-Яко...   \n",
       "430   Мустафа Джемилев несколько ошибся, когда 2 янв...   \n",
       "546   Сообщалось, что один из приятелей Лебедева ока...   \n",
       "570   Степан, шоб она текла до утра!Вы ничего не пон...   \n",
       "715   Нам остается только принять это как свершивший...   \n",
       "1006  Опять ни слова о том, что буржуйское ЕдРо преп...   \n",
       "1251  Владимир, относиться к жирику серьезно, и прин...   \n",
       "\n",
       "               hint_label_name           pred_label_name  pred_confidence  \n",
       "216          разговорный стиль  официально-деловой стиль         0.798197  \n",
       "252   официально-деловой стиль         разговорный стиль         0.914911  \n",
       "346          разговорный стиль  официально-деловой стиль         0.766304  \n",
       "407          разговорный стиль  официально-деловой стиль         0.995105  \n",
       "430          разговорный стиль  официально-деловой стиль         0.967909  \n",
       "546   официально-деловой стиль         разговорный стиль         0.515630  \n",
       "570          разговорный стиль  официально-деловой стиль         0.901931  \n",
       "715   официально-деловой стиль         разговорный стиль         0.985053  \n",
       "1006         разговорный стиль  официально-деловой стиль         0.637041  \n",
       "1251         разговорный стиль  официально-деловой стиль         0.622469  "
      ]
     },
     "execution_count": 36,
     "metadata": {},
     "output_type": "execute_result"
    }
   ],
   "source": [
    "# Примеры расхождений между hint и предсказаниями\n",
    "comparison_df.loc[mismatch_mask, [\"text\", \"hint_label_name\", \"pred_label_name\", \"pred_confidence\"]].head(10)\n"
   ]
  },
  {
   "cell_type": "code",
   "execution_count": 37,
   "id": "5b6c4567",
   "metadata": {},
   "outputs": [
    {
     "data": {
      "text/plain": [
       "('официально-деловой стиль', np.float64(0.9855064153671265))"
      ]
     },
     "execution_count": 37,
     "metadata": {},
     "output_type": "execute_result"
    }
   ],
   "source": [
    "# Пример инференса\n",
    "sample_text = \"Вышлем финансовый отчет и согласуем детали контракта в ближайшие два дня.\"\n",
    "pred_label, pred_prob = model.predict(sample_text, k=1)\n",
    "pred_id = int(pred_label[0].replace(\"__label__\", \"\"))\n",
    "id_to_name[pred_id], pred_prob[0]\n"
   ]
  },
  {
   "cell_type": "code",
   "execution_count": 38,
   "id": "1f3d01f7",
   "metadata": {},
   "outputs": [
    {
     "data": {
      "text/plain": [
       "PosixPath('models/fasttext_style.bin')"
      ]
     },
     "execution_count": 38,
     "metadata": {},
     "output_type": "execute_result"
    }
   ],
   "source": [
    "# Сохраняем модель и очищаем временные файлы\n",
    "model_path = MODEL_DIR / \"fasttext_style.bin\"\n",
    "model.save_model(model_path.as_posix())\n",
    "\n",
    "for tmp_path in (train_file, valid_file):\n",
    "    if tmp_path.exists():\n",
    "        tmp_path.unlink(missing_ok=True)\n",
    "\n",
    "model_path\n"
   ]
  },
  {
   "cell_type": "code",
   "execution_count": 39,
   "id": "55691230",
   "metadata": {},
   "outputs": [
    {
     "name": "stdout",
     "output_type": "stream",
     "text": [
      "=== Результаты fastText baseline ===\n",
      "Валидация: accuracy = 0.964, macro F1 = 0.964, weighted F1 = 0.964\n",
      "=== Расхождения с исходными метками ===\n",
      "Доля несоответствий с hint: 0.71% (114 из 16000)\n",
      "=== Корпус и сплиты ===\n",
      "Всего сегментов: 16000\n",
      "Обучающая выборка fastText: 12800 · валидация: 3200\n",
      "Баланс классов:\n",
      "  разговорный стиль (0): 8000\n",
      "  официально-деловой стиль (1): 8000\n",
      "=== Артефакты ===\n",
      "Модель fastText сохранена в: models/fasttext_style.bin\n",
      "Временные файлы fastText очищены после обучения.\n"
     ]
    }
   ],
   "source": [
    "# Сводная аналитика fastText baseline\n",
    "print(\"=== Результаты fastText baseline ===\")\n",
    "macro_f1 = val_report_dict.get(\"macro avg\", {}).get(\"f1-score\", float(\"nan\"))\n",
    "weighted_f1 = val_report_dict.get(\"weighted avg\", {}).get(\"f1-score\", float(\"nan\"))\n",
    "print(f\"Валидация: accuracy = {val_accuracy:.3f}, macro F1 = {macro_f1:.3f}, weighted F1 = {weighted_f1:.3f}\")\n",
    "\n",
    "print(\"=== Расхождения с исходными метками ===\")\n",
    "mismatch_count = int(mismatch_mask.sum())\n",
    "total_count = int(len(comparison_df))\n",
    "print(f\"Доля несоответствий с hint: {mismatch_rate:.2%} ({mismatch_count} из {total_count})\")\n",
    "\n",
    "print(\"=== Корпус и сплиты ===\")\n",
    "print(f\"Всего сегментов: {len(df)}\")\n",
    "print(f\"Обучающая выборка fastText: {len(train_df)} · валидация: {len(valid_df)}\")\n",
    "print(\"Баланс классов:\")\n",
    "for label_id, count in label_counts.sort_index().items():\n",
    "    label_name = id_to_name.get(label_id, str(label_id))\n",
    "    print(f\"  {label_name} ({label_id}): {int(count)}\")\n",
    "\n",
    "print(\"=== Артефакты ===\")\n",
    "print(f\"Модель fastText сохранена в: {model_path}\")\n",
    "print(\"Временные файлы fastText очищены после обучения.\")\n",
    "\n"
   ]
  }
 ],
 "metadata": {
  "kernelspec": {
   "display_name": ".venv",
   "language": "python",
   "name": "python3"
  },
  "language_info": {
   "codemirror_mode": {
    "name": "ipython",
    "version": 3
   },
   "file_extension": ".py",
   "mimetype": "text/x-python",
   "name": "python",
   "nbconvert_exporter": "python",
   "pygments_lexer": "ipython3",
   "version": "3.12.3"
  }
 },
 "nbformat": 4,
 "nbformat_minor": 5
}
