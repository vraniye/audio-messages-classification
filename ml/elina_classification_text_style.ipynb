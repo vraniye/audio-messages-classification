{
  "cells": [
    {
      "cell_type": "code",
      "execution_count": 75,
      "metadata": {
        "id": "jDta2KszqtfW"
      },
      "outputs": [],
      "source": [
        "import pandas as pd\n",
        "import numpy as np\n",
        "import matplotlib.pyplot as plt\n",
        "import seaborn as sns\n",
        "from collections import Counter\n",
        "import re\n",
        "import warnings\n",
        "warnings.filterwarnings(\"ignore\")\n",
        "\n",
        "from sklearn.feature_extraction.text import TfidfVectorizer\n",
        "from sklearn.linear_model import LogisticRegression\n",
        "from sklearn.svm import SVC\n",
        "from sklearn.naive_bayes import MultinomialNB\n",
        "from sklearn.ensemble import VotingClassifier\n",
        "from sklearn.model_selection import GridSearchCV, RandomizedSearchCV\n",
        "from sklearn.metrics import (\n",
        "    accuracy_score, f1_score, roc_auc_score, average_precision_score, confusion_matrix, classification_report\n",
        ")\n",
        "import joblib\n",
        "import os\n",
        "import time\n",
        "\n",
        "#import fasttext\n",
        "\n",
        "import pickle\n",
        "\n",
        "import torch\n",
        "import torch.nn as nn\n",
        "from torch.utils.data import Dataset, DataLoader, TensorDataset\n",
        "from torch.nn.utils.rnn import pad_sequence\n",
        "import torch.nn.functional as F\n",
        "from tqdm import tqdm\n",
        "from safetensors.torch import save_file \n",
        "\n",
        "from transformers import AutoModel, AutoTokenizer\n",
        "from torch.optim import AdamW"
      ]
    },
    {
      "cell_type": "markdown",
      "metadata": {
        "id": "FGvpe2l2q8TZ"
      },
      "source": [
        "# Подготовка данных и EDA"
      ]
    },
    {
      "cell_type": "code",
      "execution_count": 76,
      "metadata": {
        "colab": {
          "base_uri": "https://localhost:8080/",
          "height": 519
        },
        "id": "CPe6fWCDrJYx",
        "outputId": "d287f82a-4d5c-4dc6-e5c8-0579d5451507"
      },
      "outputs": [
        {
          "data": {
            "text/html": [
              "<div>\n",
              "<style scoped>\n",
              "    .dataframe tbody tr th:only-of-type {\n",
              "        vertical-align: middle;\n",
              "    }\n",
              "\n",
              "    .dataframe tbody tr th {\n",
              "        vertical-align: top;\n",
              "    }\n",
              "\n",
              "    .dataframe thead th {\n",
              "        text-align: right;\n",
              "    }\n",
              "</style>\n",
              "<table border=\"1\" class=\"dataframe\">\n",
              "  <thead>\n",
              "    <tr style=\"text-align: right;\">\n",
              "      <th></th>\n",
              "      <th>text</th>\n",
              "      <th>label</th>\n",
              "    </tr>\n",
              "  </thead>\n",
              "  <tbody>\n",
              "    <tr>\n",
              "      <th>0</th>\n",
              "      <td>В последние несколько лет человеческий капитал...</td>\n",
              "      <td>formal</td>\n",
              "    </tr>\n",
              "    <tr>\n",
              "      <th>1</th>\n",
              "      <td>В соответствии с действующей инструкцией Минис...</td>\n",
              "      <td>formal</td>\n",
              "    </tr>\n",
              "    <tr>\n",
              "      <th>2</th>\n",
              "      <td>если добавить в уксус соду то будет вулкан</td>\n",
              "      <td>informal</td>\n",
              "    </tr>\n",
              "    <tr>\n",
              "      <th>3</th>\n",
              "      <td>Известный российский дизайнер, основатель и вл...</td>\n",
              "      <td>formal</td>\n",
              "    </tr>\n",
              "    <tr>\n",
              "      <th>4</th>\n",
              "      <td>ну типа плохо то что осталось супер-пупер мало...</td>\n",
              "      <td>informal</td>\n",
              "    </tr>\n",
              "    <tr>\n",
              "      <th>5</th>\n",
              "      <td>При Алексее Михайловиче их популярность стала ...</td>\n",
              "      <td>formal</td>\n",
              "    </tr>\n",
              "    <tr>\n",
              "      <th>6</th>\n",
              "      <td>когда было четыре года здесь в городе вот в се...</td>\n",
              "      <td>informal</td>\n",
              "    </tr>\n",
              "    <tr>\n",
              "      <th>7</th>\n",
              "      <td>потому что в поиске он не находится</td>\n",
              "      <td>informal</td>\n",
              "    </tr>\n",
              "    <tr>\n",
              "      <th>8</th>\n",
              "      <td>уберите этого бота он меня бесит</td>\n",
              "      <td>informal</td>\n",
              "    </tr>\n",
              "    <tr>\n",
              "      <th>9</th>\n",
              "      <td>зачем это тебе надо забудь вообще забей на эту...</td>\n",
              "      <td>informal</td>\n",
              "    </tr>\n",
              "    <tr>\n",
              "      <th>10</th>\n",
              "      <td>блять куча бабок у меня будет</td>\n",
              "      <td>informal</td>\n",
              "    </tr>\n",
              "    <tr>\n",
              "      <th>11</th>\n",
              "      <td>С начала лета в Москве зафиксировано чуть боль...</td>\n",
              "      <td>formal</td>\n",
              "    </tr>\n",
              "    <tr>\n",
              "      <th>12</th>\n",
              "      <td>и автомобили митсубиси галант госномер тоже пе...</td>\n",
              "      <td>informal</td>\n",
              "    </tr>\n",
              "    <tr>\n",
              "      <th>13</th>\n",
              "      <td>Перед выходом Теллурии я брал у Сорокина интер...</td>\n",
              "      <td>formal</td>\n",
              "    </tr>\n",
              "    <tr>\n",
              "      <th>14</th>\n",
              "      <td>лучшими подружками ты меня даже не знаешь</td>\n",
              "      <td>informal</td>\n",
              "    </tr>\n",
              "  </tbody>\n",
              "</table>\n",
              "</div>"
            ],
            "text/plain": [
              "                                                 text     label\n",
              "0   В последние несколько лет человеческий капитал...    formal\n",
              "1   В соответствии с действующей инструкцией Минис...    formal\n",
              "2          если добавить в уксус соду то будет вулкан  informal\n",
              "3   Известный российский дизайнер, основатель и вл...    formal\n",
              "4   ну типа плохо то что осталось супер-пупер мало...  informal\n",
              "5   При Алексее Михайловиче их популярность стала ...    formal\n",
              "6   когда было четыре года здесь в городе вот в се...  informal\n",
              "7                 потому что в поиске он не находится  informal\n",
              "8                    уберите этого бота он меня бесит  informal\n",
              "9   зачем это тебе надо забудь вообще забей на эту...  informal\n",
              "10                      блять куча бабок у меня будет  informal\n",
              "11  С начала лета в Москве зафиксировано чуть боль...    formal\n",
              "12  и автомобили митсубиси галант госномер тоже пе...  informal\n",
              "13  Перед выходом Теллурии я брал у Сорокина интер...    formal\n",
              "14          лучшими подружками ты меня даже не знаешь  informal"
            ]
          },
          "execution_count": 76,
          "metadata": {},
          "output_type": "execute_result"
        }
      ],
      "source": [
        "# Загрузка данных\n",
        "df = pd.read_csv(\"final_cleaned_balanced_dataset.csv\")\n",
        "df.head(15)"
      ]
    },
    {
      "cell_type": "code",
      "execution_count": 77,
      "metadata": {
        "colab": {
          "base_uri": "https://localhost:8080/"
        },
        "id": "Ld-pGAZArthb",
        "outputId": "e46666d7-57a7-4f91-f828-1bec82e3ea2b"
      },
      "outputs": [
        {
          "name": "stdout",
          "output_type": "stream",
          "text": [
            "Размер датасета: (12994, 2)\n",
            "                                                     text   label\n",
            "count                                               12994   12994\n",
            "unique                                              12994       2\n",
            "top     В последние несколько лет человеческий капитал...  formal\n",
            "freq                                                    1    6497\n"
          ]
        }
      ],
      "source": [
        "# Базовая информация\n",
        "print(\"Размер датасета:\", df.shape)\n",
        "print(df.describe())"
      ]
    },
    {
      "cell_type": "code",
      "execution_count": 78,
      "metadata": {
        "colab": {
          "base_uri": "https://localhost:8080/",
          "height": 1000
        },
        "id": "Bw1q15oDrdS4",
        "outputId": "d8312330-5556-4c9e-e80e-5100ec24fbd9"
      },
      "outputs": [
        {
          "name": "stdout",
          "output_type": "stream",
          "text": [
            "\n",
            "Пропущенные значения:\n",
            "text     0\n",
            "label    0\n",
            "dtype: int64\n",
            "\n",
            "Уникальные метки:\n",
            "label\n",
            "formal      6497\n",
            "informal    6497\n",
            "Name: count, dtype: int64\n",
            "\n",
            "Дубликатов по тексту: 0\n"
          ]
        },
        {
          "data": {
            "image/png": "[encoded data removed]",
            "text/plain": [
              "<Figure size 600x400 with 1 Axes>"
            ]
          },
          "metadata": {},
          "output_type": "display_data"
        },
        {
          "data": {
            "image/png": "[encoded data removed]",
            "text/plain": [
              "<Figure size 1200x400 with 2 Axes>"
            ]
          },
          "metadata": {},
          "output_type": "display_data"
        }
      ],
      "source": [
        "# Проверка на пропуски\n",
        "print(\"\\nПропущенные значения:\")\n",
        "print(df.isnull().sum())\n",
        "\n",
        "# Удаление строк с пропусками\n",
        "df = df.dropna().reset_index(drop=True)\n",
        "\n",
        "# Проверка уникальных значений в label\n",
        "print(\"\\nУникальные метки:\")\n",
        "print(df['label'].value_counts())\n",
        "\n",
        "# Проверка дубликатов\n",
        "duplicates = df.duplicated(subset=['text']).sum()\n",
        "print(f\"\\nДубликатов по тексту: {duplicates}\")\n",
        "df = df.drop_duplicates(subset=['text']).reset_index(drop=True)\n",
        "\n",
        "# Преобразуем метки в числа\n",
        "label_map = {'informal': 0, 'formal': 1}\n",
        "df['label_id'] = df['label'].map(label_map)\n",
        "\n",
        "# Визуализация распределения классов\n",
        "plt.figure(figsize=(6, 4))\n",
        "sns.countplot(x='label', data=df)\n",
        "plt.title(\"Распределение классов\")\n",
        "plt.show()\n",
        "\n",
        "# Длина текстов (по символам и словам)\n",
        "df['char_len'] = df['text'].apply(len)\n",
        "df['word_len'] = df['text'].apply(lambda x: len(x.split()))\n",
        "\n",
        "plt.figure(figsize=(12, 4))\n",
        "plt.subplot(1, 2, 1)\n",
        "sns.histplot(df['char_len'], bins=50, kde=False)\n",
        "plt.title(\"Распределение длины текста (символы)\")\n",
        "\n",
        "plt.subplot(1, 2, 2)\n",
        "sns.histplot(df['word_len'], bins=50, kde=False)\n",
        "plt.title(\"Распределение длины текста (слова)\")\n",
        "plt.tight_layout()\n",
        "plt.show()"
      ]
    },
    {
      "cell_type": "code",
      "execution_count": 79,
      "metadata": {
        "colab": {
          "base_uri": "https://localhost:8080/",
          "height": 575,
          "referenced_widgets": [
            "77601ef224d44e629efcf175bc6b9fe4",
            "db92ef82849c4bf38e097a68d076906a",
            "31bd34cd6cc6484a9cb94593d912101d",
            "1aab3b47776e4bf1b10ca5736e3dc5a0",
            "db23ccbda02a4033a9fa7fdb4222f603",
            "a5babb90c0ed44dc89ca815d5dc29d6f",
            "4cf898366b06402e86b6efed91a051fe",
            "5d1beb0d731f4dbf9b34caf12e35adc0",
            "f5f1b2210c0740cc84509d49fdc9f44a",
            "e6b903b66bc3415b8280fb6ca24d112c",
            "c9be9e62259648caabc5ed2252f409ff",
            "a0bddb1a00e840a884a4eae80980391c",
            "67e078715f18427cbb514e345057a881",
            "6965480d0dff49099d966d366712709a",
            "73287bbd19c74e71afecf9015dbd0e2d",
            "f14a9956bc1846d1b295738aad8a108b",
            "cd8083f7a780474fb4fd2223ea6d0b4b",
            "7385d51a9a4d4629b48ee4d3043f1f24",
            "a4297ae4b3ff494885840981bcd8d273",
            "a3b578271b6843aa8e176c5475990301",
            "7bcbcac390c8451bbcde7d0a402fa5eb",
            "e068ebdf0fe241d98ad84f094686efe3",
            "51f883eb60424bca855459ffc3491c61",
            "02296f5676d44e5fb53f02019bffa1d0",
            "96f3f668b2ff4f508cd948073d60707f",
            "f529ea5600644d858d209e17e11c30a8",
            "a3bcecbb10fa4b5784cdb065d67d04ef",
            "2a25e8722b29472487cae6bb538817fa",
            "27f2febbd5cd4ebe9d0049c27b694d9d",
            "0fcec5fcf40842f8b3928d7c0d070934",
            "58aa8011023542d6b28a899939404a9c",
            "7ccb225e254d4df49bda7c05f9cdf148",
            "a6e486585718478e83064b179b8aa452",
            "5a99a3a89b514babafa7bdf20ae38141",
            "3dd14b00e2fa4aeab76af977993dac88",
            "7732a084fe774540939ef87760af8b95",
            "0c48ccf1bc11451b8ed775f947da6bea",
            "3cd7b02fe65349519838c2fda5f9803f",
            "39ff4e3e2dff4e16a6a35217bca230bc",
            "50ab41b6ea034f42a8a55ed3a08ab43d",
            "d1620b3c879b4bb6bc7d74d159f8a71d",
            "627d01e6e3ec4fa9bacfb3fab3fdb225",
            "818cc70a93c243eb964b4b4010741ae3",
            "9327fea9afbd4855919041796e6cbb05"
          ]
        },
        "id": "ERq_AVyasD1r",
        "outputId": "96582931-142a-4fcb-b645-706af3f14d16"
      },
      "outputs": [
        {
          "name": "stdout",
          "output_type": "stream",
          "text": [
            "\n",
            "Текстов длиннее 512 токенов: 82 из 12994 (0.63%)\n"
          ]
        },
        {
          "data": {
            "image/png": "[encoded data removed]",
            "text/plain": [
              "<Figure size 800x400 with 1 Axes>"
            ]
          },
          "metadata": {},
          "output_type": "display_data"
        }
      ],
      "source": [
        "# Токенизация и проверка длины токенов (для BERT)\n",
        "tokenizer = AutoTokenizer.from_pretrained(\"DeepPavlov/rubert-base-cased\")\n",
        "\n",
        "def count_tokens(text):\n",
        "    return len(tokenizer.encode(text, truncation=False))\n",
        "\n",
        "df['token_len'] = df['text'].apply(count_tokens)\n",
        "\n",
        "# Сколько текстов превышает 512 токенов?\n",
        "over_512 = (df['token_len'] > 512).sum()\n",
        "print(f\"\\nТекстов длиннее 512 токенов: {over_512} из {len(df)} ({over_512 / len(df) * 100:.2f}%)\")\n",
        "\n",
        "# Визуализация длины токенов\n",
        "plt.figure(figsize=(8, 4))\n",
        "sns.histplot(df['token_len'], bins=100, kde=False)\n",
        "plt.axvline(512, color='red', linestyle='--', label='512 tokens')\n",
        "plt.title(\"Распределение длины токенов (BERT tokenizer)\")\n",
        "plt.legend()\n",
        "plt.xlim(0, 800)\n",
        "plt.show()"
      ]
    },
    {
      "cell_type": "code",
      "execution_count": 80,
      "metadata": {
        "colab": {
          "base_uri": "https://localhost:8080/"
        },
        "id": "DqsQj3scsQ8I",
        "outputId": "5780e817-f935-41a0-e42b-92cbaea4a4e3"
      },
      "outputs": [
        {
          "name": "stdout",
          "output_type": "stream",
          "text": [
            "\n",
            "Train: 9095, Val: 1949, Test: 1950\n"
          ]
        }
      ],
      "source": [
        "# Разделение на train/val/test\n",
        "from sklearn.model_selection import train_test_split\n",
        "\n",
        "X = df['text'].tolist()\n",
        "y = df['label_id'].tolist()\n",
        "\n",
        "X_train, X_temp, y_train, y_temp = train_test_split(X, y, test_size=0.3, random_state=42, stratify=y)\n",
        "X_val, X_test, y_val, y_test = train_test_split(X_temp, y_temp, test_size=0.5, random_state=42, stratify=y_temp)\n",
        "\n",
        "print(f\"\\nTrain: {len(X_train)}, Val: {len(X_val)}, Test: {len(X_test)}\")"
      ]
    },
    {
      "cell_type": "markdown",
      "metadata": {
        "id": "eDDDPL3itRMo"
      },
      "source": [
        "# Обучение классификаторов"
      ]
    },
    {
      "cell_type": "code",
      "execution_count": 82,
      "metadata": {
        "id": "Ll0yZ5URtYn7"
      },
      "outputs": [],
      "source": [
        "# Создаем папку для моделей\n",
        "os.makedirs(\"models\", exist_ok=True)"
      ]
    },
    {
      "cell_type": "markdown",
      "metadata": {
        "id": "8vttkAWTtVL7"
      },
      "source": [
        "## Классические модели"
      ]
    },
    {
      "cell_type": "markdown",
      "metadata": {
        "id": "jZXjZInn0k7u"
      },
      "source": [
        "### Векторизация (TF-IDF)"
      ]
    },
    {
      "cell_type": "code",
      "execution_count": 83,
      "metadata": {
        "id": "-tTq2xWBuP-6"
      },
      "outputs": [
        {
          "name": "stdout",
          "output_type": "stream",
          "text": [
            "Размер TF-IDF матрицы: (9095, 20000)\n"
          ]
        }
      ],
      "source": [
        "# Векторизация (TF-IDF)\n",
        "vectorizer = TfidfVectorizer(\n",
        "    max_features=20000,\n",
        "    ngram_range=(1, 2),\n",
        "    lowercase=False\n",
        ")\n",
        "X_train_tfidf = vectorizer.fit_transform(X_train)\n",
        "X_val_tfidf = vectorizer.transform(X_val)\n",
        "X_test_tfidf = vectorizer.transform(X_test)\n",
        "print(f\"Размер TF-IDF матрицы: {X_train_tfidf.shape}\")"
      ]
    },
    {
      "cell_type": "code",
      "execution_count": 84,
      "metadata": {
        "id": "mpUbHlI_wUo7"
      },
      "outputs": [
        {
          "data": {
            "text/plain": [
              "['models/tfidf_vectorizer.pkl']"
            ]
          },
          "execution_count": 84,
          "metadata": {},
          "output_type": "execute_result"
        }
      ],
      "source": [
        "joblib.dump(vectorizer, \"models/tfidf_vectorizer.pkl\")"
      ]
    },
    {
      "cell_type": "code",
      "execution_count": 85,
      "metadata": {
        "id": "cl1g7aIbv_i1"
      },
      "outputs": [],
      "source": [
        "def evaluate_and_save_sklearn(model, X_test_vec, y_true, name, save_path):\n",
        "    y_pred = model.predict(X_test_vec)\n",
        "    y_proba = model.predict_proba(X_test_vec)[:, 1]\n",
        "\n",
        "    # Метрики\n",
        "    acc = accuracy_score(y_true, y_pred)\n",
        "    f1_macro = f1_score(y_true, y_pred, average='macro')\n",
        "    f1_weighted = f1_score(y_true, y_pred, average='weighted')\n",
        "    roc_auc = roc_auc_score(y_true, y_proba)\n",
        "    pr_auc = average_precision_score(y_true, y_proba)\n",
        "    cm = confusion_matrix(y_true, y_pred)\n",
        "\n",
        "    # === Красивый вывод ===\n",
        "    print(f\"\\n{'='*60}\")\n",
        "    print(f\"Результаты модели: {name}\")\n",
        "    print(f\"{'='*60}\")\n",
        "    print(f\"Accuracy:      {acc:.4f}\")\n",
        "    print(f\"Macro F1:      {f1_macro:.4f}\")\n",
        "    print(f\"Weighted F1:   {f1_weighted:.4f}\")\n",
        "    print(f\"ROC-AUC:       {roc_auc:.4f}\")\n",
        "    print(f\"PR-AUC:        {pr_auc:.4f}\")\n",
        "\n",
        "    print(\"\\n--- Confusion Matrix ---\")\n",
        "    print(\"              Predicted\")\n",
        "    print(\"               informal   formal\")\n",
        "    print(f\"Actual informal   {cm[0][0]:>6}   {cm[0][1]:>6}\")\n",
        "    print(f\"       formal     {cm[1][0]:>6}   {cm[1][1]:>6}\")\n",
        "\n",
        "    print(\"\\n--- Classification Report ---\")\n",
        "    target_names = ['informal', 'formal']\n",
        "    print(classification_report(y_true, y_pred, target_names=target_names))\n",
        "\n",
        "    # Сохранение\n",
        "    joblib.dump(model, save_path)\n",
        "\n",
        "    return {\n",
        "        \"name\": name,\n",
        "        \"acc\": acc,\n",
        "        \"f1_macro\": f1_macro,\n",
        "        \"f1_weighted\": f1_weighted,\n",
        "        \"roc_auc\": roc_auc,\n",
        "        \"pr_auc\": pr_auc,\n",
        "        \"cm\": cm\n",
        "    }"
      ]
    },
    {
      "cell_type": "markdown",
      "metadata": {
        "id": "FFbhkoTQ0nqF"
      },
      "source": [
        "### Логистическая регрессия"
      ]
    },
    {
      "cell_type": "code",
      "execution_count": 86,
      "metadata": {
        "id": "7UXgydFsuUqr"
      },
      "outputs": [
        {
          "name": "stdout",
          "output_type": "stream",
          "text": [
            "\n",
            "============================================================\n",
            "Результаты модели: Logistic Regression\n",
            "============================================================\n",
            "Accuracy:      0.9354\n",
            "Macro F1:      0.9354\n",
            "Weighted F1:   0.9354\n",
            "ROC-AUC:       0.9837\n",
            "PR-AUC:        0.9857\n",
            "\n",
            "--- Confusion Matrix ---\n",
            "              Predicted\n",
            "               informal   formal\n",
            "Actual informal      896       79\n",
            "       formal         47      928\n",
            "\n",
            "--- Classification Report ---\n",
            "              precision    recall  f1-score   support\n",
            "\n",
            "    informal       0.95      0.92      0.93       975\n",
            "      formal       0.92      0.95      0.94       975\n",
            "\n",
            "    accuracy                           0.94      1950\n",
            "   macro avg       0.94      0.94      0.94      1950\n",
            "weighted avg       0.94      0.94      0.94      1950\n",
            "\n"
          ]
        }
      ],
      "source": [
        "# Логистическая регрессия\n",
        "#print(\"\\nПодбор гиперпараметров для Logistic Regression...\")\n",
        "#lr_param_grid = {\n",
        "#    'C': [0.1, 1.0, 10.0],\n",
        "#    'penalty': ['l1', 'l2'],\n",
        "#    'solver': ['liblinear', 'saga']\n",
        "#}\n",
        "\n",
        "#lr = LogisticRegression(class_weight='balanced', random_state=42, max_iter=1000)\n",
        "#lr_grid = GridSearchCV(lr, lr_param_grid, cv=3, scoring='f1_macro', n_jobs=-1, verbose=1)\n",
        "#start_time = time.time()\n",
        "#lr_grid.fit(X_train_tfidf, y_train)\n",
        "\n",
        "#print(f\"Подбор завершён за {time.time() - start_time:.2f} сек.\")\n",
        "#print(f\"Лучшие параметры: {lr_grid.best_params_}\")\n",
        "\n",
        "#res_lr = evaluate_and_save_sklearn(lr_grid.best_estimator_, X_test_tfidf, y_test, \"Logistic Regression (Optimized)\", \"models/lr_model.pkl\")\n",
        "\n",
        "lr = LogisticRegression(class_weight='balanced', max_iter=1000, random_state=42)\n",
        "lr.fit(X_train_tfidf, y_train)\n",
        "res_lr = evaluate_and_save_sklearn(lr, X_test_tfidf, y_test, \"Logistic Regression\", \"models/lr_model.pkl\")\n"
      ]
    },
    {
      "cell_type": "markdown",
      "metadata": {
        "id": "zRSjsDYc0rnF"
      },
      "source": [
        "### SVM"
      ]
    },
    {
      "cell_type": "code",
      "execution_count": 88,
      "metadata": {
        "id": "Ccextl_iuXTF"
      },
      "outputs": [
        {
          "name": "stdout",
          "output_type": "stream",
          "text": [
            "\n",
            "============================================================\n",
            "Результаты модели: SVM\n",
            "============================================================\n",
            "Accuracy:      0.9503\n",
            "Macro F1:      0.9503\n",
            "Weighted F1:   0.9503\n",
            "ROC-AUC:       0.9882\n",
            "PR-AUC:        0.9900\n",
            "\n",
            "--- Confusion Matrix ---\n",
            "              Predicted\n",
            "               informal   formal\n",
            "Actual informal      917       58\n",
            "       formal         39      936\n",
            "\n",
            "--- Classification Report ---\n",
            "              precision    recall  f1-score   support\n",
            "\n",
            "    informal       0.96      0.94      0.95       975\n",
            "      formal       0.94      0.96      0.95       975\n",
            "\n",
            "    accuracy                           0.95      1950\n",
            "   macro avg       0.95      0.95      0.95      1950\n",
            "weighted avg       0.95      0.95      0.95      1950\n",
            "\n"
          ]
        }
      ],
      "source": [
        "# SVM\n",
        "#print(\"\\nПодбор гиперпараметров для SVM...\")\n",
        "#svm_param_grid = {\n",
        "#    'C': [0.1, 1.0, 10.0],\n",
        "#    'kernel': ['rbf', 'linear'],\n",
        "#    'gamma': ['scale', 'auto']\n",
        "#}\n",
        "\n",
        "#svm = SVC(class_weight='balanced', probability=True, random_state=42)\n",
        "#svm_rand = RandomizedSearchCV(svm, svm_param_grid, n_iter=5, cv=3, scoring='f1_macro', n_jobs=-1, verbose=1, random_state=42)\n",
        "#start_time = time.time()\n",
        "#svm_rand.fit(X_train_tfidf, y_train)\n",
        "\n",
        "#print(f\"Подбор завершён за {time.time() - start_time:.2f} сек.\")\n",
        "#print(f\"Лучшие параметры: {svm_rand.best_params_}\")\n",
        "\n",
        "#res_svm = evaluate_and_save_sklearn(svm_rand.best_estimator_, X_test_tfidf, y_test, \"SVM (Optimized)\", \"models/svm_model.pkl\")\n",
        "\n",
        "svm = SVC(class_weight='balanced', probability=True, random_state=42)\n",
        "svm.fit(X_train_tfidf, y_train)\n",
        "res_svm = evaluate_and_save_sklearn(svm, X_test_tfidf, y_test, \"SVM\", \"models/svm_model.pkl\")"
      ]
    },
    {
      "cell_type": "markdown",
      "metadata": {
        "id": "2lotRjea0vZj"
      },
      "source": [
        "### Naive Bayes"
      ]
    },
    {
      "cell_type": "code",
      "execution_count": 87,
      "metadata": {
        "id": "pBPjD5WAuZuL"
      },
      "outputs": [
        {
          "name": "stdout",
          "output_type": "stream",
          "text": [
            "\n",
            "============================================================\n",
            "Результаты модели: Naive Bayes\n",
            "============================================================\n",
            "Accuracy:      0.9256\n",
            "Macro F1:      0.9256\n",
            "Weighted F1:   0.9256\n",
            "ROC-AUC:       0.9776\n",
            "PR-AUC:        0.9818\n",
            "\n",
            "--- Confusion Matrix ---\n",
            "              Predicted\n",
            "               informal   formal\n",
            "Actual informal      923       52\n",
            "       formal         93      882\n",
            "\n",
            "--- Classification Report ---\n",
            "              precision    recall  f1-score   support\n",
            "\n",
            "    informal       0.91      0.95      0.93       975\n",
            "      formal       0.94      0.90      0.92       975\n",
            "\n",
            "    accuracy                           0.93      1950\n",
            "   macro avg       0.93      0.93      0.93      1950\n",
            "weighted avg       0.93      0.93      0.93      1950\n",
            "\n"
          ]
        }
      ],
      "source": [
        "# Naive Bayes\n",
        "nb = MultinomialNB()\n",
        "nb.fit(X_train_tfidf, y_train)\n",
        "res_nb = evaluate_and_save_sklearn(nb, X_test_tfidf, y_test, \"Naive Bayes\", \"models/nb_model.pkl\")"
      ]
    },
    {
      "cell_type": "markdown",
      "metadata": {
        "id": "a9QVfFAS00Os"
      },
      "source": [
        "### Ансамбль"
      ]
    },
    {
      "cell_type": "code",
      "execution_count": 89,
      "metadata": {
        "id": "2o3OU8puubwa"
      },
      "outputs": [
        {
          "name": "stdout",
          "output_type": "stream",
          "text": [
            "\n",
            "============================================================\n",
            "Результаты модели: Ensemble\n",
            "============================================================\n",
            "Accuracy:      0.9446\n",
            "Macro F1:      0.9446\n",
            "Weighted F1:   0.9446\n",
            "ROC-AUC:       0.9858\n",
            "PR-AUC:        0.9883\n",
            "\n",
            "--- Confusion Matrix ---\n",
            "              Predicted\n",
            "               informal   formal\n",
            "Actual informal      917       58\n",
            "       formal         50      925\n",
            "\n",
            "--- Classification Report ---\n",
            "              precision    recall  f1-score   support\n",
            "\n",
            "    informal       0.95      0.94      0.94       975\n",
            "      formal       0.94      0.95      0.94       975\n",
            "\n",
            "    accuracy                           0.94      1950\n",
            "   macro avg       0.94      0.94      0.94      1950\n",
            "weighted avg       0.94      0.94      0.94      1950\n",
            "\n"
          ]
        }
      ],
      "source": [
        "# Ансамбль\n",
        "ensemble = VotingClassifier(\n",
        "    #estimators=[('lr', lr_grid.best_estimator_), ('svm', svm_rand.best_estimator_), ('nb', nb)],\n",
        "    estimators=[('lr', lr), ('svm', svm), ('nb', nb)],\n",
        "    voting='soft'\n",
        ")\n",
        "ensemble.fit(X_train_tfidf, y_train)\n",
        "res_ens = evaluate_and_save_sklearn(ensemble, X_test_tfidf, y_test, \"Ensemble\", \"models/ensemble_model.pkl\")"
      ]
    },
    {
      "cell_type": "markdown",
      "metadata": {
        "id": "X2QTjXqx04Qw"
      },
      "source": [
        "### FastText"
      ]
    },
    {
      "cell_type": "code",
      "execution_count": 28,
      "metadata": {
        "id": "IZQu7hqeufnl"
      },
      "outputs": [],
      "source": [
        "# FastText\n",
        "#fasttext_results = None\n",
        "\n",
        "# Подготовка формата FastText\n",
        "#with open(\"train_fasttext.txt\", \"w\", encoding=\"utf-8\") as f:\n",
        "#        for text, label in zip(X_train, y_train):\n",
        "#            ft_label = \"__label__formal\" if label == 1 else \"__label__informal\"\n",
        "#            f.write(f\"{ft_label} {text}\\n\")\n",
        "#with open(\"test_fasttext.txt\", \"w\", encoding=\"utf-8\") as f:\n",
        "#    for text, label in zip(X_test, y_test):\n",
        "#        ft_label = \"__label__formal\" if label == 1 else \"__label__informal\"\n",
        "#        f.write(f\"{ft_label} {text}\\n\")\n",
        "\n",
        "# Обучение\n",
        "#ft_model = fasttext.train_supervised(\"train_fasttext.txt\", epoch=25, lr=1.0, wordNgrams=2, dim=100, loss='ova')\n",
        "#ft_model.save_model(\"models/fasttext_model.bin\")\n",
        "\n",
        "# Оценка\n",
        "#y_pred_ft, y_proba_ft = [], []\n",
        "#for text in X_test:\n",
        "#    labels, probs = ft_model.predict(text, k=2)\n",
        "#    prob_formal = dict(zip(labels, probs)).get(\"__label__formal\", 0.0)\n",
        "#    pred = 1 if prob_formal > 0.5 else 0\n",
        "#    y_pred_ft.append(pred)\n",
        "#    y_proba_ft.append(prob_formal)\n",
        "\n",
        "#y_pred_ft = np.array(y_pred_ft)\n",
        "#y_proba_ft = np.array(y_proba_ft)\n",
        "\n",
        "#acc = accuracy_score(y_test, y_pred_ft)\n",
        "#f1_macro = f1_score(y_test, y_pred_ft, average='macro')\n",
        "#f1_weighted = f1_score(y_test, y_pred_ft, average='weighted')\n",
        "#roc_auc = roc_auc_score(y_test, y_proba_ft)\n",
        "#pr_auc = average_precision_score(y_test, y_proba_ft)\n",
        "#cm = confusion_matrix(y_test, y_pred_ft)\n",
        "\n",
        "#print(f\"\\nFastText (Test):\")\n",
        "#print(f\"  Accuracy: {acc:.4f}\")\n",
        "#print(f\"  Macro F1: {f1_macro:.4f}\")\n",
        "#print(f\"  Weighted F1: {f1_weighted:.4f}\")\n",
        "#print(f\"  ROC-AUC: {roc_auc:.4f}\")\n",
        "#print(f\"  PR-AUC: {pr_auc:.4f}\")\n",
        "#print(f\"  Confusion Matrix:\\n{cm}\")\n",
        "\n",
        "#fasttext_results = {\n",
        "#    'name': 'FastText', 'acc': acc, 'f1_macro': f1_macro,\n",
        "#    'f1_weighted': f1_weighted, 'roc_auc': roc_auc, 'pr_auc': pr_auc, 'cm': cm\n",
        "#}\n"
      ]
    },
    {
      "cell_type": "markdown",
      "metadata": {
        "id": "hTWDGNkEzf_I"
      },
      "source": [
        "## Нейросети  Bi-LSTM и CNN"
      ]
    },
    {
      "cell_type": "code",
      "execution_count": 90,
      "metadata": {
        "colab": {
          "base_uri": "https://localhost:8080/"
        },
        "id": "D-tent3mzk6Z",
        "outputId": "efe77223-1c99-48fb-b5e5-f813981cd794"
      },
      "outputs": [
        {
          "name": "stdout",
          "output_type": "stream",
          "text": [
            "\n",
            "Устройство: cuda\n"
          ]
        }
      ],
      "source": [
        "torch.backends.cudnn.benchmark = True\n",
        "\n",
        "device = torch.device(\"cuda\" if torch.cuda.is_available() else \"cpu\")\n",
        "print(f\"\\nУстройство: {device}\")"
      ]
    },
    {
      "cell_type": "code",
      "execution_count": 91,
      "metadata": {
        "id": "vULKaPR_zyPW"
      },
      "outputs": [],
      "source": [
        "# Подготовка данных\n",
        "def build_vocab(texts, min_freq=2):\n",
        "    from collections import Counter\n",
        "    counter = Counter()\n",
        "    for text in texts:\n",
        "        counter.update(text.split())\n",
        "    vocab = {'<PAD>': 0, '<UNK>': 1}\n",
        "    for word, freq in counter.items():\n",
        "        if freq >= min_freq:\n",
        "            vocab[word] = len(vocab)\n",
        "    return vocab"
      ]
    },
    {
      "cell_type": "code",
      "execution_count": 92,
      "metadata": {
        "id": "kgrx8w9Lzzf7"
      },
      "outputs": [],
      "source": [
        "vocab = build_vocab(X_train)\n",
        "MAX_LEN = 256\n",
        "\n",
        "# Сохранение\n",
        "with open('models/vocab.pkl', 'wb') as f:\n",
        "    pickle.dump(vocab, f)"
      ]
    },
    {
      "cell_type": "code",
      "execution_count": 93,
      "metadata": {
        "id": "GJ6salN_z4dm"
      },
      "outputs": [],
      "source": [
        "def text_to_seq(text, vocab, max_len=MAX_LEN):\n",
        "    seq = [vocab.get(w, vocab['<UNK>']) for w in text.split()]\n",
        "    return seq[:max_len]"
      ]
    },
    {
      "cell_type": "code",
      "execution_count": 94,
      "metadata": {
        "id": "I05Gs-Syz9E6"
      },
      "outputs": [],
      "source": [
        "class TextDataset(Dataset):\n",
        "    def __init__(self, texts, labels, vocab, max_len=MAX_LEN):\n",
        "        self.texts = texts\n",
        "        self.labels = labels\n",
        "        self.vocab = vocab\n",
        "        self.max_len = max_len\n",
        "    def __len__(self): return len(self.texts)\n",
        "    def __getitem__(self, idx):\n",
        "        seq = text_to_seq(self.texts[idx], self.vocab, self.max_len)\n",
        "        return torch.tensor(seq, dtype=torch.long), torch.tensor(self.labels[idx], dtype=torch.long)"
      ]
    },
    {
      "cell_type": "code",
      "execution_count": 95,
      "metadata": {
        "id": "qh_OCFaFz9zd"
      },
      "outputs": [],
      "source": [
        "def collate_fn(batch):\n",
        "    texts, labels = zip(*batch)\n",
        "    texts_padded = pad_sequence(texts, batch_first=True, padding_value=0)\n",
        "    return texts_padded, torch.stack(labels)"
      ]
    },
    {
      "cell_type": "code",
      "execution_count": 96,
      "metadata": {
        "id": "v1xm8K-B0BoD"
      },
      "outputs": [],
      "source": [
        "train_dataset = TextDataset(X_train, y_train, vocab)\n",
        "val_dataset = TextDataset(X_val, y_val, vocab)\n",
        "test_dataset = TextDataset(X_test, y_test, vocab)\n",
        "\n",
        "train_loader = DataLoader(train_dataset, batch_size=64, shuffle=True, collate_fn=collate_fn, pin_memory=True, num_workers=0)\n",
        "val_loader = DataLoader(val_dataset, batch_size=64, shuffle=False, collate_fn=collate_fn, pin_memory=True, num_workers=0)\n",
        "test_loader = DataLoader(test_dataset, batch_size=64, shuffle=False, collate_fn=collate_fn, pin_memory=True, num_workers=0)"
      ]
    },
    {
      "cell_type": "code",
      "execution_count": 97,
      "metadata": {
        "id": "MS0e3b1D5dAZ"
      },
      "outputs": [],
      "source": [
        "# Валидация\n",
        "def validate_model(model, val_loader, criterion, device):\n",
        "    model.eval()\n",
        "    val_loss = 0\n",
        "    all_preds, all_labels = [], []\n",
        "\n",
        "    with torch.no_grad():\n",
        "        for texts, labels in val_loader:\n",
        "            texts, labels = texts.to(device), labels.to(device)\n",
        "            outputs = model(texts)\n",
        "            loss = criterion(outputs, labels)\n",
        "            val_loss += loss.item()\n",
        "            preds = outputs.argmax(dim=1)\n",
        "            all_preds.extend(preds.cpu().numpy())\n",
        "            all_labels.extend(labels.cpu().numpy())\n",
        "\n",
        "    val_loss /= len(val_loader)\n",
        "    acc = accuracy_score(all_labels, all_preds)\n",
        "    f1_macro = f1_score(all_labels, all_preds, average='macro')\n",
        "\n",
        "    return val_loss, acc, f1_macro, all_labels, all_preds"
      ]
    },
    {
      "cell_type": "code",
      "execution_count": 98,
      "metadata": {
        "id": "DgyCpYfU5tLE"
      },
      "outputs": [],
      "source": [
        "# Обучение с логами и графиками\n",
        "def train(model, train_loader, val_loader, optimizer, criterion, device, epochs, model_name, patience=3):\n",
        "    model.to(device)\n",
        "    \n",
        "    train_losses = []\n",
        "    val_losses = []\n",
        "    val_accuracies = []\n",
        "    val_f1s = []\n",
        "\n",
        "    best_f1 = 0\n",
        "    trigger_times = 0\n",
        "\n",
        "    print(f\"\\nОбучение {model_name}...\")\n",
        "    for epoch in range(epochs):\n",
        "        # Обучение\n",
        "        model.train()\n",
        "        total_train_loss = 0\n",
        "        for texts, labels in tqdm(train_loader, desc=f\"Epoch {epoch+1}/{epochs}\", leave=False):\n",
        "            texts, labels = texts.to(device), labels.to(device)\n",
        "            optimizer.zero_grad()\n",
        "            outputs = model(texts)\n",
        "            loss = criterion(outputs, labels)\n",
        "            loss.backward()\n",
        "            optimizer.step()\n",
        "            total_train_loss += loss.item()\n",
        "        avg_train_loss = total_train_loss / len(train_loader)\n",
        "        train_losses.append(avg_train_loss)\n",
        "\n",
        "        # Валидация\n",
        "        val_loss, val_acc, val_f1, val_true, val_pred = validate_model(model, val_loader, criterion, device)\n",
        "        val_losses.append(val_loss)\n",
        "        val_accuracies.append(val_acc)\n",
        "        val_f1s.append(val_f1)\n",
        "\n",
        "        print(f\"Epoch {epoch+1}/{epochs} | \"\n",
        "              f\"Train Loss: {avg_train_loss:.4f} | \"\n",
        "              f\"Val Loss: {val_loss:.4f} | \"\n",
        "              f\"Val Acc: {val_acc:.4f} | \"\n",
        "              f\"Val Macro F1: {val_f1:.4f}\")\n",
        "\n",
        "        # Early Stopping\n",
        "        if val_f1 > best_f1:\n",
        "            best_f1 = val_f1\n",
        "            trigger_times = 0\n",
        "            torch.save(model.state_dict(), f\"models/{model_name.lower().replace(' ', '_')}_best.pth\")\n",
        "            joblib.dump(model.state_dict(), f\"models/{model_name.lower().replace(' ', '_')}_best.pkl\")\n",
        "            print(\"Сохранена лучшая модель!\")\n",
        "        else:\n",
        "            trigger_times += 1\n",
        "            if trigger_times >= patience:\n",
        "                print(f\"Early stopping на эпохе {epoch+1}\")\n",
        "                break\n",
        "\n",
        "    # --- Графики ---\n",
        "    plt.figure(figsize=(15, 4))\n",
        "    plt.subplot(1, 3, 1)\n",
        "    plt.plot(train_losses, label='Train Loss', marker='o')\n",
        "    plt.plot(val_losses, label='Val Loss', marker='o')\n",
        "    plt.title(f'{model_name}: Loss')\n",
        "    plt.xlabel('Epoch'); plt.ylabel('Loss'); plt.legend(); plt.grid(True)\n",
        "\n",
        "    plt.subplot(1, 3, 2)\n",
        "    plt.plot(val_accuracies, color='green', marker='s')\n",
        "    plt.title(f'{model_name}: Val Accuracy')\n",
        "    plt.xlabel('Epoch'); plt.ylabel('Accuracy'); plt.grid(True)\n",
        "\n",
        "    plt.subplot(1, 3, 3)\n",
        "    plt.plot(val_f1s, color='purple', marker='^')\n",
        "    plt.title(f'{model_name}: Val Macro F1')\n",
        "    plt.xlabel('Epoch'); plt.ylabel('Macro F1'); plt.grid(True)\n",
        "\n",
        "    plt.tight_layout()\n",
        "    plt.savefig(f\"models/{model_name.lower().replace(' ', '_')}_training.png\", dpi=150)\n",
        "    plt.show()\n",
        "\n",
        "    return train_losses, val_losses, val_accuracies, val_f1s"
      ]
    },
    {
      "cell_type": "markdown",
      "metadata": {
        "id": "V5sp-ybw0_36"
      },
      "source": [
        "### Bi-LSTM"
      ]
    },
    {
      "cell_type": "code",
      "execution_count": 99,
      "metadata": {
        "id": "5DILj-Bv1FXG"
      },
      "outputs": [],
      "source": [
        "class BiLSTMClassifier(nn.Module):\n",
        "    def __init__(self, vocab_size, embed_dim=128, hidden_dim=64, num_classes=2):\n",
        "        super().__init__()\n",
        "        self.embedding = nn.Embedding(vocab_size, embed_dim, padding_idx=0)\n",
        "        self.lstm = nn.LSTM(embed_dim, hidden_dim, bidirectional=True, batch_first=True)\n",
        "        self.fc = nn.Linear(hidden_dim * 2, num_classes)\n",
        "        self.dropout = nn.Dropout(0.5)\n",
        "    def forward(self, x):\n",
        "        x = self.embedding(x)\n",
        "        _, (h_n, _) = self.lstm(x)\n",
        "        out = torch.cat([h_n[-2], h_n[-1]], dim=1)\n",
        "        return self.fc(self.dropout(out))"
      ]
    },
    {
      "cell_type": "code",
      "execution_count": 100,
      "metadata": {
        "colab": {
          "base_uri": "https://localhost:8080/",
          "height": 1000
        },
        "id": "iDHil_WF1H2s",
        "outputId": "e2701f93-aebb-4d34-fee4-3ea32d14f870"
      },
      "outputs": [
        {
          "name": "stdout",
          "output_type": "stream",
          "text": [
            "\n",
            "Обучение Bi-LSTM...\n"
          ]
        },
        {
          "name": "stderr",
          "output_type": "stream",
          "text": [
            "                                                             \r"
          ]
        },
        {
          "name": "stdout",
          "output_type": "stream",
          "text": [
            "Epoch 1/6 | Train Loss: 0.3889 | Val Loss: 0.1477 | Val Acc: 0.9533 | Val Macro F1: 0.9533\n",
            "Сохранена лучшая модель!\n"
          ]
        },
        {
          "name": "stderr",
          "output_type": "stream",
          "text": [
            "                                                             \r"
          ]
        },
        {
          "name": "stdout",
          "output_type": "stream",
          "text": [
            "Epoch 2/6 | Train Loss: 0.1244 | Val Loss: 0.1101 | Val Acc: 0.9620 | Val Macro F1: 0.9620\n",
            "Сохранена лучшая модель!\n"
          ]
        },
        {
          "name": "stderr",
          "output_type": "stream",
          "text": [
            "                                                             \r"
          ]
        },
        {
          "name": "stdout",
          "output_type": "stream",
          "text": [
            "Epoch 3/6 | Train Loss: 0.0785 | Val Loss: 0.0903 | Val Acc: 0.9708 | Val Macro F1: 0.9708\n",
            "Сохранена лучшая модель!\n"
          ]
        },
        {
          "name": "stderr",
          "output_type": "stream",
          "text": [
            "                                                             \r"
          ]
        },
        {
          "name": "stdout",
          "output_type": "stream",
          "text": [
            "Epoch 4/6 | Train Loss: 0.0530 | Val Loss: 0.0857 | Val Acc: 0.9728 | Val Macro F1: 0.9728\n",
            "Сохранена лучшая модель!\n"
          ]
        },
        {
          "name": "stderr",
          "output_type": "stream",
          "text": [
            "                                                             \r"
          ]
        },
        {
          "name": "stdout",
          "output_type": "stream",
          "text": [
            "Epoch 5/6 | Train Loss: 0.0407 | Val Loss: 0.0917 | Val Acc: 0.9697 | Val Macro F1: 0.9697\n"
          ]
        },
        {
          "name": "stderr",
          "output_type": "stream",
          "text": [
            "                                                             \r"
          ]
        },
        {
          "name": "stdout",
          "output_type": "stream",
          "text": [
            "Epoch 6/6 | Train Loss: 0.0623 | Val Loss: 0.0925 | Val Acc: 0.9682 | Val Macro F1: 0.9682\n"
          ]
        },
        {
          "data": {
            "image/png": "[encoded data removed]",
            "text/plain": [
              "<Figure size 1500x400 with 3 Axes>"
            ]
          },
          "metadata": {},
          "output_type": "display_data"
        },
        {
          "data": {
            "text/plain": [
              "([0.388943078869081,\n",
              "  0.12440847324116247,\n",
              "  0.07852409924608428,\n",
              "  0.053026504492243894,\n",
              "  0.04070267706484228,\n",
              "  0.062326111039472415],\n",
              " [0.14772303306287335,\n",
              "  0.11012549518096831,\n",
              "  0.09033470246339997,\n",
              "  0.0857174632500016,\n",
              "  0.09165295713671273,\n",
              "  0.09245239775026998],\n",
              " [0.9533093894304772,\n",
              "  0.9620318111852232,\n",
              "  0.9707542329399692,\n",
              "  0.9728065674704977,\n",
              "  0.9697280656747049,\n",
              "  0.9681888147768086],\n",
              " [0.953305406635693,\n",
              "  0.9620115598897533,\n",
              "  0.9707542329399692,\n",
              "  0.9728063097511823,\n",
              "  0.9697254834231417,\n",
              "  0.9681857913138716])"
            ]
          },
          "execution_count": 100,
          "metadata": {},
          "output_type": "execute_result"
        }
      ],
      "source": [
        "bilstm = BiLSTMClassifier(len(vocab)).to(device)\n",
        "optimizer_bilstm = torch.optim.Adam(bilstm.parameters(), lr=1e-3, weight_decay=1e-4)\n",
        "criterion = nn.CrossEntropyLoss()\n",
        "\n",
        "train(\n",
        "    model=bilstm,\n",
        "    train_loader=train_loader,\n",
        "    val_loader=val_loader,\n",
        "    optimizer=optimizer_bilstm,\n",
        "    criterion=criterion,\n",
        "    device=device,\n",
        "    epochs=6,\n",
        "    model_name=\"Bi-LSTM\",\n",
        "    patience=3\n",
        ")"
      ]
    },
    {
      "cell_type": "markdown",
      "metadata": {
        "id": "9scC56LP6j0b"
      },
      "source": [
        "### CNN"
      ]
    },
    {
      "cell_type": "code",
      "execution_count": 101,
      "metadata": {
        "id": "afJApfjk6oOc"
      },
      "outputs": [],
      "source": [
        "class CNNClassifier(nn.Module):\n",
        "    def __init__(self, vocab_size, embed_dim=128, num_classes=2, num_filters=50, filter_sizes=[3,4,5]):\n",
        "        super().__init__()\n",
        "        self.embedding = nn.Embedding(vocab_size, embed_dim, padding_idx=0)\n",
        "        self.convs = nn.ModuleList([nn.Conv1d(embed_dim, num_filters, fs) for fs in filter_sizes])\n",
        "        self.fc = nn.Linear(len(filter_sizes) * num_filters, num_classes)\n",
        "        self.dropout = nn.Dropout(0.5)\n",
        "    def forward(self, x):\n",
        "        x = self.embedding(x).permute(0, 2, 1)\n",
        "        conv_outs = [F.relu(conv(x)) for conv in self.convs]\n",
        "        pooled = [F.max_pool1d(c, c.size(-1)).squeeze(-1) for c in conv_outs]\n",
        "        x = torch.cat(pooled, dim=1)\n",
        "        return self.fc(self.dropout(x))"
      ]
    },
    {
      "cell_type": "code",
      "execution_count": 102,
      "metadata": {
        "colab": {
          "base_uri": "https://localhost:8080/",
          "height": 1000
        },
        "id": "mTEpin5w6o3h",
        "outputId": "93ab01ef-dc04-429e-afb1-1f307dd27a9e"
      },
      "outputs": [
        {
          "name": "stdout",
          "output_type": "stream",
          "text": [
            "\n",
            "Обучение CNN...\n"
          ]
        },
        {
          "name": "stderr",
          "output_type": "stream",
          "text": [
            "                                                            \r"
          ]
        },
        {
          "name": "stdout",
          "output_type": "stream",
          "text": [
            "Epoch 1/6 | Train Loss: 0.3451 | Val Loss: 0.1583 | Val Acc: 0.9461 | Val Macro F1: 0.9461\n",
            "Сохранена лучшая модель!\n"
          ]
        },
        {
          "name": "stderr",
          "output_type": "stream",
          "text": [
            "                                                            \r"
          ]
        },
        {
          "name": "stdout",
          "output_type": "stream",
          "text": [
            "Epoch 2/6 | Train Loss: 0.1464 | Val Loss: 0.1238 | Val Acc: 0.9559 | Val Macro F1: 0.9559\n",
            "Сохранена лучшая модель!\n"
          ]
        },
        {
          "name": "stderr",
          "output_type": "stream",
          "text": [
            "                                                            \r"
          ]
        },
        {
          "name": "stdout",
          "output_type": "stream",
          "text": [
            "Epoch 3/6 | Train Loss: 0.1023 | Val Loss: 0.1096 | Val Acc: 0.9610 | Val Macro F1: 0.9610\n",
            "Сохранена лучшая модель!\n"
          ]
        },
        {
          "name": "stderr",
          "output_type": "stream",
          "text": [
            "                                                            \r"
          ]
        },
        {
          "name": "stdout",
          "output_type": "stream",
          "text": [
            "Epoch 4/6 | Train Loss: 0.0826 | Val Loss: 0.1037 | Val Acc: 0.9656 | Val Macro F1: 0.9656\n",
            "Сохранена лучшая модель!\n"
          ]
        },
        {
          "name": "stderr",
          "output_type": "stream",
          "text": [
            "                                                            \r"
          ]
        },
        {
          "name": "stdout",
          "output_type": "stream",
          "text": [
            "Epoch 5/6 | Train Loss: 0.0654 | Val Loss: 0.0995 | Val Acc: 0.9646 | Val Macro F1: 0.9646\n"
          ]
        },
        {
          "name": "stderr",
          "output_type": "stream",
          "text": [
            "                                                            \r"
          ]
        },
        {
          "name": "stdout",
          "output_type": "stream",
          "text": [
            "Epoch 6/6 | Train Loss: 0.0532 | Val Loss: 0.0988 | Val Acc: 0.9636 | Val Macro F1: 0.9636\n"
          ]
        },
        {
          "data": {
            "image/png": "[encoded data removed]",
            "text/plain": [
              "<Figure size 1500x400 with 3 Axes>"
            ]
          },
          "metadata": {},
          "output_type": "display_data"
        },
        {
          "data": {
            "text/plain": [
              "([0.3450781911403149,\n",
              "  0.14640363191182798,\n",
              "  0.10225549811770866,\n",
              "  0.08264406812312147,\n",
              "  0.06539865254287745,\n",
              "  0.05316891173109204],\n",
              " [0.15832786670615595,\n",
              "  0.12378396442340266,\n",
              "  0.10957735031843185,\n",
              "  0.10372718423604965,\n",
              "  0.09948160367146615,\n",
              "  0.09881562355064577],\n",
              " [0.9461262185736276,\n",
              "  0.9558748075936377,\n",
              "  0.9610056439199589,\n",
              "  0.965623396613648,\n",
              "  0.9645972293483838,\n",
              "  0.9635710620831196],\n",
              " [0.9460680642139093,\n",
              "  0.9558738666638587,\n",
              "  0.9610019377395846,\n",
              "  0.9656232518161367,\n",
              "  0.9645942094270639,\n",
              "  0.963564578026159])"
            ]
          },
          "execution_count": 102,
          "metadata": {},
          "output_type": "execute_result"
        }
      ],
      "source": [
        "cnn = CNNClassifier(len(vocab)).to(device)\n",
        "optimizer_cnn = torch.optim.Adam(cnn.parameters(), lr=1e-3, weight_decay=1e-4)\n",
        "criterion = nn.CrossEntropyLoss()\n",
        "\n",
        "train(\n",
        "    model=cnn,\n",
        "    train_loader=train_loader,\n",
        "    val_loader=val_loader,\n",
        "    optimizer=optimizer_cnn,\n",
        "    criterion=criterion,\n",
        "    device=device,\n",
        "    epochs=6,\n",
        "    model_name=\"CNN\",\n",
        "    patience=3\n",
        ")"
      ]
    },
    {
      "cell_type": "code",
      "execution_count": 103,
      "metadata": {
        "id": "bIL7IMty6vFm"
      },
      "outputs": [],
      "source": [
        "# Оценка на тесте\n",
        "def evaluate_torch_model_with_metrics(model, loader, device, model_name):\n",
        "    model.eval()\n",
        "    all_preds, all_probs, all_labels = [], [], []\n",
        "    with torch.no_grad():\n",
        "        for texts, labels in loader:\n",
        "            texts, labels = texts.to(device), labels.to(device)\n",
        "            outputs = model(texts)\n",
        "            probs = F.softmax(outputs, dim=1)\n",
        "            preds = outputs.argmax(dim=1)\n",
        "            all_preds.extend(preds.cpu().numpy())\n",
        "            all_probs.extend(probs[:, 1].cpu().numpy())\n",
        "            all_labels.extend(labels.cpu().numpy())\n",
        "\n",
        "    y_true = np.array(all_labels)\n",
        "    y_pred = np.array(all_preds)\n",
        "    y_proba = np.array(all_probs)\n",
        "\n",
        "    # Метрики\n",
        "    acc = accuracy_score(y_true, y_pred)\n",
        "    f1_macro = f1_score(y_true, y_pred, average='macro')\n",
        "    f1_weighted = f1_score(y_true, y_pred, average='weighted')\n",
        "    roc_auc = roc_auc_score(y_true, y_proba)\n",
        "    pr_auc = average_precision_score(y_true, y_proba)\n",
        "    cm = confusion_matrix(y_true, y_pred)\n",
        "\n",
        "    # Вывод\n",
        "    print(f\"\\n=== Результаты модели: {model_name} ===\")\n",
        "    print(f\"Accuracy: {acc:.4f}\")\n",
        "    print(f\"Macro F1: {f1_macro:.4f}\")\n",
        "    print(f\"Weighted F1: {f1_weighted:.4f}\")\n",
        "    print(f\"ROC-AUC: {roc_auc:.4f}\")\n",
        "    print(f\"PR-AUC: {pr_auc:.4f}\")\n",
        "\n",
        "    print(\"\\n--- Confusion Matrix ---\")\n",
        "    print(\"          Predicted\")\n",
        "    print(\"           Informal Formal\")\n",
        "    print(f\"Actual Informal   {cm[0][0]:>6} {cm[0][1]:>6}\")\n",
        "    print(f\"       Formal     {cm[1][0]:>6} {cm[1][1]:>6}\")\n",
        "\n",
        "    print(\"\\n--- Classification Report ---\")\n",
        "    target_names = ['informal', 'formal']\n",
        "    print(classification_report(y_true, y_pred, target_names=target_names))\n",
        "\n",
        "    return {\n",
        "        \"name\": model_name,\n",
        "        \"acc\": acc,\n",
        "        \"f1_macro\": f1_macro,\n",
        "        \"f1_weighted\": f1_weighted,\n",
        "        \"roc_auc\": roc_auc,\n",
        "        \"pr_auc\": pr_auc,\n",
        "        \"cm\": cm\n",
        "    }\n"
      ]
    },
    {
      "cell_type": "code",
      "execution_count": 104,
      "metadata": {
        "colab": {
          "base_uri": "https://localhost:8080/"
        },
        "id": "lxbKX5Lu62kx",
        "outputId": "37e3bd78-7a9c-4f37-8860-ceb7a16e38e7"
      },
      "outputs": [
        {
          "name": "stdout",
          "output_type": "stream",
          "text": [
            "\n",
            "=== Результаты модели: Bi-LSTM ===\n",
            "Accuracy: 0.9646\n",
            "Macro F1: 0.9646\n",
            "Weighted F1: 0.9646\n",
            "ROC-AUC: 0.9945\n",
            "PR-AUC: 0.9942\n",
            "\n",
            "--- Confusion Matrix ---\n",
            "          Predicted\n",
            "           Informal Formal\n",
            "Actual Informal      933     42\n",
            "       Formal         27    948\n",
            "\n",
            "--- Classification Report ---\n",
            "              precision    recall  f1-score   support\n",
            "\n",
            "    informal       0.97      0.96      0.96       975\n",
            "      formal       0.96      0.97      0.96       975\n",
            "\n",
            "    accuracy                           0.96      1950\n",
            "   macro avg       0.96      0.96      0.96      1950\n",
            "weighted avg       0.96      0.96      0.96      1950\n",
            "\n"
          ]
        }
      ],
      "source": [
        "# Оценка\n",
        "res_bilstm = evaluate_torch_model_with_metrics(bilstm, test_loader, device, \"Bi-LSTM\")"
      ]
    },
    {
      "cell_type": "code",
      "execution_count": 105,
      "metadata": {
        "colab": {
          "base_uri": "https://localhost:8080/"
        },
        "id": "n0DYyfFK66aB",
        "outputId": "61807e53-c07a-43cb-eda9-e12ef727fda7"
      },
      "outputs": [
        {
          "name": "stdout",
          "output_type": "stream",
          "text": [
            "\n",
            "=== Результаты модели: CNN ===\n",
            "Accuracy: 0.9682\n",
            "Macro F1: 0.9682\n",
            "Weighted F1: 0.9682\n",
            "ROC-AUC: 0.9959\n",
            "PR-AUC: 0.9960\n",
            "\n",
            "--- Confusion Matrix ---\n",
            "          Predicted\n",
            "           Informal Formal\n",
            "Actual Informal      932     43\n",
            "       Formal         19    956\n",
            "\n",
            "--- Classification Report ---\n",
            "              precision    recall  f1-score   support\n",
            "\n",
            "    informal       0.98      0.96      0.97       975\n",
            "      formal       0.96      0.98      0.97       975\n",
            "\n",
            "    accuracy                           0.97      1950\n",
            "   macro avg       0.97      0.97      0.97      1950\n",
            "weighted avg       0.97      0.97      0.97      1950\n",
            "\n"
          ]
        }
      ],
      "source": [
        "res_cnn = evaluate_torch_model_with_metrics(cnn, test_loader, device, \"CNN\")"
      ]
    },
    {
      "cell_type": "markdown",
      "metadata": {
        "id": "C0oxXUr4dDq3"
      },
      "source": [
        "#  Fine-tuning BERT"
      ]
    },
    {
      "cell_type": "code",
      "execution_count": 106,
      "metadata": {
        "id": "xjBHOhx5dE_e"
      },
      "outputs": [],
      "source": [
        "model_name = \"DeepPavlov/rubert-base-cased\"\n",
        "tokenizer = AutoTokenizer.from_pretrained(model_name)"
      ]
    },
    {
      "cell_type": "code",
      "execution_count": 107,
      "metadata": {
        "colab": {
          "base_uri": "https://localhost:8080/"
        },
        "id": "7g_N1m5edVaM",
        "outputId": "aa47ae1e-d41e-469a-a6c0-b108ab05a26f"
      },
      "outputs": [
        {
          "name": "stdout",
          "output_type": "stream",
          "text": [
            "Кодирование текстов для BERT...\n"
          ]
        }
      ],
      "source": [
        "def encode_texts(texts, tokenizer, max_length=512):\n",
        "    return tokenizer(texts, truncation=True, padding=True, max_length=max_length, return_tensors='pt')\n",
        "\n",
        "print(\"Кодирование текстов для BERT...\")\n",
        "\n",
        "# Train\n",
        "train_enc = encode_texts(X_train, tokenizer)\n",
        "train_dataset_bert = TensorDataset(\n",
        "    train_enc['input_ids'], train_enc['attention_mask'],\n",
        "    torch.tensor(y_train, dtype=torch.long)\n",
        ")\n",
        "\n",
        "# Val\n",
        "val_enc = encode_texts(X_val, tokenizer)\n",
        "val_dataset_bert = TensorDataset(\n",
        "    val_enc['input_ids'], val_enc['attention_mask'],\n",
        "    torch.tensor(y_val, dtype=torch.long)\n",
        ")\n",
        "\n",
        "# Test\n",
        "test_enc = encode_texts(X_test, tokenizer)\n",
        "test_dataset_bert = TensorDataset(\n",
        "    test_enc['input_ids'], test_enc['attention_mask'],\n",
        "    torch.tensor(y_test, dtype=torch.long)\n",
        ")"
      ]
    },
    {
      "cell_type": "code",
      "execution_count": 108,
      "metadata": {
        "id": "JZnGMoE_daM2"
      },
      "outputs": [],
      "source": [
        "train_loader_bert = DataLoader(train_dataset_bert, batch_size=16, shuffle=True, pin_memory=True, num_workers=0)\n",
        "val_loader_bert = DataLoader(val_dataset_bert, batch_size=16, shuffle=False, pin_memory=True, num_workers=0)\n",
        "test_loader_bert = DataLoader(test_dataset_bert, batch_size=16, shuffle=False, pin_memory=True, num_workers=0)"
      ]
    },
    {
      "cell_type": "code",
      "execution_count": 109,
      "metadata": {
        "id": "bUHrl_YGdgsv"
      },
      "outputs": [],
      "source": [
        "class BERTClassifier(nn.Module):\n",
        "    def __init__(self, bert_model, num_classes=2):\n",
        "        super().__init__()\n",
        "        self.bert = bert_model\n",
        "        self.dropout = nn.Dropout(0.5)\n",
        "        self.classifier = nn.Linear(bert_model.config.hidden_size, num_classes)\n",
        "    def forward(self, input_ids, attention_mask):\n",
        "        outputs = self.bert(input_ids=input_ids, attention_mask=attention_mask)\n",
        "        return self.classifier(self.dropout(outputs.pooler_output))"
      ]
    },
    {
      "cell_type": "code",
      "execution_count": 110,
      "metadata": {
        "colab": {
          "base_uri": "https://localhost:8080/",
          "height": 49,
          "referenced_widgets": [
            "bc610435d4b9421ea10f47e6fc20f42a",
            "279b7c62f96840c39bba19522f40e289",
            "3870db55b96442948c6906e7deddd991",
            "948248a13e6c4ed69d341ca0545dba45",
            "8d6d6ad4a24a4b79acd961666cf49029",
            "c8c35efcd50745349040e9c16ba382b8",
            "6645e9aeb0d2445f9a84e2a4b8f67d61",
            "e537449539b747d999487bfc79ef46d7",
            "6594fd89453a445184830d38feda8ee5",
            "2dd09946fdfd48e680ed887912f20de4",
            "5cd1b0dba95a4719819e62eb9a16f8c6"
          ]
        },
        "id": "LcCpE7iMdjhy",
        "outputId": "0f7890c1-2552-49be-b418-5334f775a64b"
      },
      "outputs": [
        {
          "name": "stderr",
          "output_type": "stream",
          "text": [
            "Some weights of the model checkpoint at DeepPavlov/rubert-base-cased were not used when initializing BertModel: ['cls.predictions.bias', 'cls.predictions.transform.LayerNorm.bias', 'cls.predictions.transform.LayerNorm.weight', 'cls.predictions.transform.dense.bias', 'cls.predictions.transform.dense.weight', 'cls.seq_relationship.bias', 'cls.seq_relationship.weight']\n",
            "- This IS expected if you are initializing BertModel from the checkpoint of a model trained on another task or with another architecture (e.g. initializing a BertForSequenceClassification model from a BertForPreTraining model).\n",
            "- This IS NOT expected if you are initializing BertModel from the checkpoint of a model that you expect to be exactly identical (initializing a BertForSequenceClassification model from a BertForSequenceClassification model).\n"
          ]
        }
      ],
      "source": [
        "bert_backbone = AutoModel.from_pretrained(model_name, use_safetensors=True)\n",
        "model_bert = BERTClassifier(bert_backbone).to(device)\n",
        "optimizer = AdamW(model_bert.parameters(), lr=1e-5, weight_decay=0.01)\n",
        "criterion = nn.CrossEntropyLoss()"
      ]
    },
    {
      "cell_type": "code",
      "execution_count": 111,
      "metadata": {},
      "outputs": [],
      "source": [
        "# Сохранение\n",
        "tokenizer.save_pretrained(\"models/rubert_tokenizer\")\n",
        "bert_backbone.save_pretrained(\"models/rubert_backbone\")"
      ]
    },
    {
      "cell_type": "code",
      "execution_count": 112,
      "metadata": {
        "id": "ys9rEOqWHuWx"
      },
      "outputs": [],
      "source": [
        "# Списки для графиков\n",
        "train_losses = []\n",
        "val_losses = []\n",
        "val_f1s = []\n",
        "\n",
        "# Вспомогательная функция валидации\n",
        "def validate_bert(model, val_loader, criterion, device):\n",
        "    model.eval()\n",
        "    total_loss = 0\n",
        "    all_preds, all_labels = [], []\n",
        "    with torch.no_grad():\n",
        "        for batch in val_loader:\n",
        "            input_ids, attention_mask, labels = [b.to(device) for b in batch]\n",
        "            outputs = model(input_ids, attention_mask)\n",
        "            loss = criterion(outputs, labels)\n",
        "            total_loss += loss.item()\n",
        "            preds = outputs.argmax(dim=1)\n",
        "            all_preds.extend(preds.cpu().numpy())\n",
        "            all_labels.extend(labels.cpu().numpy())\n",
        "    avg_loss = total_loss / len(val_loader)\n",
        "    f1 = f1_score(all_labels, all_preds, average='macro')\n",
        "    return avg_loss, f1, all_labels, all_preds"
      ]
    },
    {
      "cell_type": "code",
      "execution_count": 113,
      "metadata": {
        "id": "QXyihEsidnDP"
      },
      "outputs": [
        {
          "name": "stdout",
          "output_type": "stream",
          "text": [
            "\n",
            "Fine-tuning RuBERT...\n"
          ]
        },
        {
          "name": "stderr",
          "output_type": "stream",
          "text": [
            "Epoch 1/2: 100%|██████████| 569/569 [02:54<00:00,  3.27it/s]\n"
          ]
        },
        {
          "name": "stdout",
          "output_type": "stream",
          "text": [
            "Epoch 1/2 | Train Loss: 0.0546 | Val Loss: 0.0156 | Val Macro F1: 0.9954\n",
            "Сохранена лучшая модель!\n"
          ]
        },
        {
          "name": "stderr",
          "output_type": "stream",
          "text": [
            "Epoch 2/2: 100%|██████████| 569/569 [02:54<00:00,  3.27it/s]\n"
          ]
        },
        {
          "name": "stdout",
          "output_type": "stream",
          "text": [
            "Epoch 2/2 | Train Loss: 0.0086 | Val Loss: 0.0110 | Val Macro F1: 0.9969\n",
            "Сохранена лучшая модель!\n"
          ]
        },
        {
          "data": {
            "image/png": "[encoded data removed]",
            "text/plain": [
              "<Figure size 1200x400 with 2 Axes>"
            ]
          },
          "metadata": {},
          "output_type": "display_data"
        }
      ],
      "source": [
        "# Обучение с графиками\n",
        "best_f1 = 0\n",
        "patience = 2\n",
        "trigger_times = 0\n",
        "num_epochs = 2\n",
        "\n",
        "print(\"\\nFine-tuning RuBERT...\")\n",
        "for epoch in range(num_epochs):\n",
        "    # Обучение\n",
        "    model_bert.train()\n",
        "    total_train_loss = 0\n",
        "    for batch in tqdm(train_loader_bert, desc=f\"Epoch {epoch+1}/{num_epochs}\"):\n",
        "        input_ids, attention_mask, labels = [b.to(device, non_blocking=True) for b in batch]\n",
        "        optimizer.zero_grad()\n",
        "        outputs = model_bert(input_ids, attention_mask)\n",
        "        loss = criterion(outputs, labels)\n",
        "        loss.backward()\n",
        "        optimizer.step()\n",
        "        total_train_loss += loss.item()\n",
        "    avg_train_loss = total_train_loss / len(train_loader_bert)\n",
        "    train_losses.append(avg_train_loss)\n",
        "\n",
        "    # Валидация\n",
        "    val_loss, val_f1, _, _ = validate_bert(model_bert, val_loader_bert, criterion, device)\n",
        "    val_losses.append(val_loss)\n",
        "    val_f1s.append(val_f1)\n",
        "\n",
        "    print(f\"Epoch {epoch+1}/{num_epochs} | Train Loss: {avg_train_loss:.4f} | Val Loss: {val_loss:.4f} | Val Macro F1: {val_f1:.4f}\")\n",
        "\n",
        "    # Early Stopping\n",
        "    if val_f1 > best_f1:\n",
        "        best_f1 = val_f1\n",
        "        trigger_times = 0\n",
        "        torch.save(model_bert.state_dict(), \"models/bert_classifier_best.pth\")\n",
        "        joblib.dump(model_bert.state_dict(), \"models/bert_classifier_best.pkl\")\n",
        "        print(\"Сохранена лучшая модель!\")\n",
        "    else:\n",
        "        trigger_times += 1\n",
        "        if trigger_times >= patience:\n",
        "            print(\"Early stopping!\")\n",
        "            break\n",
        "\n",
        "# Графики обучения для BERT\n",
        "plt.figure(figsize=(12, 4))\n",
        "\n",
        "plt.subplot(1, 2, 1)\n",
        "plt.plot(train_losses, label='Train Loss', marker='o')\n",
        "plt.plot(val_losses, label='Val Loss', marker='o')\n",
        "plt.title('RuBERT: Loss')\n",
        "plt.xlabel('Epoch')\n",
        "plt.ylabel('Loss')\n",
        "plt.legend()\n",
        "plt.grid(True)\n",
        "\n",
        "plt.subplot(1, 2, 2)\n",
        "plt.plot(val_f1s, label='Val Macro F1', color='purple', marker='^')\n",
        "plt.title('RuBERT: Validation Macro F1')\n",
        "plt.xlabel('Epoch')\n",
        "plt.ylabel('Macro F1')\n",
        "plt.grid(True)\n",
        "\n",
        "plt.tight_layout()\n",
        "plt.savefig(\"models/bert_training.png\", dpi=150)\n",
        "plt.show()"
      ]
    },
    {
      "cell_type": "code",
      "execution_count": 114,
      "metadata": {},
      "outputs": [],
      "source": [
        "def evaluate_bert_with_metrics(model, loader, device, model_name):\n",
        "    model.eval()\n",
        "    all_preds, all_probs, all_labels = [], [], []\n",
        "    with torch.no_grad():\n",
        "        for input_ids, attention_mask, labels in loader:\n",
        "            input_ids = input_ids.to(device)\n",
        "            attention_mask = attention_mask.to(device)\n",
        "            labels = labels.to(device)\n",
        "\n",
        "            # Передаем в модель оба тензора\n",
        "            outputs = model(input_ids, attention_mask)\n",
        "\n",
        "            probs = F.softmax(outputs, dim=1)\n",
        "            preds = outputs.argmax(dim=1)\n",
        "            all_preds.extend(preds.cpu().numpy())\n",
        "            all_probs.extend(probs[:, 1].cpu().numpy())\n",
        "            all_labels.extend(labels.cpu().numpy())\n",
        "\n",
        "    y_true = np.array(all_labels)\n",
        "    y_pred = np.array(all_preds)\n",
        "    y_proba = np.array(all_probs)\n",
        "\n",
        "    # Метрики\n",
        "    acc = accuracy_score(y_true, y_pred)\n",
        "    f1_macro = f1_score(y_true, y_pred, average='macro')\n",
        "    f1_weighted = f1_score(y_true, y_pred, average='weighted')\n",
        "    roc_auc = roc_auc_score(y_true, y_proba)\n",
        "    pr_auc = average_precision_score(y_true, y_proba)\n",
        "    cm = confusion_matrix(y_true, y_pred)\n",
        "\n",
        "    # Вывод\n",
        "    print(f\"\\n=== Результаты модели: {model_name} ===\")\n",
        "    print(f\"Accuracy: {acc:.4f}\")\n",
        "    print(f\"Macro F1: {f1_macro:.4f}\")\n",
        "    print(f\"Weighted F1: {f1_weighted:.4f}\")\n",
        "    print(f\"ROC-AUC: {roc_auc:.4f}\")\n",
        "    print(f\"PR-AUC: {pr_auc:.4f}\")\n",
        "\n",
        "    print(\"\\n--- Confusion Matrix ---\")\n",
        "    print(\"          Predicted\")\n",
        "    print(\"           Informal Formal\")\n",
        "    print(f\"Actual Informal   {cm[0][0]:>6} {cm[0][1]:>6}\")\n",
        "    print(f\"       Formal     {cm[1][0]:>6} {cm[1][1]:>6}\")\n",
        "\n",
        "    print(\"\\n--- Classification Report ---\")\n",
        "    target_names = ['informal', 'formal']\n",
        "    print(classification_report(y_true, y_pred, target_names=target_names))\n",
        "\n",
        "    return {\n",
        "        \"name\": model_name,\n",
        "        \"acc\": acc,\n",
        "        \"f1_macro\": f1_macro,\n",
        "        \"f1_weighted\": f1_weighted,\n",
        "        \"roc_auc\": roc_auc,\n",
        "        \"pr_auc\": pr_auc,\n",
        "        \"cm\": cm\n",
        "    }"
      ]
    },
    {
      "cell_type": "code",
      "execution_count": 115,
      "metadata": {
        "id": "XZi2yIKadsPd"
      },
      "outputs": [
        {
          "name": "stdout",
          "output_type": "stream",
          "text": [
            "\n",
            "=== Результаты модели: RuBERT ===\n",
            "Accuracy: 0.9938\n",
            "Macro F1: 0.9938\n",
            "Weighted F1: 0.9938\n",
            "ROC-AUC: 0.9999\n",
            "PR-AUC: 0.9999\n",
            "\n",
            "--- Confusion Matrix ---\n",
            "          Predicted\n",
            "           Informal Formal\n",
            "Actual Informal      972      3\n",
            "       Formal          9    966\n",
            "\n",
            "--- Classification Report ---\n",
            "              precision    recall  f1-score   support\n",
            "\n",
            "    informal       0.99      1.00      0.99       975\n",
            "      formal       1.00      0.99      0.99       975\n",
            "\n",
            "    accuracy                           0.99      1950\n",
            "   macro avg       0.99      0.99      0.99      1950\n",
            "weighted avg       0.99      0.99      0.99      1950\n",
            "\n"
          ]
        }
      ],
      "source": [
        "# Оценка\n",
        "res_bert = evaluate_bert_with_metrics(model_bert, test_loader_bert, device, \"RuBERT\")"
      ]
    },
    {
      "cell_type": "markdown",
      "metadata": {
        "id": "4RHpQ-v8d_gv"
      },
      "source": [
        "# Сводка и анализ"
      ]
    },
    {
      "cell_type": "code",
      "execution_count": 116,
      "metadata": {
        "id": "GQYJqLWzeBCZ"
      },
      "outputs": [],
      "source": [
        "# Собираем все результаты\n",
        "all_results = [\n",
        "    res_lr,\n",
        "    res_svm,\n",
        "    res_nb,\n",
        "    res_ens,\n",
        "    res_bilstm,\n",
        "    res_cnn,\n",
        "    res_bert\n",
        "]"
      ]
    },
    {
      "cell_type": "code",
      "execution_count": 117,
      "metadata": {
        "id": "JLKY7ZxJejnt"
      },
      "outputs": [
        {
          "name": "stdout",
          "output_type": "stream",
          "text": [
            "\n",
            "Сводная таблица моделей (сортировка по Macro F1):\n"
          ]
        },
        {
          "data": {
            "text/html": [
              "<div>\n",
              "<style scoped>\n",
              "    .dataframe tbody tr th:only-of-type {\n",
              "        vertical-align: middle;\n",
              "    }\n",
              "\n",
              "    .dataframe tbody tr th {\n",
              "        vertical-align: top;\n",
              "    }\n",
              "\n",
              "    .dataframe thead th {\n",
              "        text-align: right;\n",
              "    }\n",
              "</style>\n",
              "<table border=\"1\" class=\"dataframe\">\n",
              "  <thead>\n",
              "    <tr style=\"text-align: right;\">\n",
              "      <th></th>\n",
              "      <th>name</th>\n",
              "      <th>acc</th>\n",
              "      <th>f1_macro</th>\n",
              "      <th>f1_weighted</th>\n",
              "      <th>roc_auc</th>\n",
              "      <th>pr_auc</th>\n",
              "    </tr>\n",
              "  </thead>\n",
              "  <tbody>\n",
              "    <tr>\n",
              "      <th>0</th>\n",
              "      <td>Logistic Regression</td>\n",
              "      <td>0.935385</td>\n",
              "      <td>0.935367</td>\n",
              "      <td>0.935367</td>\n",
              "      <td>0.983701</td>\n",
              "      <td>0.985718</td>\n",
              "    </tr>\n",
              "    <tr>\n",
              "      <th>1</th>\n",
              "      <td>SVM</td>\n",
              "      <td>0.950256</td>\n",
              "      <td>0.950252</td>\n",
              "      <td>0.950252</td>\n",
              "      <td>0.988216</td>\n",
              "      <td>0.989999</td>\n",
              "    </tr>\n",
              "    <tr>\n",
              "      <th>2</th>\n",
              "      <td>Naive Bayes</td>\n",
              "      <td>0.925641</td>\n",
              "      <td>0.925608</td>\n",
              "      <td>0.925608</td>\n",
              "      <td>0.977619</td>\n",
              "      <td>0.981846</td>\n",
              "    </tr>\n",
              "    <tr>\n",
              "      <th>3</th>\n",
              "      <td>Ensemble</td>\n",
              "      <td>0.944615</td>\n",
              "      <td>0.944614</td>\n",
              "      <td>0.944614</td>\n",
              "      <td>0.985755</td>\n",
              "      <td>0.988254</td>\n",
              "    </tr>\n",
              "    <tr>\n",
              "      <th>4</th>\n",
              "      <td>Bi-LSTM</td>\n",
              "      <td>0.964615</td>\n",
              "      <td>0.964613</td>\n",
              "      <td>0.964613</td>\n",
              "      <td>0.994454</td>\n",
              "      <td>0.994227</td>\n",
              "    </tr>\n",
              "    <tr>\n",
              "      <th>5</th>\n",
              "      <td>CNN</td>\n",
              "      <td>0.968205</td>\n",
              "      <td>0.968200</td>\n",
              "      <td>0.968200</td>\n",
              "      <td>0.995897</td>\n",
              "      <td>0.996035</td>\n",
              "    </tr>\n",
              "    <tr>\n",
              "      <th>6</th>\n",
              "      <td>RuBERT</td>\n",
              "      <td>0.993846</td>\n",
              "      <td>0.993846</td>\n",
              "      <td>0.993846</td>\n",
              "      <td>0.999871</td>\n",
              "      <td>0.999873</td>\n",
              "    </tr>\n",
              "  </tbody>\n",
              "</table>\n",
              "</div>"
            ],
            "text/plain": [
              "                  name       acc  f1_macro  f1_weighted   roc_auc    pr_auc\n",
              "0  Logistic Regression  0.935385  0.935367     0.935367  0.983701  0.985718\n",
              "1                  SVM  0.950256  0.950252     0.950252  0.988216  0.989999\n",
              "2          Naive Bayes  0.925641  0.925608     0.925608  0.977619  0.981846\n",
              "3             Ensemble  0.944615  0.944614     0.944614  0.985755  0.988254\n",
              "4              Bi-LSTM  0.964615  0.964613     0.964613  0.994454  0.994227\n",
              "5                  CNN  0.968205  0.968200     0.968200  0.995897  0.996035\n",
              "6               RuBERT  0.993846  0.993846     0.993846  0.999871  0.999873"
            ]
          },
          "execution_count": 117,
          "metadata": {},
          "output_type": "execute_result"
        }
      ],
      "source": [
        "# Сводная таблица\n",
        "summary_df = pd.DataFrame([{k: v for k, v in r.items() if k != 'cm'} for r in all_results])\n",
        "print(\"\\nСводная таблица моделей (сортировка по Macro F1):\")\n",
        "summary_df.sort_values('f1_macro', ascending=False).to_string(index=False)\n",
        "summary_df"
      ]
    },
    {
      "cell_type": "code",
      "execution_count": 118,
      "metadata": {
        "id": "0zHZakVKes1F"
      },
      "outputs": [
        {
          "name": "stdout",
          "output_type": "stream",
          "text": [
            "\n",
            "Лучшая модель: RuBERT (Macro F1 = 0.9938)\n"
          ]
        }
      ],
      "source": [
        "# Лучшая модель\n",
        "best_model = max(all_results, key=lambda x: x['f1_macro'])\n",
        "print(f\"\\nЛучшая модель: {best_model['name']} (Macro F1 = {best_model['f1_macro']:.4f})\")"
      ]
    },
    {
      "cell_type": "code",
      "execution_count": 119,
      "metadata": {
        "id": "QVGGe2NGeuP7"
      },
      "outputs": [
        {
          "name": "stdout",
          "output_type": "stream",
          "text": [
            "\n",
            "Примеры ошибок RuBERT:\n",
            "Текст: Билефельд, Западная Германия Дорогой мистер Холмс, я хотел узнать, не могли бы Вы приехать ко мне в школу? Занятия начинаются в следующем месяце. Туда очень легко добраться на лодке, а обедать Вы могли бы в нашей столовой. Вы можете остановиться в моей комнате....\n",
            "Истинный: formal → Предсказанный: informal\n",
            "\n",
            "Текст: Это был комментарий к материалу Это был комментарий к материалу Это был комментарий к курсу Это был комментарий к материалу Это были комментарии к курсу Это был комментарий к материалу Это был комментарий к материалу Это был комментарий к материалу Это был комментарий к материалу Мы выдумали ответ стоматология для всей семьи ....\n",
            "Истинный: formal → Предсказанный: informal\n",
            "\n",
            "Текст: К сожалению, эта игра не работает на мобильных устройствах, воспользуйтесь компьютером...\n",
            "Истинный: formal → Предсказанный: informal\n",
            "\n"
          ]
        }
      ],
      "source": [
        "# Примеры ошибок (на примере RuBERT)\n",
        "if best_model['name'] == 'RuBERT':\n",
        "    model_bert.eval()\n",
        "    errors = []\n",
        "    for i, batch in enumerate(test_loader_bert):\n",
        "        input_ids, attention_mask, labels = [b.to(device) for b in batch]\n",
        "        with torch.no_grad():\n",
        "            outputs = model_bert(input_ids, attention_mask)\n",
        "            preds = outputs.argmax(dim=1)\n",
        "        for j in range(len(labels)):\n",
        "            if preds[j] != labels[j]:\n",
        "                idx = i * 16 + j\n",
        "                if idx < len(X_test):\n",
        "                    text = X_test[idx]\n",
        "                    true_label = \"formal\" if labels[j].item() == 1 else \"informal\"\n",
        "                    pred_label = \"formal\" if preds[j].item() == 1 else \"informal\"\n",
        "                    errors.append((text, true_label, pred_label))\n",
        "                    if len(errors) >= 3:\n",
        "                        break\n",
        "        if len(errors) >= 3:\n",
        "            break\n",
        "\n",
        "    print(\"\\nПримеры ошибок RuBERT:\")\n",
        "    for text, true, pred in errors:\n",
        "        print(f\"Текст: {text}...\")\n",
        "        print(f\"Истинный: {true} → Предсказанный: {pred}\\n\")"
      ]
    },
    {
      "cell_type": "markdown",
      "metadata": {
        "id": "xqfZSx-Ee1-C"
      },
      "source": [
        "# Анализ причин ошибок\n",
        "Возможные причины ошибок:\n",
        "* Смешанный стиль (официальный текст с разговорными вставками)\n",
        "* Очень короткие тексты (<5 слов) — мало контекста\n",
        "* Использование формальных конструкций в неформальном контексте (ирония, цитаты)* Тексты длиной >512 токенов (BERT обрезает их)\n",
        "* Недостаток разнообразия в обучающей выборке для редких случаев\n",
        "* Высокая вариативность разговорной речи (сленг, эмодзи, опечатки)"
      ]
    },
    {
      "cell_type": "markdown",
      "metadata": {},
      "source": [
        "# Проверка"
      ]
    },
    {
      "cell_type": "code",
      "execution_count": 120,
      "metadata": {},
      "outputs": [],
      "source": [
        "class TextDataset(Dataset):\n",
        "    def __init__(self, texts, labels=None, vocab=None, max_len=256):\n",
        "        self.texts = texts\n",
        "        self.labels = labels\n",
        "        self.vocab = vocab or {}\n",
        "        self.max_len = max_len\n",
        "\n",
        "    def __len__(self):\n",
        "        return len(self.texts)\n",
        "\n",
        "    def __getitem__(self, idx):\n",
        "        seq = [self.vocab.get(w, self.vocab.get('<UNK>', 1)) for w in self.texts[idx].split()]\n",
        "        seq = seq[:self.max_len]\n",
        "        if len(seq) < self.max_len:\n",
        "            seq += [self.vocab['<PAD>']] * (self.max_len - len(seq))\n",
        "        if self.labels is not None:\n",
        "            return torch.tensor(seq, dtype=torch.long), torch.tensor(self.labels[idx], dtype=torch.long)\n",
        "        return torch.tensor(seq, dtype=torch.long)\n",
        "\n",
        "def text_to_seq(text, vocab, max_len=256):\n",
        "    seq = [vocab.get(w, vocab['<UNK>']) for w in text.split()]\n",
        "    return seq[:max_len] + [vocab['<PAD>']] * max(0, max_len - len(seq))\n",
        "\n",
        "# Загрузка моделей\n",
        "def load_classical_model(path):\n",
        "    return joblib.load(path)\n",
        "\n",
        "def load_torch_model(model_class, path, **kwargs):\n",
        "    model = model_class(**kwargs)\n",
        "    model.load_state_dict(torch.load(path, map_location=torch.device('cpu'), weights_only=True))\n",
        "    model.eval()\n",
        "    return model\n",
        "\n",
        "def load_vocab(path):\n",
        "    with open(path, 'rb') as f:\n",
        "        return pickle.load(f)\n",
        "\n",
        "def load_rubert_model():\n",
        "    tokenizer = AutoTokenizer.from_pretrained(\"models/rubert_tokenizer\")\n",
        "    bert_backbone = AutoModel.from_pretrained(\"models/rubert_backbone\")\n",
        "    model = BERTClassifier(bert_backbone, num_classes=2)\n",
        "    model.load_state_dict(torch.load(\"models/bert_classifier_best.pth\", map_location=torch.device('cpu'), weights_only=True))\n",
        "    model.eval()\n",
        "    return model, tokenizer"
      ]
    },
    {
      "cell_type": "code",
      "execution_count": 121,
      "metadata": {},
      "outputs": [],
      "source": [
        "test_texts = [\n",
        "    \"Уважаемый клиент, благодарим за обращение в нашу компанию.\",\n",
        "    \"Привет! Как дела? Давай встретимся сегодня вечером!\",\n",
        "    \"В соответствии с постановлением Правительства РФ от 15.03.2023...\",\n",
        "    \"Короче, я в шоке от этого фильма, реально зашло!\",\n",
        "    \"Докладная записка: по факту нарушения трудовой дисциплины...\",\n",
        "    \"Эй, чё как? Ты видел последний выпуск? Круто же!\",\n",
        "    \"Приказываю произвести списание товарно-материальных ценностей.\",\n",
        "    \"Ну ты и лох, как можно такое ляпнуть?))\",\n",
        "]\n",
        "\n",
        "y_true = [1, 0, 1, 0, 1, 0, 1, 0]  # 1 – formal, 0 – informal"
      ]
    },
    {
      "cell_type": "code",
      "execution_count": 122,
      "metadata": {},
      "outputs": [
        {
          "name": "stdout",
          "output_type": "stream",
          "text": [
            "Загрузка моделей...\n",
            "\n",
            "Предсказания моделей:\n",
            "\n",
            "Текст                                                        | Истина | LR | SVM | NB | Ens | BiLSTM | CNN | RuBERT\n",
            "--------------------------------------------------------------------------------------------------------------------------------------------\n",
            "Уважаемый клиент, благодарим за обращение в нашу компанию.   |      1 |   0 |   0 |   0 |   0 |       0 |   0 |      1\n",
            "Привет! Как дела? Давай встретимся сегодня вечером!          |      0 |   0 |   0 |   0 |   0 |       0 |   0 |      0\n",
            "В соответствии с постановлением Правительства РФ от 15.03... |      1 |   1 |   1 |   1 |   1 |       0 |   1 |      1\n",
            "Короче, я в шоке от этого фильма, реально зашло!             |      0 |   0 |   0 |   0 |   0 |       0 |   0 |      0\n",
            "Докладная записка: по факту нарушения трудовой дисциплины... |      1 |   1 |   1 |   1 |   1 |       0 |   0 |      0\n",
            "Эй, чё как? Ты видел последний выпуск? Круто же!             |      0 |   0 |   0 |   0 |   0 |       0 |   0 |      0\n",
            "Приказываю произвести списание товарно-материальных ценно... |      1 |   0 |   0 |   0 |   0 |       0 |   0 |      0\n",
            "Ну ты и лох, как можно такое ляпнуть?))                      |      0 |   0 |   0 |   0 |   0 |       0 |   0 |      0\n"
          ]
        }
      ],
      "source": [
        "device = torch.device('cpu')\n",
        "\n",
        "# Загрузка моделей  \n",
        "print(\"Загрузка моделей...\")\n",
        "\n",
        "# Классические\n",
        "lr = load_classical_model(\"models/lr_model.pkl\")\n",
        "svm = load_classical_model(\"models/svm_model.pkl\")\n",
        "nb = load_classical_model(\"models/nb_model.pkl\")\n",
        "ensemble = load_classical_model(\"models/ensemble_model.pkl\")\n",
        "\n",
        "# TF-IDF векторизатор\n",
        "vectorizer = joblib.load(\"models/tfidf_vectorizer.pkl\")\n",
        "\n",
        "# Bi-LSTM / CNN\n",
        "with open(\"models/vocab.pkl\", \"rb\") as f:\n",
        "    vocab = pickle.load(f)\n",
        "\n",
        "bilstm = load_torch_model(BiLSTMClassifier, \"models/bi-lstm_best.pth\", vocab_size=len(vocab))\n",
        "cnn = load_torch_model(CNNClassifier, \"models/cnn_best.pth\", vocab_size=len(vocab))\n",
        "\n",
        "# RuBERT\n",
        "rubert_model, rubert_tokenizer = load_rubert_model()\n",
        "\n",
        "# Векторизация текстов\n",
        "X_test_vec = vectorizer.transform(test_texts)\n",
        "\n",
        "# DataLoader для нейросетей\n",
        "def create_loader(texts, vocab, batch_size=8):\n",
        "    dataset = TextDataset(texts, vocab=vocab, max_len=256)\n",
        "    return DataLoader(dataset, batch_size=batch_size, shuffle=False)\n",
        "\n",
        "test_loader_lstm = create_loader(test_texts, vocab)\n",
        "test_loader_cnn = create_loader(test_texts, vocab)\n",
        "\n",
        "def predict_torch(model, loader, device):\n",
        "    preds = []\n",
        "    with torch.no_grad():\n",
        "        for batch in loader:\n",
        "            if isinstance(batch, tuple):\n",
        "                x = batch[0].to(device)\n",
        "            else:\n",
        "                x = batch.to(device)\n",
        "            out = model(x)\n",
        "            pred = out.argmax(dim=1).cpu().numpy()\n",
        "            preds.extend(pred)\n",
        "    return preds\n",
        "\n",
        "# Предсказания\n",
        "print(\"\\nПредсказания моделей:\\n\")\n",
        "print(f\"{'Текст':<60} | {'Истина'} | {'LR'} | {'SVM'} | {'NB'} | {'Ens'} | {'BiLSTM'} | {'CNN'} | {'RuBERT'}\")\n",
        "print(\"-\" * 140)\n",
        "\n",
        "lr_pred = lr.predict(X_test_vec)\n",
        "svm_pred = svm.predict(X_test_vec)\n",
        "nb_pred = nb.predict(X_test_vec)\n",
        "ens_pred = ensemble.predict(X_test_vec)\n",
        "bilstm_pred = predict_torch(bilstm, test_loader_lstm, device)\n",
        "cnn_pred = predict_torch(cnn, test_loader_cnn, device)\n",
        "\n",
        "# RuBERT\n",
        "def predict_rubert(texts, model, tokenizer, device, max_len=512):\n",
        "    model.eval()\n",
        "    preds = []\n",
        "    with torch.no_grad():\n",
        "        for text in texts:\n",
        "            enc = tokenizer(text, truncation=True, padding='max_length', max_length=max_len, return_tensors='pt')\n",
        "            input_ids = enc['input_ids'].to(device)\n",
        "            attention_mask = enc['attention_mask'].to(device)\n",
        "            logits = model(input_ids, attention_mask)\n",
        "            pred = logits.argmax(dim=1).item()\n",
        "            preds.append(pred)\n",
        "    return preds\n",
        "\n",
        "rubert_pred = predict_rubert(test_texts, rubert_model, rubert_tokenizer, device)\n",
        "\n",
        "for i, text in enumerate(test_texts):\n",
        "    short_text = (text[:57] + '...') if len(text) > 60 else text\n",
        "    print(f\"{short_text:<60} | {y_true[i]:>6} | {lr_pred[i]:>3} | {svm_pred[i]:>3} | {nb_pred[i]:>3} | {ens_pred[i]:>3} | {bilstm_pred[i]:>7} | {cnn_pred[i]:>3} | {rubert_pred[i]:>6}\")"
      ]
    },
    {
      "cell_type": "markdown",
      "metadata": {},
      "source": [
        "# Выводы\n",
        "\n",
        "Мы собрали единый датасет из различных датасетов, почистили тексты, добавили метки, а также сделали его сбалансированным и достаточно большим — по 6497 тысячи примеров на каждый стиль, что дало моделям отличную основу для обучения. В целом, работа с данными прошла очень успешно. Все этапы — от EDA до финальной оценки — показали, что задача классификации стиля (разговорный vs официальный) на русском языке решается неплохо. \n",
        "\n",
        "В общем, по результатам обучения и тестирования всех моделей для классификации текстов на разговорный (informal) и официально-деловой (formal) стили можно сказать следующее: лидирующие позиции безоговорочно заняли две трансформерные модели — RuBERT и CNN. RuBERT показала просто феноменальные метрики, особенно по Macro F1 (0.9938) и ROC AUC (0.9998), что говорит о её исключительной способности точно различать оба класса, даже если они несбалансированы. Визуально это подтверждается графиками обучения: loss устойчиво снижается, а validation Macro F1 растёт почти до идеального значения, что указывает на отсутствие переобучения и высокую обобщающую способность. CNN тоже сработала отлично, чуть уступив RuBERT по всем метрикам, но всё равно показав отличные результаты (Macro F1 0.9682). Это говорит о том, что даже относительно простые архитектуры вроде свёрточных сетей могут быть очень эффективны для задач NLP, если правильно настроить.\n",
        "\n",
        "Среди \"классических\" моделей лучшей оказалась Logistic Regression, которая, хоть и уступает нейросетям, показала весьма достойный результат (Macro F1 0.9353). SVM и Naive Bayes оказались немного хуже, но всё ещё на хорошем уровне. Ансамблевая модель Ensemble, как и ожидалось, собрала в себе сильные стороны базовых алгоритмов и показала результат, близкий к линейной регрессии. Что касается Bi-LSTM, то она также показала хорошие результаты (Macro F1 0.9646), но при этом графики обучения выглядят менее стабильно: после 3-й эпохи точность и F1 начинают немного падать, что может указывать на начало переобучения или на необходимость более тонкой настройки гиперпараметров.\n",
        "\n",
        "Анализ конкретных ошибок RuBERT показал, что модель иногда путает очень короткие или шаблонные фразы, которые могут звучать формально, но используются в неформальном контексте, например, \"К сожалению, эта игра не работает на мобильных устройствах...\". Также видно, что модель уверенно справляется с явно разговорными оборотами (\"Ну ты и лох\", \"Круто же!\"), но может ошибиться, если текст содержит смешанный стиль или является техническим комментарием, который формально оформлен, но по сути несет информационную нагрузку, а не деловую. В целом, для практического использования в продакшене лучше всего подойдёт RuBERT из-за её максимальной точности и надёжности, хотя для быстрого прототипирования или в условиях ограниченных ресурсов можно рассмотреть Logistic Regression или CNN.# Выводы\n",
        "\n",
        "Мы собрали единый датасет из различных датасетов, почистили тексты, добавили метки, а также сделали его сбалансированным и достаточно большим — по 6497 тысячи примеров на каждый стиль, что дало моделям отличную основу для обучения. В целом, работа с данными прошла очень успешно. Все этапы — от EDA до финальной оценки — показали, что задача классификации стиля (разговорный vs официальный) на русском языке решается неплохо. \n",
        "\n",
        "В общем, по результатам обучения и тестирования всех моделей для классификации текстов на разговорный (informal) и официально-деловой (formal) стили можно сказать следующее: лидирующие позиции безоговорочно заняли две трансформерные модели — RuBERT и CNN. RuBERT показала просто феноменальные метрики, особенно по Macro F1 (0.9938) и ROC AUC (0.9998), что говорит о её исключительной способности точно различать оба класса, даже если они несбалансированы. Визуально это подтверждается графиками обучения: loss устойчиво снижается, а validation Macro F1 растёт почти до идеального значения, что указывает на отсутствие переобучения и высокую обобщающую способность. CNN тоже сработала отлично, чуть уступив RuBERT по всем метрикам, но всё равно показав отличные результаты (Macro F1 0.9682). Это говорит о том, что даже относительно простые архитектуры вроде свёрточных сетей могут быть очень эффективны для задач NLP, если правильно настроить.\n",
        "\n",
        "Среди \"классических\" моделей лучшей оказалась Logistic Regression, которая, хоть и уступает нейросетям, показала весьма достойный результат (Macro F1 0.9353). SVM и Naive Bayes оказались немного хуже, но всё ещё на хорошем уровне. Ансамблевая модель Ensemble, как и ожидалось, собрала в себе сильные стороны базовых алгоритмов и показала результат, близкий к линейной регрессии. Что касается Bi-LSTM, то она также показала хорошие результаты (Macro F1 0.9646), но при этом графики обучения выглядят менее стабильно: после 3-й эпохи точность и F1 начинают немного падать, что может указывать на начало переобучения или на необходимость более тонкой настройки гиперпараметров.\n",
        "\n",
        "Анализ конкретных ошибок RuBERT показал, что модель иногда путает очень короткие или шаблонные фразы, которые могут звучать формально, но используются в неформальном контексте, например, \"К сожалению, эта игра не работает на мобильных устройствах...\". Также видно, что модель уверенно справляется с явно разговорными оборотами (\"Ну ты и лох\", \"Круто же!\"), но может ошибиться, если текст содержит смешанный стиль или является техническим комментарием, который формально оформлен, но по сути несет информационную нагрузку, а не деловую. В целом, для практического использования в продакшене лучше всего подойдёт RuBERT из-за её максимальной точности и надёжности, хотя для быстрого прототипирования или в условиях ограниченных ресурсов можно рассмотреть Logistic Regression или CNN."
      ]
    }
  ],
  "metadata": {
    "accelerator": "GPU",
    "colab": {
      "gpuType": "T4",
      "provenance": []
    },
    "kernelspec": {
      "display_name": "venv",
      "language": "python",
      "name": "python3"
    },
    "language_info": {
      "codemirror_mode": {
        "name": "ipython",
        "version": 3
      },
      "file_extension": ".py",
      "mimetype": "text/x-python",
      "name": "python",
      "nbconvert_exporter": "python",
      "pygments_lexer": "ipython3",
      "version": "3.12.10"
    },
    "widgets": {
      "application/vnd.jupyter.widget-state+json": {
        "02296f5676d44e5fb53f02019bffa1d0": {
          "model_module": "@jupyter-widgets/controls",
          "model_module_version": "1.5.0",
          "model_name": "HTMLModel",
          "state": {
            "_dom_classes": [],
            "_model_module": "@jupyter-widgets/controls",
            "_model_module_version": "1.5.0",
            "_model_name": "HTMLModel",
            "_view_count": null,
            "_view_module": "@jupyter-widgets/controls",
            "_view_module_version": "1.5.0",
            "_view_name": "HTMLView",
            "description": "",
            "description_tooltip": null,
            "layout": "IPY_MODEL_2a25e8722b29472487cae6bb538817fa",
            "placeholder": "​",
            "style": "IPY_MODEL_27f2febbd5cd4ebe9d0049c27b694d9d",
            "value": "vocab.txt: "
          }
        },
        "0c48ccf1bc11451b8ed775f947da6bea": {
          "model_module": "@jupyter-widgets/controls",
          "model_module_version": "1.5.0",
          "model_name": "HTMLModel",
          "state": {
            "_dom_classes": [],
            "_model_module": "@jupyter-widgets/controls",
            "_model_module_version": "1.5.0",
            "_model_name": "HTMLModel",
            "_view_count": null,
            "_view_module": "@jupyter-widgets/controls",
            "_view_module_version": "1.5.0",
            "_view_name": "HTMLView",
            "description": "",
            "description_tooltip": null,
            "layout": "IPY_MODEL_818cc70a93c243eb964b4b4010741ae3",
            "placeholder": "​",
            "style": "IPY_MODEL_9327fea9afbd4855919041796e6cbb05",
            "value": " 112/112 [00:00&lt;00:00, 12.4kB/s]"
          }
        },
        "0fcec5fcf40842f8b3928d7c0d070934": {
          "model_module": "@jupyter-widgets/base",
          "model_module_version": "1.2.0",
          "model_name": "LayoutModel",
          "state": {
            "_model_module": "@jupyter-widgets/base",
            "_model_module_version": "1.2.0",
            "_model_name": "LayoutModel",
            "_view_count": null,
            "_view_module": "@jupyter-widgets/base",
            "_view_module_version": "1.2.0",
            "_view_name": "LayoutView",
            "align_content": null,
            "align_items": null,
            "align_self": null,
            "border": null,
            "bottom": null,
            "display": null,
            "flex": null,
            "flex_flow": null,
            "grid_area": null,
            "grid_auto_columns": null,
            "grid_auto_flow": null,
            "grid_auto_rows": null,
            "grid_column": null,
            "grid_gap": null,
            "grid_row": null,
            "grid_template_areas": null,
            "grid_template_columns": null,
            "grid_template_rows": null,
            "height": null,
            "justify_content": null,
            "justify_items": null,
            "left": null,
            "margin": null,
            "max_height": null,
            "max_width": null,
            "min_height": null,
            "min_width": null,
            "object_fit": null,
            "object_position": null,
            "order": null,
            "overflow": null,
            "overflow_x": null,
            "overflow_y": null,
            "padding": null,
            "right": null,
            "top": null,
            "visibility": null,
            "width": "20px"
          }
        },
        "1aab3b47776e4bf1b10ca5736e3dc5a0": {
          "model_module": "@jupyter-widgets/controls",
          "model_module_version": "1.5.0",
          "model_name": "HTMLModel",
          "state": {
            "_dom_classes": [],
            "_model_module": "@jupyter-widgets/controls",
            "_model_module_version": "1.5.0",
            "_model_name": "HTMLModel",
            "_view_count": null,
            "_view_module": "@jupyter-widgets/controls",
            "_view_module_version": "1.5.0",
            "_view_name": "HTMLView",
            "description": "",
            "description_tooltip": null,
            "layout": "IPY_MODEL_e6b903b66bc3415b8280fb6ca24d112c",
            "placeholder": "​",
            "style": "IPY_MODEL_c9be9e62259648caabc5ed2252f409ff",
            "value": " 24.0/24.0 [00:00&lt;00:00, 2.53kB/s]"
          }
        },
        "279b7c62f96840c39bba19522f40e289": {
          "model_module": "@jupyter-widgets/controls",
          "model_module_version": "1.5.0",
          "model_name": "HTMLModel",
          "state": {
            "_dom_classes": [],
            "_model_module": "@jupyter-widgets/controls",
            "_model_module_version": "1.5.0",
            "_model_name": "HTMLModel",
            "_view_count": null,
            "_view_module": "@jupyter-widgets/controls",
            "_view_module_version": "1.5.0",
            "_view_name": "HTMLView",
            "description": "",
            "description_tooltip": null,
            "layout": "IPY_MODEL_c8c35efcd50745349040e9c16ba382b8",
            "placeholder": "​",
            "style": "IPY_MODEL_6645e9aeb0d2445f9a84e2a4b8f67d61",
            "value": "pytorch_model.bin:  44%"
          }
        },
        "27f2febbd5cd4ebe9d0049c27b694d9d": {
          "model_module": "@jupyter-widgets/controls",
          "model_module_version": "1.5.0",
          "model_name": "DescriptionStyleModel",
          "state": {
            "_model_module": "@jupyter-widgets/controls",
            "_model_module_version": "1.5.0",
            "_model_name": "DescriptionStyleModel",
            "_view_count": null,
            "_view_module": "@jupyter-widgets/base",
            "_view_module_version": "1.2.0",
            "_view_name": "StyleView",
            "description_width": ""
          }
        },
        "2a25e8722b29472487cae6bb538817fa": {
          "model_module": "@jupyter-widgets/base",
          "model_module_version": "1.2.0",
          "model_name": "LayoutModel",
          "state": {
            "_model_module": "@jupyter-widgets/base",
            "_model_module_version": "1.2.0",
            "_model_name": "LayoutModel",
            "_view_count": null,
            "_view_module": "@jupyter-widgets/base",
            "_view_module_version": "1.2.0",
            "_view_name": "LayoutView",
            "align_content": null,
            "align_items": null,
            "align_self": null,
            "border": null,
            "bottom": null,
            "display": null,
            "flex": null,
            "flex_flow": null,
            "grid_area": null,
            "grid_auto_columns": null,
            "grid_auto_flow": null,
            "grid_auto_rows": null,
            "grid_column": null,
            "grid_gap": null,
            "grid_row": null,
            "grid_template_areas": null,
            "grid_template_columns": null,
            "grid_template_rows": null,
            "height": null,
            "justify_content": null,
            "justify_items": null,
            "left": null,
            "margin": null,
            "max_height": null,
            "max_width": null,
            "min_height": null,
            "min_width": null,
            "object_fit": null,
            "object_position": null,
            "order": null,
            "overflow": null,
            "overflow_x": null,
            "overflow_y": null,
            "padding": null,
            "right": null,
            "top": null,
            "visibility": null,
            "width": null
          }
        },
        "2dd09946fdfd48e680ed887912f20de4": {
          "model_module": "@jupyter-widgets/base",
          "model_module_version": "1.2.0",
          "model_name": "LayoutModel",
          "state": {
            "_model_module": "@jupyter-widgets/base",
            "_model_module_version": "1.2.0",
            "_model_name": "LayoutModel",
            "_view_count": null,
            "_view_module": "@jupyter-widgets/base",
            "_view_module_version": "1.2.0",
            "_view_name": "LayoutView",
            "align_content": null,
            "align_items": null,
            "align_self": null,
            "border": null,
            "bottom": null,
            "display": null,
            "flex": null,
            "flex_flow": null,
            "grid_area": null,
            "grid_auto_columns": null,
            "grid_auto_flow": null,
            "grid_auto_rows": null,
            "grid_column": null,
            "grid_gap": null,
            "grid_row": null,
            "grid_template_areas": null,
            "grid_template_columns": null,
            "grid_template_rows": null,
            "height": null,
            "justify_content": null,
            "justify_items": null,
            "left": null,
            "margin": null,
            "max_height": null,
            "max_width": null,
            "min_height": null,
            "min_width": null,
            "object_fit": null,
            "object_position": null,
            "order": null,
            "overflow": null,
            "overflow_x": null,
            "overflow_y": null,
            "padding": null,
            "right": null,
            "top": null,
            "visibility": null,
            "width": null
          }
        },
        "31bd34cd6cc6484a9cb94593d912101d": {
          "model_module": "@jupyter-widgets/controls",
          "model_module_version": "1.5.0",
          "model_name": "FloatProgressModel",
          "state": {
            "_dom_classes": [],
            "_model_module": "@jupyter-widgets/controls",
            "_model_module_version": "1.5.0",
            "_model_name": "FloatProgressModel",
            "_view_count": null,
            "_view_module": "@jupyter-widgets/controls",
            "_view_module_version": "1.5.0",
            "_view_name": "ProgressView",
            "bar_style": "success",
            "description": "",
            "description_tooltip": null,
            "layout": "IPY_MODEL_5d1beb0d731f4dbf9b34caf12e35adc0",
            "max": 24,
            "min": 0,
            "orientation": "horizontal",
            "style": "IPY_MODEL_f5f1b2210c0740cc84509d49fdc9f44a",
            "value": 24
          }
        },
        "3870db55b96442948c6906e7deddd991": {
          "model_module": "@jupyter-widgets/controls",
          "model_module_version": "1.5.0",
          "model_name": "FloatProgressModel",
          "state": {
            "_dom_classes": [],
            "_model_module": "@jupyter-widgets/controls",
            "_model_module_version": "1.5.0",
            "_model_name": "FloatProgressModel",
            "_view_count": null,
            "_view_module": "@jupyter-widgets/controls",
            "_view_module_version": "1.5.0",
            "_view_name": "ProgressView",
            "bar_style": "",
            "description": "",
            "description_tooltip": null,
            "layout": "IPY_MODEL_e537449539b747d999487bfc79ef46d7",
            "max": 714355318,
            "min": 0,
            "orientation": "horizontal",
            "style": "IPY_MODEL_6594fd89453a445184830d38feda8ee5",
            "value": 311867469
          }
        },
        "39ff4e3e2dff4e16a6a35217bca230bc": {
          "model_module": "@jupyter-widgets/base",
          "model_module_version": "1.2.0",
          "model_name": "LayoutModel",
          "state": {
            "_model_module": "@jupyter-widgets/base",
            "_model_module_version": "1.2.0",
            "_model_name": "LayoutModel",
            "_view_count": null,
            "_view_module": "@jupyter-widgets/base",
            "_view_module_version": "1.2.0",
            "_view_name": "LayoutView",
            "align_content": null,
            "align_items": null,
            "align_self": null,
            "border": null,
            "bottom": null,
            "display": null,
            "flex": null,
            "flex_flow": null,
            "grid_area": null,
            "grid_auto_columns": null,
            "grid_auto_flow": null,
            "grid_auto_rows": null,
            "grid_column": null,
            "grid_gap": null,
            "grid_row": null,
            "grid_template_areas": null,
            "grid_template_columns": null,
            "grid_template_rows": null,
            "height": null,
            "justify_content": null,
            "justify_items": null,
            "left": null,
            "margin": null,
            "max_height": null,
            "max_width": null,
            "min_height": null,
            "min_width": null,
            "object_fit": null,
            "object_position": null,
            "order": null,
            "overflow": null,
            "overflow_x": null,
            "overflow_y": null,
            "padding": null,
            "right": null,
            "top": null,
            "visibility": null,
            "width": null
          }
        },
        "3cd7b02fe65349519838c2fda5f9803f": {
          "model_module": "@jupyter-widgets/base",
          "model_module_version": "1.2.0",
          "model_name": "LayoutModel",
          "state": {
            "_model_module": "@jupyter-widgets/base",
            "_model_module_version": "1.2.0",
            "_model_name": "LayoutModel",
            "_view_count": null,
            "_view_module": "@jupyter-widgets/base",
            "_view_module_version": "1.2.0",
            "_view_name": "LayoutView",
            "align_content": null,
            "align_items": null,
            "align_self": null,
            "border": null,
            "bottom": null,
            "display": null,
            "flex": null,
            "flex_flow": null,
            "grid_area": null,
            "grid_auto_columns": null,
            "grid_auto_flow": null,
            "grid_auto_rows": null,
            "grid_column": null,
            "grid_gap": null,
            "grid_row": null,
            "grid_template_areas": null,
            "grid_template_columns": null,
            "grid_template_rows": null,
            "height": null,
            "justify_content": null,
            "justify_items": null,
            "left": null,
            "margin": null,
            "max_height": null,
            "max_width": null,
            "min_height": null,
            "min_width": null,
            "object_fit": null,
            "object_position": null,
            "order": null,
            "overflow": null,
            "overflow_x": null,
            "overflow_y": null,
            "padding": null,
            "right": null,
            "top": null,
            "visibility": null,
            "width": null
          }
        },
        "3dd14b00e2fa4aeab76af977993dac88": {
          "model_module": "@jupyter-widgets/controls",
          "model_module_version": "1.5.0",
          "model_name": "HTMLModel",
          "state": {
            "_dom_classes": [],
            "_model_module": "@jupyter-widgets/controls",
            "_model_module_version": "1.5.0",
            "_model_name": "HTMLModel",
            "_view_count": null,
            "_view_module": "@jupyter-widgets/controls",
            "_view_module_version": "1.5.0",
            "_view_name": "HTMLView",
            "description": "",
            "description_tooltip": null,
            "layout": "IPY_MODEL_39ff4e3e2dff4e16a6a35217bca230bc",
            "placeholder": "​",
            "style": "IPY_MODEL_50ab41b6ea034f42a8a55ed3a08ab43d",
            "value": "special_tokens_map.json: 100%"
          }
        },
        "4cf898366b06402e86b6efed91a051fe": {
          "model_module": "@jupyter-widgets/controls",
          "model_module_version": "1.5.0",
          "model_name": "DescriptionStyleModel",
          "state": {
            "_model_module": "@jupyter-widgets/controls",
            "_model_module_version": "1.5.0",
            "_model_name": "DescriptionStyleModel",
            "_view_count": null,
            "_view_module": "@jupyter-widgets/base",
            "_view_module_version": "1.2.0",
            "_view_name": "StyleView",
            "description_width": ""
          }
        },
        "50ab41b6ea034f42a8a55ed3a08ab43d": {
          "model_module": "@jupyter-widgets/controls",
          "model_module_version": "1.5.0",
          "model_name": "DescriptionStyleModel",
          "state": {
            "_model_module": "@jupyter-widgets/controls",
            "_model_module_version": "1.5.0",
            "_model_name": "DescriptionStyleModel",
            "_view_count": null,
            "_view_module": "@jupyter-widgets/base",
            "_view_module_version": "1.2.0",
            "_view_name": "StyleView",
            "description_width": ""
          }
        },
        "51f883eb60424bca855459ffc3491c61": {
          "model_module": "@jupyter-widgets/controls",
          "model_module_version": "1.5.0",
          "model_name": "HBoxModel",
          "state": {
            "_dom_classes": [],
            "_model_module": "@jupyter-widgets/controls",
            "_model_module_version": "1.5.0",
            "_model_name": "HBoxModel",
            "_view_count": null,
            "_view_module": "@jupyter-widgets/controls",
            "_view_module_version": "1.5.0",
            "_view_name": "HBoxView",
            "box_style": "",
            "children": [
              "IPY_MODEL_02296f5676d44e5fb53f02019bffa1d0",
              "IPY_MODEL_96f3f668b2ff4f508cd948073d60707f",
              "IPY_MODEL_f529ea5600644d858d209e17e11c30a8"
            ],
            "layout": "IPY_MODEL_a3bcecbb10fa4b5784cdb065d67d04ef"
          }
        },
        "58aa8011023542d6b28a899939404a9c": {
          "model_module": "@jupyter-widgets/controls",
          "model_module_version": "1.5.0",
          "model_name": "ProgressStyleModel",
          "state": {
            "_model_module": "@jupyter-widgets/controls",
            "_model_module_version": "1.5.0",
            "_model_name": "ProgressStyleModel",
            "_view_count": null,
            "_view_module": "@jupyter-widgets/base",
            "_view_module_version": "1.2.0",
            "_view_name": "StyleView",
            "bar_color": null,
            "description_width": ""
          }
        },
        "5a99a3a89b514babafa7bdf20ae38141": {
          "model_module": "@jupyter-widgets/controls",
          "model_module_version": "1.5.0",
          "model_name": "HBoxModel",
          "state": {
            "_dom_classes": [],
            "_model_module": "@jupyter-widgets/controls",
            "_model_module_version": "1.5.0",
            "_model_name": "HBoxModel",
            "_view_count": null,
            "_view_module": "@jupyter-widgets/controls",
            "_view_module_version": "1.5.0",
            "_view_name": "HBoxView",
            "box_style": "",
            "children": [
              "IPY_MODEL_3dd14b00e2fa4aeab76af977993dac88",
              "IPY_MODEL_7732a084fe774540939ef87760af8b95",
              "IPY_MODEL_0c48ccf1bc11451b8ed775f947da6bea"
            ],
            "layout": "IPY_MODEL_3cd7b02fe65349519838c2fda5f9803f"
          }
        },
        "5cd1b0dba95a4719819e62eb9a16f8c6": {
          "model_module": "@jupyter-widgets/controls",
          "model_module_version": "1.5.0",
          "model_name": "DescriptionStyleModel",
          "state": {
            "_model_module": "@jupyter-widgets/controls",
            "_model_module_version": "1.5.0",
            "_model_name": "DescriptionStyleModel",
            "_view_count": null,
            "_view_module": "@jupyter-widgets/base",
            "_view_module_version": "1.2.0",
            "_view_name": "StyleView",
            "description_width": ""
          }
        },
        "5d1beb0d731f4dbf9b34caf12e35adc0": {
          "model_module": "@jupyter-widgets/base",
          "model_module_version": "1.2.0",
          "model_name": "LayoutModel",
          "state": {
            "_model_module": "@jupyter-widgets/base",
            "_model_module_version": "1.2.0",
            "_model_name": "LayoutModel",
            "_view_count": null,
            "_view_module": "@jupyter-widgets/base",
            "_view_module_version": "1.2.0",
            "_view_name": "LayoutView",
            "align_content": null,
            "align_items": null,
            "align_self": null,
            "border": null,
            "bottom": null,
            "display": null,
            "flex": null,
            "flex_flow": null,
            "grid_area": null,
            "grid_auto_columns": null,
            "grid_auto_flow": null,
            "grid_auto_rows": null,
            "grid_column": null,
            "grid_gap": null,
            "grid_row": null,
            "grid_template_areas": null,
            "grid_template_columns": null,
            "grid_template_rows": null,
            "height": null,
            "justify_content": null,
            "justify_items": null,
            "left": null,
            "margin": null,
            "max_height": null,
            "max_width": null,
            "min_height": null,
            "min_width": null,
            "object_fit": null,
            "object_position": null,
            "order": null,
            "overflow": null,
            "overflow_x": null,
            "overflow_y": null,
            "padding": null,
            "right": null,
            "top": null,
            "visibility": null,
            "width": null
          }
        },
        "627d01e6e3ec4fa9bacfb3fab3fdb225": {
          "model_module": "@jupyter-widgets/controls",
          "model_module_version": "1.5.0",
          "model_name": "ProgressStyleModel",
          "state": {
            "_model_module": "@jupyter-widgets/controls",
            "_model_module_version": "1.5.0",
            "_model_name": "ProgressStyleModel",
            "_view_count": null,
            "_view_module": "@jupyter-widgets/base",
            "_view_module_version": "1.2.0",
            "_view_name": "StyleView",
            "bar_color": null,
            "description_width": ""
          }
        },
        "6594fd89453a445184830d38feda8ee5": {
          "model_module": "@jupyter-widgets/controls",
          "model_module_version": "1.5.0",
          "model_name": "ProgressStyleModel",
          "state": {
            "_model_module": "@jupyter-widgets/controls",
            "_model_module_version": "1.5.0",
            "_model_name": "ProgressStyleModel",
            "_view_count": null,
            "_view_module": "@jupyter-widgets/base",
            "_view_module_version": "1.2.0",
            "_view_name": "StyleView",
            "bar_color": null,
            "description_width": ""
          }
        },
        "6645e9aeb0d2445f9a84e2a4b8f67d61": {
          "model_module": "@jupyter-widgets/controls",
          "model_module_version": "1.5.0",
          "model_name": "DescriptionStyleModel",
          "state": {
            "_model_module": "@jupyter-widgets/controls",
            "_model_module_version": "1.5.0",
            "_model_name": "DescriptionStyleModel",
            "_view_count": null,
            "_view_module": "@jupyter-widgets/base",
            "_view_module_version": "1.2.0",
            "_view_name": "StyleView",
            "description_width": ""
          }
        },
        "67e078715f18427cbb514e345057a881": {
          "model_module": "@jupyter-widgets/controls",
          "model_module_version": "1.5.0",
          "model_name": "HTMLModel",
          "state": {
            "_dom_classes": [],
            "_model_module": "@jupyter-widgets/controls",
            "_model_module_version": "1.5.0",
            "_model_name": "HTMLModel",
            "_view_count": null,
            "_view_module": "@jupyter-widgets/controls",
            "_view_module_version": "1.5.0",
            "_view_name": "HTMLView",
            "description": "",
            "description_tooltip": null,
            "layout": "IPY_MODEL_cd8083f7a780474fb4fd2223ea6d0b4b",
            "placeholder": "​",
            "style": "IPY_MODEL_7385d51a9a4d4629b48ee4d3043f1f24",
            "value": "config.json: 100%"
          }
        },
        "6965480d0dff49099d966d366712709a": {
          "model_module": "@jupyter-widgets/controls",
          "model_module_version": "1.5.0",
          "model_name": "FloatProgressModel",
          "state": {
            "_dom_classes": [],
            "_model_module": "@jupyter-widgets/controls",
            "_model_module_version": "1.5.0",
            "_model_name": "FloatProgressModel",
            "_view_count": null,
            "_view_module": "@jupyter-widgets/controls",
            "_view_module_version": "1.5.0",
            "_view_name": "ProgressView",
            "bar_style": "success",
            "description": "",
            "description_tooltip": null,
            "layout": "IPY_MODEL_a4297ae4b3ff494885840981bcd8d273",
            "max": 642,
            "min": 0,
            "orientation": "horizontal",
            "style": "IPY_MODEL_a3b578271b6843aa8e176c5475990301",
            "value": 642
          }
        },
        "73287bbd19c74e71afecf9015dbd0e2d": {
          "model_module": "@jupyter-widgets/controls",
          "model_module_version": "1.5.0",
          "model_name": "HTMLModel",
          "state": {
            "_dom_classes": [],
            "_model_module": "@jupyter-widgets/controls",
            "_model_module_version": "1.5.0",
            "_model_name": "HTMLModel",
            "_view_count": null,
            "_view_module": "@jupyter-widgets/controls",
            "_view_module_version": "1.5.0",
            "_view_name": "HTMLView",
            "description": "",
            "description_tooltip": null,
            "layout": "IPY_MODEL_7bcbcac390c8451bbcde7d0a402fa5eb",
            "placeholder": "​",
            "style": "IPY_MODEL_e068ebdf0fe241d98ad84f094686efe3",
            "value": " 642/642 [00:00&lt;00:00, 69.2kB/s]"
          }
        },
        "7385d51a9a4d4629b48ee4d3043f1f24": {
          "model_module": "@jupyter-widgets/controls",
          "model_module_version": "1.5.0",
          "model_name": "DescriptionStyleModel",
          "state": {
            "_model_module": "@jupyter-widgets/controls",
            "_model_module_version": "1.5.0",
            "_model_name": "DescriptionStyleModel",
            "_view_count": null,
            "_view_module": "@jupyter-widgets/base",
            "_view_module_version": "1.2.0",
            "_view_name": "StyleView",
            "description_width": ""
          }
        },
        "7732a084fe774540939ef87760af8b95": {
          "model_module": "@jupyter-widgets/controls",
          "model_module_version": "1.5.0",
          "model_name": "FloatProgressModel",
          "state": {
            "_dom_classes": [],
            "_model_module": "@jupyter-widgets/controls",
            "_model_module_version": "1.5.0",
            "_model_name": "FloatProgressModel",
            "_view_count": null,
            "_view_module": "@jupyter-widgets/controls",
            "_view_module_version": "1.5.0",
            "_view_name": "ProgressView",
            "bar_style": "success",
            "description": "",
            "description_tooltip": null,
            "layout": "IPY_MODEL_d1620b3c879b4bb6bc7d74d159f8a71d",
            "max": 112,
            "min": 0,
            "orientation": "horizontal",
            "style": "IPY_MODEL_627d01e6e3ec4fa9bacfb3fab3fdb225",
            "value": 112
          }
        },
        "77601ef224d44e629efcf175bc6b9fe4": {
          "model_module": "@jupyter-widgets/controls",
          "model_module_version": "1.5.0",
          "model_name": "HBoxModel",
          "state": {
            "_dom_classes": [],
            "_model_module": "@jupyter-widgets/controls",
            "_model_module_version": "1.5.0",
            "_model_name": "HBoxModel",
            "_view_count": null,
            "_view_module": "@jupyter-widgets/controls",
            "_view_module_version": "1.5.0",
            "_view_name": "HBoxView",
            "box_style": "",
            "children": [
              "IPY_MODEL_db92ef82849c4bf38e097a68d076906a",
              "IPY_MODEL_31bd34cd6cc6484a9cb94593d912101d",
              "IPY_MODEL_1aab3b47776e4bf1b10ca5736e3dc5a0"
            ],
            "layout": "IPY_MODEL_db23ccbda02a4033a9fa7fdb4222f603"
          }
        },
        "7bcbcac390c8451bbcde7d0a402fa5eb": {
          "model_module": "@jupyter-widgets/base",
          "model_module_version": "1.2.0",
          "model_name": "LayoutModel",
          "state": {
            "_model_module": "@jupyter-widgets/base",
            "_model_module_version": "1.2.0",
            "_model_name": "LayoutModel",
            "_view_count": null,
            "_view_module": "@jupyter-widgets/base",
            "_view_module_version": "1.2.0",
            "_view_name": "LayoutView",
            "align_content": null,
            "align_items": null,
            "align_self": null,
            "border": null,
            "bottom": null,
            "display": null,
            "flex": null,
            "flex_flow": null,
            "grid_area": null,
            "grid_auto_columns": null,
            "grid_auto_flow": null,
            "grid_auto_rows": null,
            "grid_column": null,
            "grid_gap": null,
            "grid_row": null,
            "grid_template_areas": null,
            "grid_template_columns": null,
            "grid_template_rows": null,
            "height": null,
            "justify_content": null,
            "justify_items": null,
            "left": null,
            "margin": null,
            "max_height": null,
            "max_width": null,
            "min_height": null,
            "min_width": null,
            "object_fit": null,
            "object_position": null,
            "order": null,
            "overflow": null,
            "overflow_x": null,
            "overflow_y": null,
            "padding": null,
            "right": null,
            "top": null,
            "visibility": null,
            "width": null
          }
        },
        "7ccb225e254d4df49bda7c05f9cdf148": {
          "model_module": "@jupyter-widgets/base",
          "model_module_version": "1.2.0",
          "model_name": "LayoutModel",
          "state": {
            "_model_module": "@jupyter-widgets/base",
            "_model_module_version": "1.2.0",
            "_model_name": "LayoutModel",
            "_view_count": null,
            "_view_module": "@jupyter-widgets/base",
            "_view_module_version": "1.2.0",
            "_view_name": "LayoutView",
            "align_content": null,
            "align_items": null,
            "align_self": null,
            "border": null,
            "bottom": null,
            "display": null,
            "flex": null,
            "flex_flow": null,
            "grid_area": null,
            "grid_auto_columns": null,
            "grid_auto_flow": null,
            "grid_auto_rows": null,
            "grid_column": null,
            "grid_gap": null,
            "grid_row": null,
            "grid_template_areas": null,
            "grid_template_columns": null,
            "grid_template_rows": null,
            "height": null,
            "justify_content": null,
            "justify_items": null,
            "left": null,
            "margin": null,
            "max_height": null,
            "max_width": null,
            "min_height": null,
            "min_width": null,
            "object_fit": null,
            "object_position": null,
            "order": null,
            "overflow": null,
            "overflow_x": null,
            "overflow_y": null,
            "padding": null,
            "right": null,
            "top": null,
            "visibility": null,
            "width": null
          }
        },
        "818cc70a93c243eb964b4b4010741ae3": {
          "model_module": "@jupyter-widgets/base",
          "model_module_version": "1.2.0",
          "model_name": "LayoutModel",
          "state": {
            "_model_module": "@jupyter-widgets/base",
            "_model_module_version": "1.2.0",
            "_model_name": "LayoutModel",
            "_view_count": null,
            "_view_module": "@jupyter-widgets/base",
            "_view_module_version": "1.2.0",
            "_view_name": "LayoutView",
            "align_content": null,
            "align_items": null,
            "align_self": null,
            "border": null,
            "bottom": null,
            "display": null,
            "flex": null,
            "flex_flow": null,
            "grid_area": null,
            "grid_auto_columns": null,
            "grid_auto_flow": null,
            "grid_auto_rows": null,
            "grid_column": null,
            "grid_gap": null,
            "grid_row": null,
            "grid_template_areas": null,
            "grid_template_columns": null,
            "grid_template_rows": null,
            "height": null,
            "justify_content": null,
            "justify_items": null,
            "left": null,
            "margin": null,
            "max_height": null,
            "max_width": null,
            "min_height": null,
            "min_width": null,
            "object_fit": null,
            "object_position": null,
            "order": null,
            "overflow": null,
            "overflow_x": null,
            "overflow_y": null,
            "padding": null,
            "right": null,
            "top": null,
            "visibility": null,
            "width": null
          }
        },
        "8d6d6ad4a24a4b79acd961666cf49029": {
          "model_module": "@jupyter-widgets/base",
          "model_module_version": "1.2.0",
          "model_name": "LayoutModel",
          "state": {
            "_model_module": "@jupyter-widgets/base",
            "_model_module_version": "1.2.0",
            "_model_name": "LayoutModel",
            "_view_count": null,
            "_view_module": "@jupyter-widgets/base",
            "_view_module_version": "1.2.0",
            "_view_name": "LayoutView",
            "align_content": null,
            "align_items": null,
            "align_self": null,
            "border": null,
            "bottom": null,
            "display": null,
            "flex": null,
            "flex_flow": null,
            "grid_area": null,
            "grid_auto_columns": null,
            "grid_auto_flow": null,
            "grid_auto_rows": null,
            "grid_column": null,
            "grid_gap": null,
            "grid_row": null,
            "grid_template_areas": null,
            "grid_template_columns": null,
            "grid_template_rows": null,
            "height": null,
            "justify_content": null,
            "justify_items": null,
            "left": null,
            "margin": null,
            "max_height": null,
            "max_width": null,
            "min_height": null,
            "min_width": null,
            "object_fit": null,
            "object_position": null,
            "order": null,
            "overflow": null,
            "overflow_x": null,
            "overflow_y": null,
            "padding": null,
            "right": null,
            "top": null,
            "visibility": null,
            "width": null
          }
        },
        "9327fea9afbd4855919041796e6cbb05": {
          "model_module": "@jupyter-widgets/controls",
          "model_module_version": "1.5.0",
          "model_name": "DescriptionStyleModel",
          "state": {
            "_model_module": "@jupyter-widgets/controls",
            "_model_module_version": "1.5.0",
            "_model_name": "DescriptionStyleModel",
            "_view_count": null,
            "_view_module": "@jupyter-widgets/base",
            "_view_module_version": "1.2.0",
            "_view_name": "StyleView",
            "description_width": ""
          }
        },
        "948248a13e6c4ed69d341ca0545dba45": {
          "model_module": "@jupyter-widgets/controls",
          "model_module_version": "1.5.0",
          "model_name": "HTMLModel",
          "state": {
            "_dom_classes": [],
            "_model_module": "@jupyter-widgets/controls",
            "_model_module_version": "1.5.0",
            "_model_name": "HTMLModel",
            "_view_count": null,
            "_view_module": "@jupyter-widgets/controls",
            "_view_module_version": "1.5.0",
            "_view_name": "HTMLView",
            "description": "",
            "description_tooltip": null,
            "layout": "IPY_MODEL_2dd09946fdfd48e680ed887912f20de4",
            "placeholder": "​",
            "style": "IPY_MODEL_5cd1b0dba95a4719819e62eb9a16f8c6",
            "value": " 312M/714M [02:41&lt;02:55, 2.29MB/s]"
          }
        },
        "96f3f668b2ff4f508cd948073d60707f": {
          "model_module": "@jupyter-widgets/controls",
          "model_module_version": "1.5.0",
          "model_name": "FloatProgressModel",
          "state": {
            "_dom_classes": [],
            "_model_module": "@jupyter-widgets/controls",
            "_model_module_version": "1.5.0",
            "_model_name": "FloatProgressModel",
            "_view_count": null,
            "_view_module": "@jupyter-widgets/controls",
            "_view_module_version": "1.5.0",
            "_view_name": "ProgressView",
            "bar_style": "success",
            "description": "",
            "description_tooltip": null,
            "layout": "IPY_MODEL_0fcec5fcf40842f8b3928d7c0d070934",
            "max": 1,
            "min": 0,
            "orientation": "horizontal",
            "style": "IPY_MODEL_58aa8011023542d6b28a899939404a9c",
            "value": 1
          }
        },
        "a0bddb1a00e840a884a4eae80980391c": {
          "model_module": "@jupyter-widgets/controls",
          "model_module_version": "1.5.0",
          "model_name": "HBoxModel",
          "state": {
            "_dom_classes": [],
            "_model_module": "@jupyter-widgets/controls",
            "_model_module_version": "1.5.0",
            "_model_name": "HBoxModel",
            "_view_count": null,
            "_view_module": "@jupyter-widgets/controls",
            "_view_module_version": "1.5.0",
            "_view_name": "HBoxView",
            "box_style": "",
            "children": [
              "IPY_MODEL_67e078715f18427cbb514e345057a881",
              "IPY_MODEL_6965480d0dff49099d966d366712709a",
              "IPY_MODEL_73287bbd19c74e71afecf9015dbd0e2d"
            ],
            "layout": "IPY_MODEL_f14a9956bc1846d1b295738aad8a108b"
          }
        },
        "a3b578271b6843aa8e176c5475990301": {
          "model_module": "@jupyter-widgets/controls",
          "model_module_version": "1.5.0",
          "model_name": "ProgressStyleModel",
          "state": {
            "_model_module": "@jupyter-widgets/controls",
            "_model_module_version": "1.5.0",
            "_model_name": "ProgressStyleModel",
            "_view_count": null,
            "_view_module": "@jupyter-widgets/base",
            "_view_module_version": "1.2.0",
            "_view_name": "StyleView",
            "bar_color": null,
            "description_width": ""
          }
        },
        "a3bcecbb10fa4b5784cdb065d67d04ef": {
          "model_module": "@jupyter-widgets/base",
          "model_module_version": "1.2.0",
          "model_name": "LayoutModel",
          "state": {
            "_model_module": "@jupyter-widgets/base",
            "_model_module_version": "1.2.0",
            "_model_name": "LayoutModel",
            "_view_count": null,
            "_view_module": "@jupyter-widgets/base",
            "_view_module_version": "1.2.0",
            "_view_name": "LayoutView",
            "align_content": null,
            "align_items": null,
            "align_self": null,
            "border": null,
            "bottom": null,
            "display": null,
            "flex": null,
            "flex_flow": null,
            "grid_area": null,
            "grid_auto_columns": null,
            "grid_auto_flow": null,
            "grid_auto_rows": null,
            "grid_column": null,
            "grid_gap": null,
            "grid_row": null,
            "grid_template_areas": null,
            "grid_template_columns": null,
            "grid_template_rows": null,
            "height": null,
            "justify_content": null,
            "justify_items": null,
            "left": null,
            "margin": null,
            "max_height": null,
            "max_width": null,
            "min_height": null,
            "min_width": null,
            "object_fit": null,
            "object_position": null,
            "order": null,
            "overflow": null,
            "overflow_x": null,
            "overflow_y": null,
            "padding": null,
            "right": null,
            "top": null,
            "visibility": null,
            "width": null
          }
        },
        "a4297ae4b3ff494885840981bcd8d273": {
          "model_module": "@jupyter-widgets/base",
          "model_module_version": "1.2.0",
          "model_name": "LayoutModel",
          "state": {
            "_model_module": "@jupyter-widgets/base",
            "_model_module_version": "1.2.0",
            "_model_name": "LayoutModel",
            "_view_count": null,
            "_view_module": "@jupyter-widgets/base",
            "_view_module_version": "1.2.0",
            "_view_name": "LayoutView",
            "align_content": null,
            "align_items": null,
            "align_self": null,
            "border": null,
            "bottom": null,
            "display": null,
            "flex": null,
            "flex_flow": null,
            "grid_area": null,
            "grid_auto_columns": null,
            "grid_auto_flow": null,
            "grid_auto_rows": null,
            "grid_column": null,
            "grid_gap": null,
            "grid_row": null,
            "grid_template_areas": null,
            "grid_template_columns": null,
            "grid_template_rows": null,
            "height": null,
            "justify_content": null,
            "justify_items": null,
            "left": null,
            "margin": null,
            "max_height": null,
            "max_width": null,
            "min_height": null,
            "min_width": null,
            "object_fit": null,
            "object_position": null,
            "order": null,
            "overflow": null,
            "overflow_x": null,
            "overflow_y": null,
            "padding": null,
            "right": null,
            "top": null,
            "visibility": null,
            "width": null
          }
        },
        "a5babb90c0ed44dc89ca815d5dc29d6f": {
          "model_module": "@jupyter-widgets/base",
          "model_module_version": "1.2.0",
          "model_name": "LayoutModel",
          "state": {
            "_model_module": "@jupyter-widgets/base",
            "_model_module_version": "1.2.0",
            "_model_name": "LayoutModel",
            "_view_count": null,
            "_view_module": "@jupyter-widgets/base",
            "_view_module_version": "1.2.0",
            "_view_name": "LayoutView",
            "align_content": null,
            "align_items": null,
            "align_self": null,
            "border": null,
            "bottom": null,
            "display": null,
            "flex": null,
            "flex_flow": null,
            "grid_area": null,
            "grid_auto_columns": null,
            "grid_auto_flow": null,
            "grid_auto_rows": null,
            "grid_column": null,
            "grid_gap": null,
            "grid_row": null,
            "grid_template_areas": null,
            "grid_template_columns": null,
            "grid_template_rows": null,
            "height": null,
            "justify_content": null,
            "justify_items": null,
            "left": null,
            "margin": null,
            "max_height": null,
            "max_width": null,
            "min_height": null,
            "min_width": null,
            "object_fit": null,
            "object_position": null,
            "order": null,
            "overflow": null,
            "overflow_x": null,
            "overflow_y": null,
            "padding": null,
            "right": null,
            "top": null,
            "visibility": null,
            "width": null
          }
        },
        "a6e486585718478e83064b179b8aa452": {
          "model_module": "@jupyter-widgets/controls",
          "model_module_version": "1.5.0",
          "model_name": "DescriptionStyleModel",
          "state": {
            "_model_module": "@jupyter-widgets/controls",
            "_model_module_version": "1.5.0",
            "_model_name": "DescriptionStyleModel",
            "_view_count": null,
            "_view_module": "@jupyter-widgets/base",
            "_view_module_version": "1.2.0",
            "_view_name": "StyleView",
            "description_width": ""
          }
        },
        "bc610435d4b9421ea10f47e6fc20f42a": {
          "model_module": "@jupyter-widgets/controls",
          "model_module_version": "1.5.0",
          "model_name": "HBoxModel",
          "state": {
            "_dom_classes": [],
            "_model_module": "@jupyter-widgets/controls",
            "_model_module_version": "1.5.0",
            "_model_name": "HBoxModel",
            "_view_count": null,
            "_view_module": "@jupyter-widgets/controls",
            "_view_module_version": "1.5.0",
            "_view_name": "HBoxView",
            "box_style": "",
            "children": [
              "IPY_MODEL_279b7c62f96840c39bba19522f40e289",
              "IPY_MODEL_3870db55b96442948c6906e7deddd991",
              "IPY_MODEL_948248a13e6c4ed69d341ca0545dba45"
            ],
            "layout": "IPY_MODEL_8d6d6ad4a24a4b79acd961666cf49029"
          }
        },
        "c8c35efcd50745349040e9c16ba382b8": {
          "model_module": "@jupyter-widgets/base",
          "model_module_version": "1.2.0",
          "model_name": "LayoutModel",
          "state": {
            "_model_module": "@jupyter-widgets/base",
            "_model_module_version": "1.2.0",
            "_model_name": "LayoutModel",
            "_view_count": null,
            "_view_module": "@jupyter-widgets/base",
            "_view_module_version": "1.2.0",
            "_view_name": "LayoutView",
            "align_content": null,
            "align_items": null,
            "align_self": null,
            "border": null,
            "bottom": null,
            "display": null,
            "flex": null,
            "flex_flow": null,
            "grid_area": null,
            "grid_auto_columns": null,
            "grid_auto_flow": null,
            "grid_auto_rows": null,
            "grid_column": null,
            "grid_gap": null,
            "grid_row": null,
            "grid_template_areas": null,
            "grid_template_columns": null,
            "grid_template_rows": null,
            "height": null,
            "justify_content": null,
            "justify_items": null,
            "left": null,
            "margin": null,
            "max_height": null,
            "max_width": null,
            "min_height": null,
            "min_width": null,
            "object_fit": null,
            "object_position": null,
            "order": null,
            "overflow": null,
            "overflow_x": null,
            "overflow_y": null,
            "padding": null,
            "right": null,
            "top": null,
            "visibility": null,
            "width": null
          }
        },
        "c9be9e62259648caabc5ed2252f409ff": {
          "model_module": "@jupyter-widgets/controls",
          "model_module_version": "1.5.0",
          "model_name": "DescriptionStyleModel",
          "state": {
            "_model_module": "@jupyter-widgets/controls",
            "_model_module_version": "1.5.0",
            "_model_name": "DescriptionStyleModel",
            "_view_count": null,
            "_view_module": "@jupyter-widgets/base",
            "_view_module_version": "1.2.0",
            "_view_name": "StyleView",
            "description_width": ""
          }
        },
        "cd8083f7a780474fb4fd2223ea6d0b4b": {
          "model_module": "@jupyter-widgets/base",
          "model_module_version": "1.2.0",
          "model_name": "LayoutModel",
          "state": {
            "_model_module": "@jupyter-widgets/base",
            "_model_module_version": "1.2.0",
            "_model_name": "LayoutModel",
            "_view_count": null,
            "_view_module": "@jupyter-widgets/base",
            "_view_module_version": "1.2.0",
            "_view_name": "LayoutView",
            "align_content": null,
            "align_items": null,
            "align_self": null,
            "border": null,
            "bottom": null,
            "display": null,
            "flex": null,
            "flex_flow": null,
            "grid_area": null,
            "grid_auto_columns": null,
            "grid_auto_flow": null,
            "grid_auto_rows": null,
            "grid_column": null,
            "grid_gap": null,
            "grid_row": null,
            "grid_template_areas": null,
            "grid_template_columns": null,
            "grid_template_rows": null,
            "height": null,
            "justify_content": null,
            "justify_items": null,
            "left": null,
            "margin": null,
            "max_height": null,
            "max_width": null,
            "min_height": null,
            "min_width": null,
            "object_fit": null,
            "object_position": null,
            "order": null,
            "overflow": null,
            "overflow_x": null,
            "overflow_y": null,
            "padding": null,
            "right": null,
            "top": null,
            "visibility": null,
            "width": null
          }
        },
        "d1620b3c879b4bb6bc7d74d159f8a71d": {
          "model_module": "@jupyter-widgets/base",
          "model_module_version": "1.2.0",
          "model_name": "LayoutModel",
          "state": {
            "_model_module": "@jupyter-widgets/base",
            "_model_module_version": "1.2.0",
            "_model_name": "LayoutModel",
            "_view_count": null,
            "_view_module": "@jupyter-widgets/base",
            "_view_module_version": "1.2.0",
            "_view_name": "LayoutView",
            "align_content": null,
            "align_items": null,
            "align_self": null,
            "border": null,
            "bottom": null,
            "display": null,
            "flex": null,
            "flex_flow": null,
            "grid_area": null,
            "grid_auto_columns": null,
            "grid_auto_flow": null,
            "grid_auto_rows": null,
            "grid_column": null,
            "grid_gap": null,
            "grid_row": null,
            "grid_template_areas": null,
            "grid_template_columns": null,
            "grid_template_rows": null,
            "height": null,
            "justify_content": null,
            "justify_items": null,
            "left": null,
            "margin": null,
            "max_height": null,
            "max_width": null,
            "min_height": null,
            "min_width": null,
            "object_fit": null,
            "object_position": null,
            "order": null,
            "overflow": null,
            "overflow_x": null,
            "overflow_y": null,
            "padding": null,
            "right": null,
            "top": null,
            "visibility": null,
            "width": null
          }
        },
        "db23ccbda02a4033a9fa7fdb4222f603": {
          "model_module": "@jupyter-widgets/base",
          "model_module_version": "1.2.0",
          "model_name": "LayoutModel",
          "state": {
            "_model_module": "@jupyter-widgets/base",
            "_model_module_version": "1.2.0",
            "_model_name": "LayoutModel",
            "_view_count": null,
            "_view_module": "@jupyter-widgets/base",
            "_view_module_version": "1.2.0",
            "_view_name": "LayoutView",
            "align_content": null,
            "align_items": null,
            "align_self": null,
            "border": null,
            "bottom": null,
            "display": null,
            "flex": null,
            "flex_flow": null,
            "grid_area": null,
            "grid_auto_columns": null,
            "grid_auto_flow": null,
            "grid_auto_rows": null,
            "grid_column": null,
            "grid_gap": null,
            "grid_row": null,
            "grid_template_areas": null,
            "grid_template_columns": null,
            "grid_template_rows": null,
            "height": null,
            "justify_content": null,
            "justify_items": null,
            "left": null,
            "margin": null,
            "max_height": null,
            "max_width": null,
            "min_height": null,
            "min_width": null,
            "object_fit": null,
            "object_position": null,
            "order": null,
            "overflow": null,
            "overflow_x": null,
            "overflow_y": null,
            "padding": null,
            "right": null,
            "top": null,
            "visibility": null,
            "width": null
          }
        },
        "db92ef82849c4bf38e097a68d076906a": {
          "model_module": "@jupyter-widgets/controls",
          "model_module_version": "1.5.0",
          "model_name": "HTMLModel",
          "state": {
            "_dom_classes": [],
            "_model_module": "@jupyter-widgets/controls",
            "_model_module_version": "1.5.0",
            "_model_name": "HTMLModel",
            "_view_count": null,
            "_view_module": "@jupyter-widgets/controls",
            "_view_module_version": "1.5.0",
            "_view_name": "HTMLView",
            "description": "",
            "description_tooltip": null,
            "layout": "IPY_MODEL_a5babb90c0ed44dc89ca815d5dc29d6f",
            "placeholder": "​",
            "style": "IPY_MODEL_4cf898366b06402e86b6efed91a051fe",
            "value": "tokenizer_config.json: 100%"
          }
        },
        "e068ebdf0fe241d98ad84f094686efe3": {
          "model_module": "@jupyter-widgets/controls",
          "model_module_version": "1.5.0",
          "model_name": "DescriptionStyleModel",
          "state": {
            "_model_module": "@jupyter-widgets/controls",
            "_model_module_version": "1.5.0",
            "_model_name": "DescriptionStyleModel",
            "_view_count": null,
            "_view_module": "@jupyter-widgets/base",
            "_view_module_version": "1.2.0",
            "_view_name": "StyleView",
            "description_width": ""
          }
        },
        "e537449539b747d999487bfc79ef46d7": {
          "model_module": "@jupyter-widgets/base",
          "model_module_version": "1.2.0",
          "model_name": "LayoutModel",
          "state": {
            "_model_module": "@jupyter-widgets/base",
            "_model_module_version": "1.2.0",
            "_model_name": "LayoutModel",
            "_view_count": null,
            "_view_module": "@jupyter-widgets/base",
            "_view_module_version": "1.2.0",
            "_view_name": "LayoutView",
            "align_content": null,
            "align_items": null,
            "align_self": null,
            "border": null,
            "bottom": null,
            "display": null,
            "flex": null,
            "flex_flow": null,
            "grid_area": null,
            "grid_auto_columns": null,
            "grid_auto_flow": null,
            "grid_auto_rows": null,
            "grid_column": null,
            "grid_gap": null,
            "grid_row": null,
            "grid_template_areas": null,
            "grid_template_columns": null,
            "grid_template_rows": null,
            "height": null,
            "justify_content": null,
            "justify_items": null,
            "left": null,
            "margin": null,
            "max_height": null,
            "max_width": null,
            "min_height": null,
            "min_width": null,
            "object_fit": null,
            "object_position": null,
            "order": null,
            "overflow": null,
            "overflow_x": null,
            "overflow_y": null,
            "padding": null,
            "right": null,
            "top": null,
            "visibility": null,
            "width": null
          }
        },
        "e6b903b66bc3415b8280fb6ca24d112c": {
          "model_module": "@jupyter-widgets/base",
          "model_module_version": "1.2.0",
          "model_name": "LayoutModel",
          "state": {
            "_model_module": "@jupyter-widgets/base",
            "_model_module_version": "1.2.0",
            "_model_name": "LayoutModel",
            "_view_count": null,
            "_view_module": "@jupyter-widgets/base",
            "_view_module_version": "1.2.0",
            "_view_name": "LayoutView",
            "align_content": null,
            "align_items": null,
            "align_self": null,
            "border": null,
            "bottom": null,
            "display": null,
            "flex": null,
            "flex_flow": null,
            "grid_area": null,
            "grid_auto_columns": null,
            "grid_auto_flow": null,
            "grid_auto_rows": null,
            "grid_column": null,
            "grid_gap": null,
            "grid_row": null,
            "grid_template_areas": null,
            "grid_template_columns": null,
            "grid_template_rows": null,
            "height": null,
            "justify_content": null,
            "justify_items": null,
            "left": null,
            "margin": null,
            "max_height": null,
            "max_width": null,
            "min_height": null,
            "min_width": null,
            "object_fit": null,
            "object_position": null,
            "order": null,
            "overflow": null,
            "overflow_x": null,
            "overflow_y": null,
            "padding": null,
            "right": null,
            "top": null,
            "visibility": null,
            "width": null
          }
        },
        "f14a9956bc1846d1b295738aad8a108b": {
          "model_module": "@jupyter-widgets/base",
          "model_module_version": "1.2.0",
          "model_name": "LayoutModel",
          "state": {
            "_model_module": "@jupyter-widgets/base",
            "_model_module_version": "1.2.0",
            "_model_name": "LayoutModel",
            "_view_count": null,
            "_view_module": "@jupyter-widgets/base",
            "_view_module_version": "1.2.0",
            "_view_name": "LayoutView",
            "align_content": null,
            "align_items": null,
            "align_self": null,
            "border": null,
            "bottom": null,
            "display": null,
            "flex": null,
            "flex_flow": null,
            "grid_area": null,
            "grid_auto_columns": null,
            "grid_auto_flow": null,
            "grid_auto_rows": null,
            "grid_column": null,
            "grid_gap": null,
            "grid_row": null,
            "grid_template_areas": null,
            "grid_template_columns": null,
            "grid_template_rows": null,
            "height": null,
            "justify_content": null,
            "justify_items": null,
            "left": null,
            "margin": null,
            "max_height": null,
            "max_width": null,
            "min_height": null,
            "min_width": null,
            "object_fit": null,
            "object_position": null,
            "order": null,
            "overflow": null,
            "overflow_x": null,
            "overflow_y": null,
            "padding": null,
            "right": null,
            "top": null,
            "visibility": null,
            "width": null
          }
        },
        "f529ea5600644d858d209e17e11c30a8": {
          "model_module": "@jupyter-widgets/controls",
          "model_module_version": "1.5.0",
          "model_name": "HTMLModel",
          "state": {
            "_dom_classes": [],
            "_model_module": "@jupyter-widgets/controls",
            "_model_module_version": "1.5.0",
            "_model_name": "HTMLModel",
            "_view_count": null,
            "_view_module": "@jupyter-widgets/controls",
            "_view_module_version": "1.5.0",
            "_view_name": "HTMLView",
            "description": "",
            "description_tooltip": null,
            "layout": "IPY_MODEL_7ccb225e254d4df49bda7c05f9cdf148",
            "placeholder": "​",
            "style": "IPY_MODEL_a6e486585718478e83064b179b8aa452",
            "value": " 1.65M/? [00:00&lt;00:00, 43.5MB/s]"
          }
        },
        "f5f1b2210c0740cc84509d49fdc9f44a": {
          "model_module": "@jupyter-widgets/controls",
          "model_module_version": "1.5.0",
          "model_name": "ProgressStyleModel",
          "state": {
            "_model_module": "@jupyter-widgets/controls",
            "_model_module_version": "1.5.0",
            "_model_name": "ProgressStyleModel",
            "_view_count": null,
            "_view_module": "@jupyter-widgets/base",
            "_view_module_version": "1.2.0",
            "_view_name": "StyleView",
            "bar_color": null,
            "description_width": ""
          }
        }
      }
    }
  },
  "nbformat": 4,
  "nbformat_minor": 0
}
