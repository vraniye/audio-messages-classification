{
  "cells": [
    {
      "cell_type": "code",
      "execution_count": 1,
      "metadata": {
        "id": "jDta2KszqtfW"
      },
      "outputs": [],
      "source": [
        "import pandas as pd\n",
        "import numpy as np\n",
        "import matplotlib.pyplot as plt\n",
        "import seaborn as sns\n",
        "from collections import Counter\n",
        "import re\n",
        "import warnings\n",
        "warnings.filterwarnings(\"ignore\")\n",
        "\n",
        "from sklearn.feature_extraction.text import TfidfVectorizer\n",
        "from sklearn.linear_model import LogisticRegression\n",
        "from sklearn.svm import SVC\n",
        "from sklearn.naive_bayes import MultinomialNB\n",
        "from sklearn.ensemble import VotingClassifier\n",
        "from sklearn.model_selection import GridSearchCV, RandomizedSearchCV\n",
        "from sklearn.metrics import (\n",
        "    accuracy_score, f1_score, roc_auc_score, average_precision_score, confusion_matrix, classification_report\n",
        ")\n",
        "import joblib\n",
        "import os\n",
        "import time\n",
        "\n",
        "#import fasttext\n",
        "\n",
        "import pickle\n",
        "\n",
        "import torch\n",
        "import torch.nn as nn\n",
        "from torch.utils.data import Dataset, DataLoader, TensorDataset\n",
        "from torch.nn.utils.rnn import pad_sequence\n",
        "import torch.nn.functional as F\n",
        "from tqdm import tqdm\n",
        "from safetensors.torch import save_file \n",
        "\n",
        "from transformers import AutoModel, AutoTokenizer\n",
        "from torch.optim import AdamW"
      ]
    },
    {
      "cell_type": "code",
      "execution_count": 2,
      "metadata": {},
      "outputs": [
        {
          "name": "stdout",
          "output_type": "stream",
          "text": [
            "CUDA available: True\n",
            "CUDA version (PyTorch build): 12.6\n",
            "Device count: 1\n",
            "Current device: 0\n",
            "Device name: NVIDIA GeForce RTX 4070 Ti\n",
            "GPU computation succeeded: 0.014346580021083355\n"
          ]
        }
      ],
      "source": [
        "import torch\n",
        "\n",
        "print(\"CUDA available:\", torch.cuda.is_available())\n",
        "print(\"CUDA version (PyTorch build):\", torch.version.cuda)\n",
        "print(\"Device count:\", torch.cuda.device_count())\n",
        "print(\"Current device:\", torch.cuda.current_device())\n",
        "print(\"Device name:\", torch.cuda.get_device_name(0))\n",
        "\n",
        "# Тест вычислений\n",
        "x = torch.randn(1000, 1000).to('cuda')\n",
        "y = torch.randn(1000, 1000).to('cuda')\n",
        "z = torch.mm(x, y)\n",
        "print(\"GPU computation succeeded:\", z.mean().item())"
      ]
    },
    {
      "cell_type": "markdown",
      "metadata": {
        "id": "FGvpe2l2q8TZ"
      },
      "source": [
        "# Подготовка данных и EDA"
      ]
    },
    {
      "cell_type": "code",
      "execution_count": 3,
      "metadata": {
        "colab": {
          "base_uri": "https://localhost:8080/",
          "height": 519
        },
        "id": "CPe6fWCDrJYx",
        "outputId": "d287f82a-4d5c-4dc6-e5c8-0579d5451507"
      },
      "outputs": [
        {
          "data": {
            "text/html": [
              "<div>\n",
              "<style scoped>\n",
              "    .dataframe tbody tr th:only-of-type {\n",
              "        vertical-align: middle;\n",
              "    }\n",
              "\n",
              "    .dataframe tbody tr th {\n",
              "        vertical-align: top;\n",
              "    }\n",
              "\n",
              "    .dataframe thead th {\n",
              "        text-align: right;\n",
              "    }\n",
              "</style>\n",
              "<table border=\"1\" class=\"dataframe\">\n",
              "  <thead>\n",
              "    <tr style=\"text-align: right;\">\n",
              "      <th></th>\n",
              "      <th>text</th>\n",
              "      <th>label</th>\n",
              "    </tr>\n",
              "  </thead>\n",
              "  <tbody>\n",
              "    <tr>\n",
              "      <th>0</th>\n",
              "      <td>IT-компания Prodamus, предоставляющая цифровые...</td>\n",
              "      <td>formal</td>\n",
              "    </tr>\n",
              "    <tr>\n",
              "      <th>1</th>\n",
              "      <td>ээ начать чтоб мы начинали эти</td>\n",
              "      <td>informal</td>\n",
              "    </tr>\n",
              "    <tr>\n",
              "      <th>2</th>\n",
              "      <td>Немецкие полицейские установили круглосуточное...</td>\n",
              "      <td>formal</td>\n",
              "    </tr>\n",
              "    <tr>\n",
              "      <th>3</th>\n",
              "      <td>как бы ночью не спим сидим делаем электронику</td>\n",
              "      <td>informal</td>\n",
              "    </tr>\n",
              "    <tr>\n",
              "      <th>4</th>\n",
              "      <td>Слон в в шутку пнул буйвола и попытался сбежат...</td>\n",
              "      <td>formal</td>\n",
              "    </tr>\n",
              "    <tr>\n",
              "      <th>5</th>\n",
              "      <td>в данной группе понял балбес блять</td>\n",
              "      <td>informal</td>\n",
              "    </tr>\n",
              "    <tr>\n",
              "      <th>6</th>\n",
              "      <td>Летевший в Чечню самолет российской авиакомпан...</td>\n",
              "      <td>formal</td>\n",
              "    </tr>\n",
              "    <tr>\n",
              "      <th>7</th>\n",
              "      <td>нахуя вообще этот войс опять сюда блять включи...</td>\n",
              "      <td>informal</td>\n",
              "    </tr>\n",
              "    <tr>\n",
              "      <th>8</th>\n",
              "      <td>и номер контактный оставьте пожалуйста</td>\n",
              "      <td>informal</td>\n",
              "    </tr>\n",
              "    <tr>\n",
              "      <th>9</th>\n",
              "      <td>Нутрициолог Кристина Журавлева развеяла главны...</td>\n",
              "      <td>formal</td>\n",
              "    </tr>\n",
              "    <tr>\n",
              "      <th>10</th>\n",
              "      <td>Нельсон Рокфеллер-младший забрал гобелен «Герн...</td>\n",
              "      <td>formal</td>\n",
              "    </tr>\n",
              "    <tr>\n",
              "      <th>11</th>\n",
              "      <td>дошла до общежития я думала сдохну блять</td>\n",
              "      <td>informal</td>\n",
              "    </tr>\n",
              "    <tr>\n",
              "      <th>12</th>\n",
              "      <td>[id262270833|Светлана], смотрите внимательно н...</td>\n",
              "      <td>informal</td>\n",
              "    </tr>\n",
              "    <tr>\n",
              "      <th>13</th>\n",
              "      <td>Послание президента Владимира Путина Федеральн...</td>\n",
              "      <td>formal</td>\n",
              "    </tr>\n",
              "    <tr>\n",
              "      <th>14</th>\n",
              "      <td>кто сейчас сидит в этой группе и в онлайн хочу...</td>\n",
              "      <td>informal</td>\n",
              "    </tr>\n",
              "  </tbody>\n",
              "</table>\n",
              "</div>"
            ],
            "text/plain": [
              "                                                 text     label\n",
              "0   IT-компания Prodamus, предоставляющая цифровые...    formal\n",
              "1                      ээ начать чтоб мы начинали эти  informal\n",
              "2   Немецкие полицейские установили круглосуточное...    formal\n",
              "3       как бы ночью не спим сидим делаем электронику  informal\n",
              "4   Слон в в шутку пнул буйвола и попытался сбежат...    formal\n",
              "5                  в данной группе понял балбес блять  informal\n",
              "6   Летевший в Чечню самолет российской авиакомпан...    formal\n",
              "7   нахуя вообще этот войс опять сюда блять включи...  informal\n",
              "8              и номер контактный оставьте пожалуйста  informal\n",
              "9   Нутрициолог Кристина Журавлева развеяла главны...    formal\n",
              "10  Нельсон Рокфеллер-младший забрал гобелен «Герн...    formal\n",
              "11           дошла до общежития я думала сдохну блять  informal\n",
              "12  [id262270833|Светлана], смотрите внимательно н...  informal\n",
              "13  Послание президента Владимира Путина Федеральн...    formal\n",
              "14  кто сейчас сидит в этой группе и в онлайн хочу...  informal"
            ]
          },
          "execution_count": 3,
          "metadata": {},
          "output_type": "execute_result"
        }
      ],
      "source": [
        "# Загрузка данных\n",
        "df = pd.read_csv(\"final_balanced_dataset.csv\")\n",
        "df.head(15)"
      ]
    },
    {
      "cell_type": "code",
      "execution_count": 4,
      "metadata": {
        "colab": {
          "base_uri": "https://localhost:8080/"
        },
        "id": "Ld-pGAZArthb",
        "outputId": "e46666d7-57a7-4f91-f828-1bec82e3ea2b"
      },
      "outputs": [
        {
          "name": "stdout",
          "output_type": "stream",
          "text": [
            "Размер датасета: (127332, 2)\n",
            "                                                     text   label\n",
            "count                                              127332  127332\n",
            "unique                                             127332       2\n",
            "top     IT-компания Prodamus, предоставляющая цифровые...  formal\n",
            "freq                                                    1   63666\n"
          ]
        }
      ],
      "source": [
        "# Базовая информация\n",
        "print(\"Размер датасета:\", df.shape)\n",
        "print(df.describe())"
      ]
    },
    {
      "cell_type": "code",
      "execution_count": 5,
      "metadata": {
        "colab": {
          "base_uri": "https://localhost:8080/",
          "height": 1000
        },
        "id": "Bw1q15oDrdS4",
        "outputId": "d8312330-5556-4c9e-e80e-5100ec24fbd9"
      },
      "outputs": [
        {
          "name": "stdout",
          "output_type": "stream",
          "text": [
            "\n",
            "Пропущенные значения:\n",
            "text     0\n",
            "label    0\n",
            "dtype: int64\n",
            "\n",
            "Уникальные метки:\n",
            "label\n",
            "formal      63666\n",
            "informal    63666\n",
            "Name: count, dtype: int64\n",
            "\n",
            "Дубликатов по тексту: 0\n"
          ]
        },
        {
          "data": {
            "image/png": "[encoded data removed]",
            "text/plain": [
              "<Figure size 600x400 with 1 Axes>"
            ]
          },
          "metadata": {},
          "output_type": "display_data"
        },
        {
          "data": {
            "image/png": "[encoded data removed]",
            "text/plain": [
              "<Figure size 1200x400 with 2 Axes>"
            ]
          },
          "metadata": {},
          "output_type": "display_data"
        }
      ],
      "source": [
        "# Проверка на пропуски\n",
        "print(\"\\nПропущенные значения:\")\n",
        "print(df.isnull().sum())\n",
        "\n",
        "# Удаление строк с пропусками\n",
        "df = df.dropna().reset_index(drop=True)\n",
        "\n",
        "# Проверка уникальных значений в label\n",
        "print(\"\\nУникальные метки:\")\n",
        "print(df['label'].value_counts())\n",
        "\n",
        "# Проверка дубликатов\n",
        "duplicates = df.duplicated(subset=['text']).sum()\n",
        "print(f\"\\nДубликатов по тексту: {duplicates}\")\n",
        "df = df.drop_duplicates(subset=['text']).reset_index(drop=True)\n",
        "\n",
        "# Преобразуем метки в числа\n",
        "label_map = {'informal': 0, 'formal': 1}\n",
        "df['label_id'] = df['label'].map(label_map)\n",
        "\n",
        "# Визуализация распределения классов\n",
        "plt.figure(figsize=(6, 4))\n",
        "sns.countplot(x='label', data=df)\n",
        "plt.title(\"Распределение классов\")\n",
        "plt.show()\n",
        "\n",
        "# Длина текстов (по символам и словам)\n",
        "df['char_len'] = df['text'].apply(len)\n",
        "df['word_len'] = df['text'].apply(lambda x: len(x.split()))\n",
        "\n",
        "plt.figure(figsize=(12, 4))\n",
        "plt.subplot(1, 2, 1)\n",
        "sns.histplot(df['char_len'], bins=50, kde=False)\n",
        "plt.title(\"Распределение длины текста (символы)\")\n",
        "\n",
        "plt.subplot(1, 2, 2)\n",
        "sns.histplot(df['word_len'], bins=50, kde=False)\n",
        "plt.title(\"Распределение длины текста (слова)\")\n",
        "plt.tight_layout()\n",
        "plt.show()"
      ]
    },
    {
      "cell_type": "code",
      "execution_count": 6,
      "metadata": {
        "colab": {
          "base_uri": "https://localhost:8080/",
          "height": 575,
          "referenced_widgets": [
            "77601ef224d44e629efcf175bc6b9fe4",
            "db92ef82849c4bf38e097a68d076906a",
            "31bd34cd6cc6484a9cb94593d912101d",
            "1aab3b47776e4bf1b10ca5736e3dc5a0",
            "db23ccbda02a4033a9fa7fdb4222f603",
            "a5babb90c0ed44dc89ca815d5dc29d6f",
            "4cf898366b06402e86b6efed91a051fe",
            "5d1beb0d731f4dbf9b34caf12e35adc0",
            "f5f1b2210c0740cc84509d49fdc9f44a",
            "e6b903b66bc3415b8280fb6ca24d112c",
            "c9be9e62259648caabc5ed2252f409ff",
            "a0bddb1a00e840a884a4eae80980391c",
            "67e078715f18427cbb514e345057a881",
            "6965480d0dff49099d966d366712709a",
            "73287bbd19c74e71afecf9015dbd0e2d",
            "f14a9956bc1846d1b295738aad8a108b",
            "cd8083f7a780474fb4fd2223ea6d0b4b",
            "7385d51a9a4d4629b48ee4d3043f1f24",
            "a4297ae4b3ff494885840981bcd8d273",
            "a3b578271b6843aa8e176c5475990301",
            "7bcbcac390c8451bbcde7d0a402fa5eb",
            "e068ebdf0fe241d98ad84f094686efe3",
            "51f883eb60424bca855459ffc3491c61",
            "02296f5676d44e5fb53f02019bffa1d0",
            "96f3f668b2ff4f508cd948073d60707f",
            "f529ea5600644d858d209e17e11c30a8",
            "a3bcecbb10fa4b5784cdb065d67d04ef",
            "2a25e8722b29472487cae6bb538817fa",
            "27f2febbd5cd4ebe9d0049c27b694d9d",
            "0fcec5fcf40842f8b3928d7c0d070934",
            "58aa8011023542d6b28a899939404a9c",
            "7ccb225e254d4df49bda7c05f9cdf148",
            "a6e486585718478e83064b179b8aa452",
            "5a99a3a89b514babafa7bdf20ae38141",
            "3dd14b00e2fa4aeab76af977993dac88",
            "7732a084fe774540939ef87760af8b95",
            "0c48ccf1bc11451b8ed775f947da6bea",
            "3cd7b02fe65349519838c2fda5f9803f",
            "39ff4e3e2dff4e16a6a35217bca230bc",
            "50ab41b6ea034f42a8a55ed3a08ab43d",
            "d1620b3c879b4bb6bc7d74d159f8a71d",
            "627d01e6e3ec4fa9bacfb3fab3fdb225",
            "818cc70a93c243eb964b4b4010741ae3",
            "9327fea9afbd4855919041796e6cbb05"
          ]
        },
        "id": "ERq_AVyasD1r",
        "outputId": "96582931-142a-4fcb-b645-706af3f14d16"
      },
      "outputs": [
        {
          "name": "stdout",
          "output_type": "stream",
          "text": [
            "\n",
            "Текстов длиннее 512 токенов: 1573 из 127332 (1.24%)\n"
          ]
        },
        {
          "data": {
            "image/png": "[encoded data removed]",
            "text/plain": [
              "<Figure size 800x400 with 1 Axes>"
            ]
          },
          "metadata": {},
          "output_type": "display_data"
        }
      ],
      "source": [
        "# Токенизация и проверка длины токенов (для BERT)\n",
        "tokenizer = AutoTokenizer.from_pretrained(\"DeepPavlov/rubert-base-cased\")\n",
        "\n",
        "def count_tokens(text):\n",
        "    return len(tokenizer.encode(text, truncation=False))\n",
        "\n",
        "df['token_len'] = df['text'].apply(count_tokens)\n",
        "\n",
        "# Сколько текстов превышает 512 токенов?\n",
        "over_512 = (df['token_len'] > 512).sum()\n",
        "print(f\"\\nТекстов длиннее 512 токенов: {over_512} из {len(df)} ({over_512 / len(df) * 100:.2f}%)\")\n",
        "\n",
        "# Визуализация длины токенов\n",
        "plt.figure(figsize=(8, 4))\n",
        "sns.histplot(df['token_len'], bins=100, kde=False)\n",
        "plt.axvline(512, color='red', linestyle='--', label='512 tokens')\n",
        "plt.title(\"Распределение длины токенов (BERT tokenizer)\")\n",
        "plt.legend()\n",
        "plt.xlim(0, 800)\n",
        "plt.show()"
      ]
    },
    {
      "cell_type": "code",
      "execution_count": 7,
      "metadata": {
        "colab": {
          "base_uri": "https://localhost:8080/"
        },
        "id": "DqsQj3scsQ8I",
        "outputId": "5780e817-f935-41a0-e42b-92cbaea4a4e3"
      },
      "outputs": [
        {
          "name": "stdout",
          "output_type": "stream",
          "text": [
            "\n",
            "Train: 89132, Val: 19100, Test: 19100\n"
          ]
        }
      ],
      "source": [
        "# Разделение на train/val/test\n",
        "from sklearn.model_selection import train_test_split\n",
        "\n",
        "X = df['text'].tolist()\n",
        "y = df['label_id'].tolist()\n",
        "\n",
        "X_train, X_temp, y_train, y_temp = train_test_split(X, y, test_size=0.3, random_state=42, stratify=y)\n",
        "X_val, X_test, y_val, y_test = train_test_split(X_temp, y_temp, test_size=0.5, random_state=42, stratify=y_temp)\n",
        "\n",
        "print(f\"\\nTrain: {len(X_train)}, Val: {len(X_val)}, Test: {len(X_test)}\")"
      ]
    },
    {
      "cell_type": "markdown",
      "metadata": {
        "id": "eDDDPL3itRMo"
      },
      "source": [
        "# Обучение классификаторов"
      ]
    },
    {
      "cell_type": "code",
      "execution_count": 8,
      "metadata": {
        "id": "Ll0yZ5URtYn7"
      },
      "outputs": [],
      "source": [
        "# Создаем папку для моделей\n",
        "os.makedirs(\"models\", exist_ok=True)"
      ]
    },
    {
      "cell_type": "markdown",
      "metadata": {
        "id": "8vttkAWTtVL7"
      },
      "source": [
        "## Классические модели"
      ]
    },
    {
      "cell_type": "markdown",
      "metadata": {
        "id": "jZXjZInn0k7u"
      },
      "source": [
        "### Векторизация (TF-IDF)"
      ]
    },
    {
      "cell_type": "code",
      "execution_count": 9,
      "metadata": {
        "id": "-tTq2xWBuP-6"
      },
      "outputs": [
        {
          "name": "stdout",
          "output_type": "stream",
          "text": [
            "Размер TF-IDF матрицы: (89132, 20000)\n"
          ]
        }
      ],
      "source": [
        "# Векторизация (TF-IDF)\n",
        "vectorizer = TfidfVectorizer(\n",
        "    max_features=20000,\n",
        "    ngram_range=(1, 2),\n",
        "    lowercase=False\n",
        ")\n",
        "X_train_tfidf = vectorizer.fit_transform(X_train)\n",
        "X_val_tfidf = vectorizer.transform(X_val)\n",
        "X_test_tfidf = vectorizer.transform(X_test)\n",
        "print(f\"Размер TF-IDF матрицы: {X_train_tfidf.shape}\")"
      ]
    },
    {
      "cell_type": "code",
      "execution_count": 10,
      "metadata": {
        "id": "mpUbHlI_wUo7"
      },
      "outputs": [
        {
          "data": {
            "text/plain": [
              "['models/tfidf_vectorizer.pkl']"
            ]
          },
          "execution_count": 10,
          "metadata": {},
          "output_type": "execute_result"
        }
      ],
      "source": [
        "joblib.dump(vectorizer, \"models/tfidf_vectorizer.pkl\")"
      ]
    },
    {
      "cell_type": "code",
      "execution_count": 11,
      "metadata": {
        "id": "cl1g7aIbv_i1"
      },
      "outputs": [],
      "source": [
        "def evaluate_and_save_sklearn(model, X_test_vec, y_true, name, save_path):\n",
        "    y_pred = model.predict(X_test_vec)\n",
        "    y_proba = model.predict_proba(X_test_vec)[:, 1]\n",
        "\n",
        "    # Метрики\n",
        "    acc = accuracy_score(y_true, y_pred)\n",
        "    f1_macro = f1_score(y_true, y_pred, average='macro')\n",
        "    f1_weighted = f1_score(y_true, y_pred, average='weighted')\n",
        "    roc_auc = roc_auc_score(y_true, y_proba)\n",
        "    pr_auc = average_precision_score(y_true, y_proba)\n",
        "    cm = confusion_matrix(y_true, y_pred)\n",
        "\n",
        "    # === Красивый вывод ===\n",
        "    print(f\"\\n{'='*60}\")\n",
        "    print(f\"Результаты модели: {name}\")\n",
        "    print(f\"{'='*60}\")\n",
        "    print(f\"Accuracy:      {acc:.4f}\")\n",
        "    print(f\"Macro F1:      {f1_macro:.4f}\")\n",
        "    print(f\"Weighted F1:   {f1_weighted:.4f}\")\n",
        "    print(f\"ROC-AUC:       {roc_auc:.4f}\")\n",
        "    print(f\"PR-AUC:        {pr_auc:.4f}\")\n",
        "\n",
        "    print(\"\\n--- Confusion Matrix ---\")\n",
        "    print(\"              Predicted\")\n",
        "    print(\"               informal   formal\")\n",
        "    print(f\"Actual informal   {cm[0][0]:>6}   {cm[0][1]:>6}\")\n",
        "    print(f\"       formal     {cm[1][0]:>6}   {cm[1][1]:>6}\")\n",
        "\n",
        "    print(\"\\n--- Classification Report ---\")\n",
        "    target_names = ['informal', 'formal']\n",
        "    print(classification_report(y_true, y_pred, target_names=target_names))\n",
        "\n",
        "    # Сохранение\n",
        "    joblib.dump(model, save_path)\n",
        "\n",
        "    return {\n",
        "        \"name\": name,\n",
        "        \"acc\": acc,\n",
        "        \"f1_macro\": f1_macro,\n",
        "        \"f1_weighted\": f1_weighted,\n",
        "        \"roc_auc\": roc_auc,\n",
        "        \"pr_auc\": pr_auc,\n",
        "        \"cm\": cm\n",
        "    }"
      ]
    },
    {
      "cell_type": "markdown",
      "metadata": {
        "id": "FFbhkoTQ0nqF"
      },
      "source": [
        "### Логистическая регрессия"
      ]
    },
    {
      "cell_type": "code",
      "execution_count": 12,
      "metadata": {
        "id": "7UXgydFsuUqr"
      },
      "outputs": [
        {
          "name": "stdout",
          "output_type": "stream",
          "text": [
            "\n",
            "============================================================\n",
            "Результаты модели: Logistic Regression\n",
            "============================================================\n",
            "Accuracy:      0.9864\n",
            "Macro F1:      0.9864\n",
            "Weighted F1:   0.9864\n",
            "ROC-AUC:       0.9990\n",
            "PR-AUC:        0.9991\n",
            "\n",
            "--- Confusion Matrix ---\n",
            "              Predicted\n",
            "               informal   formal\n",
            "Actual informal     9495       55\n",
            "       formal        204     9346\n",
            "\n",
            "--- Classification Report ---\n",
            "              precision    recall  f1-score   support\n",
            "\n",
            "    informal       0.98      0.99      0.99      9550\n",
            "      formal       0.99      0.98      0.99      9550\n",
            "\n",
            "    accuracy                           0.99     19100\n",
            "   macro avg       0.99      0.99      0.99     19100\n",
            "weighted avg       0.99      0.99      0.99     19100\n",
            "\n"
          ]
        }
      ],
      "source": [
        "# Логистическая регрессия\n",
        "#print(\"\\nПодбор гиперпараметров для Logistic Regression...\")\n",
        "#lr_param_grid = {\n",
        "#    'C': [0.1, 1.0, 10.0],\n",
        "#    'penalty': ['l1', 'l2'],\n",
        "#    'solver': ['liblinear', 'saga']\n",
        "#}\n",
        "\n",
        "#lr = LogisticRegression(class_weight='balanced', random_state=42, max_iter=1000)\n",
        "#lr_grid = GridSearchCV(lr, lr_param_grid, cv=3, scoring='f1_macro', n_jobs=-1, verbose=1)\n",
        "#start_time = time.time()\n",
        "#lr_grid.fit(X_train_tfidf, y_train)\n",
        "\n",
        "#print(f\"Подбор завершён за {time.time() - start_time:.2f} сек.\")\n",
        "#print(f\"Лучшие параметры: {lr_grid.best_params_}\")\n",
        "\n",
        "#res_lr = evaluate_and_save_sklearn(lr_grid.best_estimator_, X_test_tfidf, y_test, \"Logistic Regression (Optimized)\", \"models/lr_model.pkl\")\n",
        "\n",
        "lr = LogisticRegression(class_weight='balanced', max_iter=1000, random_state=42)\n",
        "lr.fit(X_train_tfidf, y_train)\n",
        "res_lr = evaluate_and_save_sklearn(lr, X_test_tfidf, y_test, \"Logistic Regression\", \"models/lr_model.pkl\")\n"
      ]
    },
    {
      "cell_type": "markdown",
      "metadata": {
        "id": "zRSjsDYc0rnF"
      },
      "source": [
        "### SVM"
      ]
    },
    {
      "cell_type": "code",
      "execution_count": 13,
      "metadata": {
        "id": "Ccextl_iuXTF"
      },
      "outputs": [
        {
          "name": "stdout",
          "output_type": "stream",
          "text": [
            "\n",
            "============================================================\n",
            "Результаты модели: SVM\n",
            "============================================================\n",
            "Accuracy:      0.9896\n",
            "Macro F1:      0.9896\n",
            "Weighted F1:   0.9896\n",
            "ROC-AUC:       0.9994\n",
            "PR-AUC:        0.9995\n",
            "\n",
            "--- Confusion Matrix ---\n",
            "              Predicted\n",
            "               informal   formal\n",
            "Actual informal     9526       24\n",
            "       formal        175     9375\n",
            "\n",
            "--- Classification Report ---\n",
            "              precision    recall  f1-score   support\n",
            "\n",
            "    informal       0.98      1.00      0.99      9550\n",
            "      formal       1.00      0.98      0.99      9550\n",
            "\n",
            "    accuracy                           0.99     19100\n",
            "   macro avg       0.99      0.99      0.99     19100\n",
            "weighted avg       0.99      0.99      0.99     19100\n",
            "\n"
          ]
        }
      ],
      "source": [
        "# SVM\n",
        "#print(\"\\nПодбор гиперпараметров для SVM...\")\n",
        "#svm_param_grid = {\n",
        "#    'C': [0.1, 1.0, 10.0],\n",
        "#    'kernel': ['rbf', 'linear'],\n",
        "#    'gamma': ['scale', 'auto']\n",
        "#}\n",
        "\n",
        "#svm = SVC(class_weight='balanced', probability=True, random_state=42)\n",
        "#svm_rand = RandomizedSearchCV(svm, svm_param_grid, n_iter=5, cv=3, scoring='f1_macro', n_jobs=-1, verbose=1, random_state=42)\n",
        "#start_time = time.time()\n",
        "#svm_rand.fit(X_train_tfidf, y_train)\n",
        "\n",
        "#print(f\"Подбор завершён за {time.time() - start_time:.2f} сек.\")\n",
        "#print(f\"Лучшие параметры: {svm_rand.best_params_}\")\n",
        "\n",
        "#res_svm = evaluate_and_save_sklearn(svm_rand.best_estimator_, X_test_tfidf, y_test, \"SVM (Optimized)\", \"models/svm_model.pkl\")\n",
        "\n",
        "svm = SVC(class_weight='balanced', probability=True, random_state=42)\n",
        "svm.fit(X_train_tfidf, y_train)\n",
        "res_svm = evaluate_and_save_sklearn(svm, X_test_tfidf, y_test, \"SVM\", \"models/svm_model.pkl\")"
      ]
    },
    {
      "cell_type": "markdown",
      "metadata": {
        "id": "2lotRjea0vZj"
      },
      "source": [
        "### Naive Bayes"
      ]
    },
    {
      "cell_type": "code",
      "execution_count": 14,
      "metadata": {
        "id": "pBPjD5WAuZuL"
      },
      "outputs": [
        {
          "name": "stdout",
          "output_type": "stream",
          "text": [
            "\n",
            "============================================================\n",
            "Результаты модели: Naive Bayes\n",
            "============================================================\n",
            "Accuracy:      0.9736\n",
            "Macro F1:      0.9736\n",
            "Weighted F1:   0.9736\n",
            "ROC-AUC:       0.9972\n",
            "PR-AUC:        0.9978\n",
            "\n",
            "--- Confusion Matrix ---\n",
            "              Predicted\n",
            "               informal   formal\n",
            "Actual informal     9169      381\n",
            "       formal        124     9426\n",
            "\n",
            "--- Classification Report ---\n",
            "              precision    recall  f1-score   support\n",
            "\n",
            "    informal       0.99      0.96      0.97      9550\n",
            "      formal       0.96      0.99      0.97      9550\n",
            "\n",
            "    accuracy                           0.97     19100\n",
            "   macro avg       0.97      0.97      0.97     19100\n",
            "weighted avg       0.97      0.97      0.97     19100\n",
            "\n"
          ]
        }
      ],
      "source": [
        "# Naive Bayes\n",
        "nb = MultinomialNB()\n",
        "nb.fit(X_train_tfidf, y_train)\n",
        "res_nb = evaluate_and_save_sklearn(nb, X_test_tfidf, y_test, \"Naive Bayes\", \"models/nb_model.pkl\")"
      ]
    },
    {
      "cell_type": "markdown",
      "metadata": {
        "id": "a9QVfFAS00Os"
      },
      "source": [
        "### Ансамбль"
      ]
    },
    {
      "cell_type": "code",
      "execution_count": null,
      "metadata": {
        "id": "2o3OU8puubwa"
      },
      "outputs": [
        {
          "name": "stdout",
          "output_type": "stream",
          "text": [
            "\n",
            "============================================================\n",
            "Результаты модели: Ensemble\n",
            "============================================================\n",
            "Accuracy:      0.9904\n",
            "Macro F1:      0.9904\n",
            "Weighted F1:   0.9904\n",
            "ROC-AUC:       0.9990\n",
            "PR-AUC:        0.9991\n",
            "\n",
            "--- Confusion Matrix ---\n",
            "              Predicted\n",
            "               informal   formal\n",
            "Actual informal     9476       74\n",
            "       formal        110     9440\n",
            "\n",
            "--- Classification Report ---\n",
            "              precision    recall  f1-score   support\n",
            "\n",
            "    informal       0.99      0.99      0.99      9550\n",
            "      formal       0.99      0.99      0.99      9550\n",
            "\n",
            "    accuracy                           0.99     19100\n",
            "   macro avg       0.99      0.99      0.99     19100\n",
            "weighted avg       0.99      0.99      0.99     19100\n",
            "\n"
          ]
        },
        {
          "data": {
            "text/plain": [
              "['models/tfidf_vectorizer.pkl']"
            ]
          },
          "execution_count": 15,
          "metadata": {},
          "output_type": "execute_result"
        }
      ],
      "source": [
        "# Ансамбль\n",
        "ensemble = VotingClassifier(\n",
        "    #estimators=[('lr', lr_grid.best_estimator_), ('svm', svm_rand.best_estimator_), ('nb', nb)],\n",
        "    estimators=[('lr', lr), ('svm', svm), ('nb', nb)],\n",
        "    voting='soft'\n",
        ")\n",
        "ensemble.fit(X_train_tfidf, y_train)\n",
        "res_ens = evaluate_and_save_sklearn(ensemble, X_test_tfidf, y_test, \"Ensemble\", \"models/ensemble_model.pkl\")"
      ]
    },
    {
      "cell_type": "code",
      "execution_count": null,
      "metadata": {},
      "outputs": [],
      "source": [
        "joblib.dump(vectorizer, \"models/tfidf_vectorizer.pkl\")"
      ]
    },
    {
      "cell_type": "markdown",
      "metadata": {
        "id": "X2QTjXqx04Qw"
      },
      "source": [
        "### FastText"
      ]
    },
    {
      "cell_type": "code",
      "execution_count": 28,
      "metadata": {
        "id": "IZQu7hqeufnl"
      },
      "outputs": [],
      "source": [
        "# FastText\n",
        "#fasttext_results = None\n",
        "\n",
        "# Подготовка формата FastText\n",
        "#with open(\"train_fasttext.txt\", \"w\", encoding=\"utf-8\") as f:\n",
        "#        for text, label in zip(X_train, y_train):\n",
        "#            ft_label = \"__label__formal\" if label == 1 else \"__label__informal\"\n",
        "#            f.write(f\"{ft_label} {text}\\n\")\n",
        "#with open(\"test_fasttext.txt\", \"w\", encoding=\"utf-8\") as f:\n",
        "#    for text, label in zip(X_test, y_test):\n",
        "#        ft_label = \"__label__formal\" if label == 1 else \"__label__informal\"\n",
        "#        f.write(f\"{ft_label} {text}\\n\")\n",
        "\n",
        "# Обучение\n",
        "#ft_model = fasttext.train_supervised(\"train_fasttext.txt\", epoch=25, lr=1.0, wordNgrams=2, dim=100, loss='ova')\n",
        "#ft_model.save_model(\"models/fasttext_model.bin\")\n",
        "\n",
        "# Оценка\n",
        "#y_pred_ft, y_proba_ft = [], []\n",
        "#for text in X_test:\n",
        "#    labels, probs = ft_model.predict(text, k=2)\n",
        "#    prob_formal = dict(zip(labels, probs)).get(\"__label__formal\", 0.0)\n",
        "#    pred = 1 if prob_formal > 0.5 else 0\n",
        "#    y_pred_ft.append(pred)\n",
        "#    y_proba_ft.append(prob_formal)\n",
        "\n",
        "#y_pred_ft = np.array(y_pred_ft)\n",
        "#y_proba_ft = np.array(y_proba_ft)\n",
        "\n",
        "#acc = accuracy_score(y_test, y_pred_ft)\n",
        "#f1_macro = f1_score(y_test, y_pred_ft, average='macro')\n",
        "#f1_weighted = f1_score(y_test, y_pred_ft, average='weighted')\n",
        "#roc_auc = roc_auc_score(y_test, y_proba_ft)\n",
        "#pr_auc = average_precision_score(y_test, y_proba_ft)\n",
        "#cm = confusion_matrix(y_test, y_pred_ft)\n",
        "\n",
        "#print(f\"\\nFastText (Test):\")\n",
        "#print(f\"  Accuracy: {acc:.4f}\")\n",
        "#print(f\"  Macro F1: {f1_macro:.4f}\")\n",
        "#print(f\"  Weighted F1: {f1_weighted:.4f}\")\n",
        "#print(f\"  ROC-AUC: {roc_auc:.4f}\")\n",
        "#print(f\"  PR-AUC: {pr_auc:.4f}\")\n",
        "#print(f\"  Confusion Matrix:\\n{cm}\")\n",
        "\n",
        "#fasttext_results = {\n",
        "#    'name': 'FastText', 'acc': acc, 'f1_macro': f1_macro,\n",
        "#    'f1_weighted': f1_weighted, 'roc_auc': roc_auc, 'pr_auc': pr_auc, 'cm': cm\n",
        "#}\n"
      ]
    },
    {
      "cell_type": "markdown",
      "metadata": {
        "id": "hTWDGNkEzf_I"
      },
      "source": [
        "## Нейросети  Bi-LSTM и CNN"
      ]
    },
    {
      "cell_type": "code",
      "execution_count": 16,
      "metadata": {
        "colab": {
          "base_uri": "https://localhost:8080/"
        },
        "id": "D-tent3mzk6Z",
        "outputId": "efe77223-1c99-48fb-b5e5-f813981cd794"
      },
      "outputs": [
        {
          "name": "stdout",
          "output_type": "stream",
          "text": [
            "\n",
            "Устройство: cuda\n"
          ]
        }
      ],
      "source": [
        "torch.backends.cudnn.benchmark = True\n",
        "\n",
        "device = torch.device(\"cuda\" if torch.cuda.is_available() else \"cpu\")\n",
        "print(f\"\\nУстройство: {device}\")"
      ]
    },
    {
      "cell_type": "code",
      "execution_count": 17,
      "metadata": {
        "id": "vULKaPR_zyPW"
      },
      "outputs": [],
      "source": [
        "# Подготовка данных\n",
        "def build_vocab(texts, min_freq=2):\n",
        "    from collections import Counter\n",
        "    counter = Counter()\n",
        "    for text in texts:\n",
        "        counter.update(text.split())\n",
        "    vocab = {'<PAD>': 0, '<UNK>': 1}\n",
        "    for word, freq in counter.items():\n",
        "        if freq >= min_freq:\n",
        "            vocab[word] = len(vocab)\n",
        "    return vocab"
      ]
    },
    {
      "cell_type": "code",
      "execution_count": 18,
      "metadata": {
        "id": "kgrx8w9Lzzf7"
      },
      "outputs": [],
      "source": [
        "vocab = build_vocab(X_train)\n",
        "MAX_LEN = 256"
      ]
    },
    {
      "cell_type": "code",
      "execution_count": 19,
      "metadata": {
        "id": "GJ6salN_z4dm"
      },
      "outputs": [],
      "source": [
        "def text_to_seq(text, vocab, max_len=MAX_LEN):\n",
        "    seq = [vocab.get(w, vocab['<UNK>']) for w in text.split()]\n",
        "    return seq[:max_len]"
      ]
    },
    {
      "cell_type": "code",
      "execution_count": 20,
      "metadata": {
        "id": "I05Gs-Syz9E6"
      },
      "outputs": [],
      "source": [
        "class TextDataset(Dataset):\n",
        "    def __init__(self, texts, labels, vocab, max_len=MAX_LEN):\n",
        "        self.texts = texts\n",
        "        self.labels = labels\n",
        "        self.vocab = vocab\n",
        "        self.max_len = max_len\n",
        "    def __len__(self): return len(self.texts)\n",
        "    def __getitem__(self, idx):\n",
        "        seq = text_to_seq(self.texts[idx], self.vocab, self.max_len)\n",
        "        return torch.tensor(seq, dtype=torch.long), torch.tensor(self.labels[idx], dtype=torch.long)"
      ]
    },
    {
      "cell_type": "code",
      "execution_count": 21,
      "metadata": {
        "id": "qh_OCFaFz9zd"
      },
      "outputs": [],
      "source": [
        "def collate_fn(batch):\n",
        "    texts, labels = zip(*batch)\n",
        "    texts_padded = pad_sequence(texts, batch_first=True, padding_value=0)\n",
        "    return texts_padded, torch.stack(labels)"
      ]
    },
    {
      "cell_type": "code",
      "execution_count": 22,
      "metadata": {
        "id": "v1xm8K-B0BoD"
      },
      "outputs": [],
      "source": [
        "train_dataset = TextDataset(X_train, y_train, vocab)\n",
        "val_dataset = TextDataset(X_val, y_val, vocab)\n",
        "test_dataset = TextDataset(X_test, y_test, vocab)\n",
        "\n",
        "train_loader = DataLoader(train_dataset, batch_size=64, shuffle=True, collate_fn=collate_fn, pin_memory=True, num_workers=0)\n",
        "val_loader = DataLoader(val_dataset, batch_size=64, shuffle=False, collate_fn=collate_fn, pin_memory=True, num_workers=0)\n",
        "test_loader = DataLoader(test_dataset, batch_size=64, shuffle=False, collate_fn=collate_fn, pin_memory=True, num_workers=0)"
      ]
    },
    {
      "cell_type": "code",
      "execution_count": 23,
      "metadata": {
        "id": "MS0e3b1D5dAZ"
      },
      "outputs": [],
      "source": [
        "# Валидация\n",
        "def validate_model(model, val_loader, criterion, device):\n",
        "    model.eval()\n",
        "    val_loss = 0\n",
        "    all_preds, all_labels = [], []\n",
        "\n",
        "    with torch.no_grad():\n",
        "        for texts, labels in val_loader:\n",
        "            texts, labels = texts.to(device), labels.to(device)\n",
        "            outputs = model(texts)\n",
        "            loss = criterion(outputs, labels)\n",
        "            val_loss += loss.item()\n",
        "            preds = outputs.argmax(dim=1)\n",
        "            all_preds.extend(preds.cpu().numpy())\n",
        "            all_labels.extend(labels.cpu().numpy())\n",
        "\n",
        "    val_loss /= len(val_loader)\n",
        "    acc = accuracy_score(all_labels, all_preds)\n",
        "    f1_macro = f1_score(all_labels, all_preds, average='macro')\n",
        "\n",
        "    return val_loss, acc, f1_macro, all_labels, all_preds"
      ]
    },
    {
      "cell_type": "code",
      "execution_count": 24,
      "metadata": {
        "id": "DgyCpYfU5tLE"
      },
      "outputs": [],
      "source": [
        "# Обучение с логами и графиками\n",
        "def train(model, train_loader, val_loader, optimizer, criterion, device, epochs, model_name, patience=3):\n",
        "    model.to(device)\n",
        "    \n",
        "    train_losses = []\n",
        "    val_losses = []\n",
        "    val_accuracies = []\n",
        "    val_f1s = []\n",
        "\n",
        "    best_f1 = 0\n",
        "    trigger_times = 0\n",
        "\n",
        "    print(f\"\\nОбучение {model_name}...\")\n",
        "    for epoch in range(epochs):\n",
        "        # Обучение\n",
        "        model.train()\n",
        "        total_train_loss = 0\n",
        "        for texts, labels in tqdm(train_loader, desc=f\"Epoch {epoch+1}/{epochs}\", leave=False):\n",
        "            texts, labels = texts.to(device), labels.to(device)\n",
        "            optimizer.zero_grad()\n",
        "            outputs = model(texts)\n",
        "            loss = criterion(outputs, labels)\n",
        "            loss.backward()\n",
        "            optimizer.step()\n",
        "            total_train_loss += loss.item()\n",
        "        avg_train_loss = total_train_loss / len(train_loader)\n",
        "        train_losses.append(avg_train_loss)\n",
        "\n",
        "        # Валидация\n",
        "        val_loss, val_acc, val_f1, val_true, val_pred = validate_model(model, val_loader, criterion, device)\n",
        "        val_losses.append(val_loss)\n",
        "        val_accuracies.append(val_acc)\n",
        "        val_f1s.append(val_f1)\n",
        "\n",
        "        print(f\"Epoch {epoch+1}/{epochs} | \"\n",
        "              f\"Train Loss: {avg_train_loss:.4f} | \"\n",
        "              f\"Val Loss: {val_loss:.4f} | \"\n",
        "              f\"Val Acc: {val_acc:.4f} | \"\n",
        "              f\"Val Macro F1: {val_f1:.4f}\")\n",
        "\n",
        "        # Early Stopping\n",
        "        if val_f1 > best_f1:\n",
        "            best_f1 = val_f1\n",
        "            trigger_times = 0\n",
        "            torch.save(model.state_dict(), f\"models/{model_name.lower().replace(' ', '_')}_best.pth\")\n",
        "            print(\"Сохранена лучшая модель!\")\n",
        "        else:\n",
        "            trigger_times += 1\n",
        "            if trigger_times >= patience:\n",
        "                print(f\"Early stopping на эпохе {epoch+1}\")\n",
        "                break\n",
        "\n",
        "    # --- Графики ---\n",
        "    plt.figure(figsize=(15, 4))\n",
        "    plt.subplot(1, 3, 1)\n",
        "    plt.plot(train_losses, label='Train Loss', marker='o')\n",
        "    plt.plot(val_losses, label='Val Loss', marker='o')\n",
        "    plt.title(f'{model_name}: Loss')\n",
        "    plt.xlabel('Epoch'); plt.ylabel('Loss'); plt.legend(); plt.grid(True)\n",
        "\n",
        "    plt.subplot(1, 3, 2)\n",
        "    plt.plot(val_accuracies, color='green', marker='s')\n",
        "    plt.title(f'{model_name}: Val Accuracy')\n",
        "    plt.xlabel('Epoch'); plt.ylabel('Accuracy'); plt.grid(True)\n",
        "\n",
        "    plt.subplot(1, 3, 3)\n",
        "    plt.plot(val_f1s, color='purple', marker='^')\n",
        "    plt.title(f'{model_name}: Val Macro F1')\n",
        "    plt.xlabel('Epoch'); plt.ylabel('Macro F1'); plt.grid(True)\n",
        "\n",
        "    plt.tight_layout()\n",
        "    plt.savefig(f\"models/{model_name.lower().replace(' ', '_')}_training.png\", dpi=150)\n",
        "    plt.show()\n",
        "\n",
        "    return train_losses, val_losses, val_accuracies, val_f1s"
      ]
    },
    {
      "cell_type": "markdown",
      "metadata": {
        "id": "V5sp-ybw0_36"
      },
      "source": [
        "### Bi-LSTM"
      ]
    },
    {
      "cell_type": "code",
      "execution_count": 25,
      "metadata": {
        "id": "5DILj-Bv1FXG"
      },
      "outputs": [],
      "source": [
        "class BiLSTMClassifier(nn.Module):\n",
        "    def __init__(self, vocab_size, embed_dim=128, hidden_dim=64, num_classes=2):\n",
        "        super().__init__()\n",
        "        self.embedding = nn.Embedding(vocab_size, embed_dim, padding_idx=0)\n",
        "        self.lstm = nn.LSTM(embed_dim, hidden_dim, bidirectional=True, batch_first=True)\n",
        "        self.fc = nn.Linear(hidden_dim * 2, num_classes)\n",
        "        self.dropout = nn.Dropout(0.5)\n",
        "    def forward(self, x):\n",
        "        x = self.embedding(x)\n",
        "        _, (h_n, _) = self.lstm(x)\n",
        "        out = torch.cat([h_n[-2], h_n[-1]], dim=1)\n",
        "        return self.fc(self.dropout(out))"
      ]
    },
    {
      "cell_type": "code",
      "execution_count": 26,
      "metadata": {
        "colab": {
          "base_uri": "https://localhost:8080/",
          "height": 1000
        },
        "id": "iDHil_WF1H2s",
        "outputId": "e2701f93-aebb-4d34-fee4-3ea32d14f870"
      },
      "outputs": [
        {
          "name": "stdout",
          "output_type": "stream",
          "text": [
            "\n",
            "Обучение Bi-LSTM...\n"
          ]
        },
        {
          "name": "stderr",
          "output_type": "stream",
          "text": [
            "                                                              \r"
          ]
        },
        {
          "name": "stdout",
          "output_type": "stream",
          "text": [
            "Epoch 1/6 | Train Loss: 0.1004 | Val Loss: 0.0285 | Val Acc: 0.9911 | Val Macro F1: 0.9911\n",
            "Сохранена лучшая модель!\n"
          ]
        },
        {
          "name": "stderr",
          "output_type": "stream",
          "text": [
            "                                                              \r"
          ]
        },
        {
          "name": "stdout",
          "output_type": "stream",
          "text": [
            "Epoch 2/6 | Train Loss: 0.0270 | Val Loss: 0.0196 | Val Acc: 0.9937 | Val Macro F1: 0.9937\n",
            "Сохранена лучшая модель!\n"
          ]
        },
        {
          "name": "stderr",
          "output_type": "stream",
          "text": [
            "                                                              \r"
          ]
        },
        {
          "name": "stdout",
          "output_type": "stream",
          "text": [
            "Epoch 3/6 | Train Loss: 0.0694 | Val Loss: 0.0185 | Val Acc: 0.9940 | Val Macro F1: 0.9940\n",
            "Сохранена лучшая модель!\n"
          ]
        },
        {
          "name": "stderr",
          "output_type": "stream",
          "text": [
            "                                                              \r"
          ]
        },
        {
          "name": "stdout",
          "output_type": "stream",
          "text": [
            "Epoch 4/6 | Train Loss: 0.0160 | Val Loss: 0.0178 | Val Acc: 0.9940 | Val Macro F1: 0.9940\n"
          ]
        },
        {
          "name": "stderr",
          "output_type": "stream",
          "text": [
            "                                                              \r"
          ]
        },
        {
          "name": "stdout",
          "output_type": "stream",
          "text": [
            "Epoch 5/6 | Train Loss: 0.0125 | Val Loss: 0.0228 | Val Acc: 0.9924 | Val Macro F1: 0.9924\n"
          ]
        },
        {
          "name": "stderr",
          "output_type": "stream",
          "text": [
            "                                                              \r"
          ]
        },
        {
          "name": "stdout",
          "output_type": "stream",
          "text": [
            "Epoch 6/6 | Train Loss: 0.0216 | Val Loss: 0.0148 | Val Acc: 0.9951 | Val Macro F1: 0.9951\n",
            "Сохранена лучшая модель!\n"
          ]
        },
        {
          "data": {
            "image/png": "[encoded data removed]",
            "text/plain": [
              "<Figure size 1500x400 with 3 Axes>"
            ]
          },
          "metadata": {},
          "output_type": "display_data"
        },
        {
          "data": {
            "text/plain": [
              "([0.10043441385559922,\n",
              "  0.02702482622924942,\n",
              "  0.06936730350839404,\n",
              "  0.015987556749384527,\n",
              "  0.012544387694343268,\n",
              "  0.021616474121845527],\n",
              " [0.028542506654924374,\n",
              "  0.019643016290161013,\n",
              "  0.018491951719527583,\n",
              "  0.017758142452275874,\n",
              "  0.0228273498227689,\n",
              "  0.014801176114544743],\n",
              " [0.9910994764397906,\n",
              "  0.9936649214659686,\n",
              "  0.9940314136125654,\n",
              "  0.9939790575916231,\n",
              "  0.9923560209424084,\n",
              "  0.995130890052356],\n",
              " [0.9910994716578395,\n",
              "  0.99366482378398,\n",
              "  0.9940313924088828,\n",
              "  0.9939789790135114,\n",
              "  0.9923559685587604,\n",
              "  0.9951308755174568])"
            ]
          },
          "execution_count": 26,
          "metadata": {},
          "output_type": "execute_result"
        }
      ],
      "source": [
        "bilstm = BiLSTMClassifier(len(vocab)).to(device)\n",
        "optimizer_bilstm = torch.optim.Adam(bilstm.parameters(), lr=1e-3, weight_decay=1e-4)\n",
        "criterion = nn.CrossEntropyLoss()\n",
        "\n",
        "train(\n",
        "    model=bilstm,\n",
        "    train_loader=train_loader,\n",
        "    val_loader=val_loader,\n",
        "    optimizer=optimizer_bilstm,\n",
        "    criterion=criterion,\n",
        "    device=device,\n",
        "    epochs=6,\n",
        "    model_name=\"Bi-LSTM\",\n",
        "    patience=3\n",
        ")"
      ]
    },
    {
      "cell_type": "markdown",
      "metadata": {
        "id": "9scC56LP6j0b"
      },
      "source": [
        "### CNN"
      ]
    },
    {
      "cell_type": "code",
      "execution_count": 27,
      "metadata": {
        "id": "afJApfjk6oOc"
      },
      "outputs": [],
      "source": [
        "class CNNClassifier(nn.Module):\n",
        "    def __init__(self, vocab_size, embed_dim=128, num_classes=2, num_filters=50, filter_sizes=[3,4,5]):\n",
        "        super().__init__()\n",
        "        self.embedding = nn.Embedding(vocab_size, embed_dim, padding_idx=0)\n",
        "        self.convs = nn.ModuleList([nn.Conv1d(embed_dim, num_filters, fs) for fs in filter_sizes])\n",
        "        self.fc = nn.Linear(len(filter_sizes) * num_filters, num_classes)\n",
        "        self.dropout = nn.Dropout(0.5)\n",
        "    def forward(self, x):\n",
        "        x = self.embedding(x).permute(0, 2, 1)\n",
        "        conv_outs = [F.relu(conv(x)) for conv in self.convs]\n",
        "        pooled = [F.max_pool1d(c, c.size(-1)).squeeze(-1) for c in conv_outs]\n",
        "        x = torch.cat(pooled, dim=1)\n",
        "        return self.fc(self.dropout(x))"
      ]
    },
    {
      "cell_type": "code",
      "execution_count": 28,
      "metadata": {
        "colab": {
          "base_uri": "https://localhost:8080/",
          "height": 1000
        },
        "id": "mTEpin5w6o3h",
        "outputId": "93ab01ef-dc04-429e-afb1-1f307dd27a9e"
      },
      "outputs": [
        {
          "name": "stdout",
          "output_type": "stream",
          "text": [
            "\n",
            "Обучение CNN...\n"
          ]
        },
        {
          "name": "stderr",
          "output_type": "stream",
          "text": [
            "                                                              \r"
          ]
        },
        {
          "name": "stdout",
          "output_type": "stream",
          "text": [
            "Epoch 1/6 | Train Loss: 0.0894 | Val Loss: 0.0307 | Val Acc: 0.9905 | Val Macro F1: 0.9905\n",
            "Сохранена лучшая модель!\n"
          ]
        },
        {
          "name": "stderr",
          "output_type": "stream",
          "text": [
            "                                                              \r"
          ]
        },
        {
          "name": "stdout",
          "output_type": "stream",
          "text": [
            "Epoch 2/6 | Train Loss: 0.0345 | Val Loss: 0.0234 | Val Acc: 0.9923 | Val Macro F1: 0.9923\n",
            "Сохранена лучшая модель!\n"
          ]
        },
        {
          "name": "stderr",
          "output_type": "stream",
          "text": [
            "                                                              \r"
          ]
        },
        {
          "name": "stdout",
          "output_type": "stream",
          "text": [
            "Epoch 3/6 | Train Loss: 0.0247 | Val Loss: 0.0213 | Val Acc: 0.9935 | Val Macro F1: 0.9935\n",
            "Сохранена лучшая модель!\n"
          ]
        },
        {
          "name": "stderr",
          "output_type": "stream",
          "text": [
            "                                                              \r"
          ]
        },
        {
          "name": "stdout",
          "output_type": "stream",
          "text": [
            "Epoch 4/6 | Train Loss: 0.0201 | Val Loss: 0.0181 | Val Acc: 0.9938 | Val Macro F1: 0.9938\n",
            "Сохранена лучшая модель!\n"
          ]
        },
        {
          "name": "stderr",
          "output_type": "stream",
          "text": [
            "                                                              \r"
          ]
        },
        {
          "name": "stdout",
          "output_type": "stream",
          "text": [
            "Epoch 5/6 | Train Loss: 0.0164 | Val Loss: 0.0168 | Val Acc: 0.9942 | Val Macro F1: 0.9942\n",
            "Сохранена лучшая модель!\n"
          ]
        },
        {
          "name": "stderr",
          "output_type": "stream",
          "text": [
            "                                                              \r"
          ]
        },
        {
          "name": "stdout",
          "output_type": "stream",
          "text": [
            "Epoch 6/6 | Train Loss: 0.0141 | Val Loss: 0.0171 | Val Acc: 0.9937 | Val Macro F1: 0.9937\n"
          ]
        },
        {
          "data": {
            "image/png": "[encoded data removed]",
            "text/plain": [
              "<Figure size 1500x400 with 3 Axes>"
            ]
          },
          "metadata": {},
          "output_type": "display_data"
        },
        {
          "data": {
            "text/plain": [
              "([0.08935839121550193,\n",
              "  0.034537317912072235,\n",
              "  0.024735180382370783,\n",
              "  0.02014379553718804,\n",
              "  0.016400168648724057,\n",
              "  0.014066962058563488],\n",
              " [0.03068384009625227,\n",
              "  0.023381571718382597,\n",
              "  0.021288095603939957,\n",
              "  0.018134931047886212,\n",
              "  0.01679292181720895,\n",
              "  0.017094965140727725],\n",
              " [0.9904712041884817,\n",
              "  0.9922513089005236,\n",
              "  0.9935078534031414,\n",
              "  0.9937696335078534,\n",
              "  0.9941884816753926,\n",
              "  0.9936649214659686],\n",
              " [0.9904711335597849,\n",
              "  0.9922512843466043,\n",
              "  0.9935078531184058,\n",
              "  0.9937696101274534,\n",
              "  0.994188462160758,\n",
              "  0.9936648075294049])"
            ]
          },
          "execution_count": 28,
          "metadata": {},
          "output_type": "execute_result"
        }
      ],
      "source": [
        "cnn = CNNClassifier(len(vocab)).to(device)\n",
        "optimizer_cnn = torch.optim.Adam(cnn.parameters(), lr=1e-3, weight_decay=1e-4)\n",
        "criterion = nn.CrossEntropyLoss()\n",
        "\n",
        "train(\n",
        "    model=cnn,\n",
        "    train_loader=train_loader,\n",
        "    val_loader=val_loader,\n",
        "    optimizer=optimizer_cnn,\n",
        "    criterion=criterion,\n",
        "    device=device,\n",
        "    epochs=6,\n",
        "    model_name=\"CNN\",\n",
        "    patience=3\n",
        ")"
      ]
    },
    {
      "cell_type": "code",
      "execution_count": 29,
      "metadata": {
        "id": "bIL7IMty6vFm"
      },
      "outputs": [],
      "source": [
        "# Оценка на тесте\n",
        "def evaluate_torch_model_with_metrics(model, loader, device, model_name):\n",
        "    model.eval()\n",
        "    all_preds, all_probs, all_labels = [], [], []\n",
        "    with torch.no_grad():\n",
        "        for texts, labels in loader:\n",
        "            texts, labels = texts.to(device), labels.to(device)\n",
        "            outputs = model(texts)\n",
        "            probs = F.softmax(outputs, dim=1)\n",
        "            preds = outputs.argmax(dim=1)\n",
        "            all_preds.extend(preds.cpu().numpy())\n",
        "            all_probs.extend(probs[:, 1].cpu().numpy())\n",
        "            all_labels.extend(labels.cpu().numpy())\n",
        "\n",
        "    y_true = np.array(all_labels)\n",
        "    y_pred = np.array(all_preds)\n",
        "    y_proba = np.array(all_probs)\n",
        "\n",
        "    # Метрики\n",
        "    acc = accuracy_score(y_true, y_pred)\n",
        "    f1_macro = f1_score(y_true, y_pred, average='macro')\n",
        "    f1_weighted = f1_score(y_true, y_pred, average='weighted')\n",
        "    roc_auc = roc_auc_score(y_true, y_proba)\n",
        "    pr_auc = average_precision_score(y_true, y_proba)\n",
        "    cm = confusion_matrix(y_true, y_pred)\n",
        "\n",
        "    # Вывод\n",
        "    print(f\"\\n=== Результаты модели: {model_name} ===\")\n",
        "    print(f\"Accuracy: {acc:.4f}\")\n",
        "    print(f\"Macro F1: {f1_macro:.4f}\")\n",
        "    print(f\"Weighted F1: {f1_weighted:.4f}\")\n",
        "    print(f\"ROC-AUC: {roc_auc:.4f}\")\n",
        "    print(f\"PR-AUC: {pr_auc:.4f}\")\n",
        "\n",
        "    print(\"\\n--- Confusion Matrix ---\")\n",
        "    print(\"          Predicted\")\n",
        "    print(\"           Informal Formal\")\n",
        "    print(f\"Actual Informal   {cm[0][0]:>6} {cm[0][1]:>6}\")\n",
        "    print(f\"       Formal     {cm[1][0]:>6} {cm[1][1]:>6}\")\n",
        "\n",
        "    print(\"\\n--- Classification Report ---\")\n",
        "    target_names = ['informal', 'formal']\n",
        "    print(classification_report(y_true, y_pred, target_names=target_names))\n",
        "\n",
        "    return {\n",
        "        \"name\": model_name,\n",
        "        \"acc\": acc,\n",
        "        \"f1_macro\": f1_macro,\n",
        "        \"f1_weighted\": f1_weighted,\n",
        "        \"roc_auc\": roc_auc,\n",
        "        \"pr_auc\": pr_auc,\n",
        "        \"cm\": cm\n",
        "    }\n"
      ]
    },
    {
      "cell_type": "code",
      "execution_count": 30,
      "metadata": {
        "colab": {
          "base_uri": "https://localhost:8080/"
        },
        "id": "lxbKX5Lu62kx",
        "outputId": "37e3bd78-7a9c-4f37-8860-ceb7a16e38e7"
      },
      "outputs": [
        {
          "name": "stdout",
          "output_type": "stream",
          "text": [
            "\n",
            "=== Результаты модели: Bi-LSTM ===\n",
            "Accuracy: 0.9932\n",
            "Macro F1: 0.9932\n",
            "Weighted F1: 0.9932\n",
            "ROC-AUC: 0.9996\n",
            "PR-AUC: 0.9996\n",
            "\n",
            "--- Confusion Matrix ---\n",
            "          Predicted\n",
            "           Informal Formal\n",
            "Actual Informal     9494     56\n",
            "       Formal         73   9477\n",
            "\n",
            "--- Classification Report ---\n",
            "              precision    recall  f1-score   support\n",
            "\n",
            "    informal       0.99      0.99      0.99      9550\n",
            "      formal       0.99      0.99      0.99      9550\n",
            "\n",
            "    accuracy                           0.99     19100\n",
            "   macro avg       0.99      0.99      0.99     19100\n",
            "weighted avg       0.99      0.99      0.99     19100\n",
            "\n"
          ]
        }
      ],
      "source": [
        "# Оценка\n",
        "res_bilstm = evaluate_torch_model_with_metrics(bilstm, test_loader, device, \"Bi-LSTM\")"
      ]
    },
    {
      "cell_type": "code",
      "execution_count": 31,
      "metadata": {
        "colab": {
          "base_uri": "https://localhost:8080/"
        },
        "id": "n0DYyfFK66aB",
        "outputId": "61807e53-c07a-43cb-eda9-e12ef727fda7"
      },
      "outputs": [
        {
          "name": "stdout",
          "output_type": "stream",
          "text": [
            "\n",
            "=== Результаты модели: CNN ===\n",
            "Accuracy: 0.9926\n",
            "Macro F1: 0.9926\n",
            "Weighted F1: 0.9926\n",
            "ROC-AUC: 0.9997\n",
            "PR-AUC: 0.9997\n",
            "\n",
            "--- Confusion Matrix ---\n",
            "          Predicted\n",
            "           Informal Formal\n",
            "Actual Informal     9507     43\n",
            "       Formal         98   9452\n",
            "\n",
            "--- Classification Report ---\n",
            "              precision    recall  f1-score   support\n",
            "\n",
            "    informal       0.99      1.00      0.99      9550\n",
            "      formal       1.00      0.99      0.99      9550\n",
            "\n",
            "    accuracy                           0.99     19100\n",
            "   macro avg       0.99      0.99      0.99     19100\n",
            "weighted avg       0.99      0.99      0.99     19100\n",
            "\n"
          ]
        }
      ],
      "source": [
        "res_cnn = evaluate_torch_model_with_metrics(cnn, test_loader, device, \"CNN\")"
      ]
    },
    {
      "cell_type": "markdown",
      "metadata": {
        "id": "C0oxXUr4dDq3"
      },
      "source": [
        "#  Fine-tuning BERT"
      ]
    },
    {
      "cell_type": "code",
      "execution_count": 32,
      "metadata": {
        "id": "xjBHOhx5dE_e"
      },
      "outputs": [],
      "source": [
        "model_name = \"DeepPavlov/rubert-base-cased\"\n",
        "tokenizer = AutoTokenizer.from_pretrained(model_name)"
      ]
    },
    {
      "cell_type": "code",
      "execution_count": 33,
      "metadata": {
        "colab": {
          "base_uri": "https://localhost:8080/"
        },
        "id": "7g_N1m5edVaM",
        "outputId": "aa47ae1e-d41e-469a-a6c0-b108ab05a26f"
      },
      "outputs": [
        {
          "name": "stdout",
          "output_type": "stream",
          "text": [
            "Кодирование текстов для BERT...\n"
          ]
        }
      ],
      "source": [
        "def encode_texts(texts, tokenizer, max_length=512):\n",
        "    return tokenizer(texts, truncation=True, padding=True, max_length=max_length, return_tensors='pt')\n",
        "\n",
        "print(\"Кодирование текстов для BERT...\")\n",
        "\n",
        "# Train\n",
        "train_enc = encode_texts(X_train, tokenizer)\n",
        "train_dataset_bert = TensorDataset(\n",
        "    train_enc['input_ids'], train_enc['attention_mask'],\n",
        "    torch.tensor(y_train, dtype=torch.long)\n",
        ")\n",
        "\n",
        "# Val\n",
        "val_enc = encode_texts(X_val, tokenizer)\n",
        "val_dataset_bert = TensorDataset(\n",
        "    val_enc['input_ids'], val_enc['attention_mask'],\n",
        "    torch.tensor(y_val, dtype=torch.long)\n",
        ")\n",
        "\n",
        "# Test\n",
        "test_enc = encode_texts(X_test, tokenizer)\n",
        "test_dataset_bert = TensorDataset(\n",
        "    test_enc['input_ids'], test_enc['attention_mask'],\n",
        "    torch.tensor(y_test, dtype=torch.long)\n",
        ")"
      ]
    },
    {
      "cell_type": "code",
      "execution_count": 34,
      "metadata": {
        "id": "JZnGMoE_daM2"
      },
      "outputs": [],
      "source": [
        "train_loader_bert = DataLoader(train_dataset_bert, batch_size=16, shuffle=True, pin_memory=True, num_workers=0)\n",
        "val_loader_bert = DataLoader(val_dataset_bert, batch_size=16, shuffle=False, pin_memory=True, num_workers=0)\n",
        "test_loader_bert = DataLoader(test_dataset_bert, batch_size=16, shuffle=False, pin_memory=True, num_workers=0)"
      ]
    },
    {
      "cell_type": "code",
      "execution_count": 35,
      "metadata": {
        "id": "bUHrl_YGdgsv"
      },
      "outputs": [],
      "source": [
        "class BERTClassifier(nn.Module):\n",
        "    def __init__(self, bert_model, num_classes=2):\n",
        "        super().__init__()\n",
        "        self.bert = bert_model\n",
        "        self.dropout = nn.Dropout(0.5)\n",
        "        self.classifier = nn.Linear(bert_model.config.hidden_size, num_classes)\n",
        "    def forward(self, input_ids, attention_mask):\n",
        "        outputs = self.bert(input_ids=input_ids, attention_mask=attention_mask)\n",
        "        return self.classifier(self.dropout(outputs.pooler_output))"
      ]
    },
    {
      "cell_type": "code",
      "execution_count": 36,
      "metadata": {
        "colab": {
          "base_uri": "https://localhost:8080/",
          "height": 49,
          "referenced_widgets": [
            "bc610435d4b9421ea10f47e6fc20f42a",
            "279b7c62f96840c39bba19522f40e289",
            "3870db55b96442948c6906e7deddd991",
            "948248a13e6c4ed69d341ca0545dba45",
            "8d6d6ad4a24a4b79acd961666cf49029",
            "c8c35efcd50745349040e9c16ba382b8",
            "6645e9aeb0d2445f9a84e2a4b8f67d61",
            "e537449539b747d999487bfc79ef46d7",
            "6594fd89453a445184830d38feda8ee5",
            "2dd09946fdfd48e680ed887912f20de4",
            "5cd1b0dba95a4719819e62eb9a16f8c6"
          ]
        },
        "id": "LcCpE7iMdjhy",
        "outputId": "0f7890c1-2552-49be-b418-5334f775a64b"
      },
      "outputs": [
        {
          "name": "stderr",
          "output_type": "stream",
          "text": [
            "Some weights of the model checkpoint at DeepPavlov/rubert-base-cased were not used when initializing BertModel: ['cls.predictions.bias', 'cls.predictions.decoder.bias', 'cls.predictions.decoder.weight', 'cls.predictions.transform.LayerNorm.bias', 'cls.predictions.transform.LayerNorm.weight', 'cls.predictions.transform.dense.bias', 'cls.predictions.transform.dense.weight', 'cls.seq_relationship.bias', 'cls.seq_relationship.weight']\n",
            "- This IS expected if you are initializing BertModel from the checkpoint of a model trained on another task or with another architecture (e.g. initializing a BertForSequenceClassification model from a BertForPreTraining model).\n",
            "- This IS NOT expected if you are initializing BertModel from the checkpoint of a model that you expect to be exactly identical (initializing a BertForSequenceClassification model from a BertForSequenceClassification model).\n"
          ]
        }
      ],
      "source": [
        "bert_backbone = AutoModel.from_pretrained(model_name)\n",
        "model_bert = BERTClassifier(bert_backbone).to(device)\n",
        "optimizer = AdamW(model_bert.parameters(), lr=1e-5, weight_decay=0.01)\n",
        "criterion = nn.CrossEntropyLoss()"
      ]
    },
    {
      "cell_type": "code",
      "execution_count": 37,
      "metadata": {
        "id": "ys9rEOqWHuWx"
      },
      "outputs": [],
      "source": [
        "# Списки для графиков\n",
        "train_losses = []\n",
        "val_losses = []\n",
        "val_f1s = []\n",
        "\n",
        "# Вспомогательная функция валидации\n",
        "def validate_bert(model, val_loader, criterion, device):\n",
        "    model.eval()\n",
        "    total_loss = 0\n",
        "    all_preds, all_labels = [], []\n",
        "    with torch.no_grad():\n",
        "        for batch in val_loader:\n",
        "            input_ids, attention_mask, labels = [b.to(device) for b in batch]\n",
        "            outputs = model(input_ids, attention_mask)\n",
        "            loss = criterion(outputs, labels)\n",
        "            total_loss += loss.item()\n",
        "            preds = outputs.argmax(dim=1)\n",
        "            all_preds.extend(preds.cpu().numpy())\n",
        "            all_labels.extend(labels.cpu().numpy())\n",
        "    avg_loss = total_loss / len(val_loader)\n",
        "    f1 = f1_score(all_labels, all_preds, average='macro')\n",
        "    return avg_loss, f1, all_labels, all_preds"
      ]
    },
    {
      "cell_type": "code",
      "execution_count": 38,
      "metadata": {
        "id": "QXyihEsidnDP"
      },
      "outputs": [
        {
          "name": "stdout",
          "output_type": "stream",
          "text": [
            "\n",
            "Fine-tuning RuBERT...\n"
          ]
        },
        {
          "name": "stderr",
          "output_type": "stream",
          "text": [
            "Epoch 1/1: 100%|██████████| 5571/5571 [28:27<00:00,  3.26it/s]\n"
          ]
        },
        {
          "name": "stdout",
          "output_type": "stream",
          "text": [
            "Epoch 1/1 | Train Loss: 0.0100 | Val Loss: 0.0041 | Val Macro F1: 0.9988\n",
            "Сохранена лучшая модель!\n"
          ]
        },
        {
          "data": {
            "image/png": "[encoded data removed]",
            "text/plain": [
              "<Figure size 1200x400 with 2 Axes>"
            ]
          },
          "metadata": {},
          "output_type": "display_data"
        }
      ],
      "source": [
        "# Обучение с графиками\n",
        "best_f1 = 0\n",
        "patience = 2\n",
        "trigger_times = 0\n",
        "num_epochs = 1\n",
        "\n",
        "print(\"\\nFine-tuning RuBERT...\")\n",
        "for epoch in range(num_epochs):\n",
        "    # Обучение\n",
        "    model_bert.train()\n",
        "    total_train_loss = 0\n",
        "    for batch in tqdm(train_loader_bert, desc=f\"Epoch {epoch+1}/{num_epochs}\"):\n",
        "        input_ids, attention_mask, labels = [b.to(device, non_blocking=True) for b in batch]\n",
        "        optimizer.zero_grad()\n",
        "        outputs = model_bert(input_ids, attention_mask)\n",
        "        loss = criterion(outputs, labels)\n",
        "        loss.backward()\n",
        "        optimizer.step()\n",
        "        total_train_loss += loss.item()\n",
        "    avg_train_loss = total_train_loss / len(train_loader_bert)\n",
        "    train_losses.append(avg_train_loss)\n",
        "\n",
        "    # Валидация\n",
        "    val_loss, val_f1, _, _ = validate_bert(model_bert, val_loader_bert, criterion, device)\n",
        "    val_losses.append(val_loss)\n",
        "    val_f1s.append(val_f1)\n",
        "\n",
        "    print(f\"Epoch {epoch+1}/{num_epochs} | Train Loss: {avg_train_loss:.4f} | Val Loss: {val_loss:.4f} | Val Macro F1: {val_f1:.4f}\")\n",
        "\n",
        "    # Early Stopping\n",
        "    if val_f1 > best_f1:\n",
        "        best_f1 = val_f1\n",
        "        trigger_times = 0\n",
        "        torch.save(model_bert.state_dict(), \"models/bert_classifier_best.pth\")\n",
        "        print(\"Сохранена лучшая модель!\")\n",
        "    else:\n",
        "        trigger_times += 1\n",
        "        if trigger_times >= patience:\n",
        "            print(\"Early stopping!\")\n",
        "            break\n",
        "\n",
        "# Графики обучения для BERT\n",
        "plt.figure(figsize=(12, 4))\n",
        "\n",
        "plt.subplot(1, 2, 1)\n",
        "plt.plot(train_losses, label='Train Loss', marker='o')\n",
        "plt.plot(val_losses, label='Val Loss', marker='o')\n",
        "plt.title('RuBERT: Loss')\n",
        "plt.xlabel('Epoch')\n",
        "plt.ylabel('Loss')\n",
        "plt.legend()\n",
        "plt.grid(True)\n",
        "\n",
        "plt.subplot(1, 2, 2)\n",
        "plt.plot(val_f1s, label='Val Macro F1', color='purple', marker='^')\n",
        "plt.title('RuBERT: Validation Macro F1')\n",
        "plt.xlabel('Epoch')\n",
        "plt.ylabel('Macro F1')\n",
        "plt.grid(True)\n",
        "\n",
        "plt.tight_layout()\n",
        "plt.savefig(\"models/bert_training.png\", dpi=150)\n",
        "plt.show()"
      ]
    },
    {
      "cell_type": "code",
      "execution_count": 40,
      "metadata": {},
      "outputs": [],
      "source": [
        "def evaluate_bert_with_metrics(model, loader, device, model_name):\n",
        "    model.eval()\n",
        "    all_preds, all_probs, all_labels = [], [], []\n",
        "    with torch.no_grad():\n",
        "        for input_ids, attention_mask, labels in loader:\n",
        "            input_ids = input_ids.to(device)\n",
        "            attention_mask = attention_mask.to(device)\n",
        "            labels = labels.to(device)\n",
        "\n",
        "            # Передаем в модель оба тензора\n",
        "            outputs = model(input_ids, attention_mask)\n",
        "\n",
        "            probs = F.softmax(outputs, dim=1)\n",
        "            preds = outputs.argmax(dim=1)\n",
        "            all_preds.extend(preds.cpu().numpy())\n",
        "            all_probs.extend(probs[:, 1].cpu().numpy())\n",
        "            all_labels.extend(labels.cpu().numpy())\n",
        "\n",
        "    y_true = np.array(all_labels)\n",
        "    y_pred = np.array(all_preds)\n",
        "    y_proba = np.array(all_probs)\n",
        "\n",
        "    # Метрики\n",
        "    acc = accuracy_score(y_true, y_pred)\n",
        "    f1_macro = f1_score(y_true, y_pred, average='macro')\n",
        "    f1_weighted = f1_score(y_true, y_pred, average='weighted')\n",
        "    roc_auc = roc_auc_score(y_true, y_proba)\n",
        "    pr_auc = average_precision_score(y_true, y_proba)\n",
        "    cm = confusion_matrix(y_true, y_pred)\n",
        "\n",
        "    # Вывод\n",
        "    print(f\"\\n=== Результаты модели: {model_name} ===\")\n",
        "    print(f\"Accuracy: {acc:.4f}\")\n",
        "    print(f\"Macro F1: {f1_macro:.4f}\")\n",
        "    print(f\"Weighted F1: {f1_weighted:.4f}\")\n",
        "    print(f\"ROC-AUC: {roc_auc:.4f}\")\n",
        "    print(f\"PR-AUC: {pr_auc:.4f}\")\n",
        "\n",
        "    print(\"\\n--- Confusion Matrix ---\")\n",
        "    print(\"          Predicted\")\n",
        "    print(\"           Informal Formal\")\n",
        "    print(f\"Actual Informal   {cm[0][0]:>6} {cm[0][1]:>6}\")\n",
        "    print(f\"       Formal     {cm[1][0]:>6} {cm[1][1]:>6}\")\n",
        "\n",
        "    print(\"\\n--- Classification Report ---\")\n",
        "    target_names = ['informal', 'formal']\n",
        "    print(classification_report(y_true, y_pred, target_names=target_names))\n",
        "\n",
        "    return {\n",
        "        \"name\": model_name,\n",
        "        \"acc\": acc,\n",
        "        \"f1_macro\": f1_macro,\n",
        "        \"f1_weighted\": f1_weighted,\n",
        "        \"roc_auc\": roc_auc,\n",
        "        \"pr_auc\": pr_auc,\n",
        "        \"cm\": cm\n",
        "    }"
      ]
    },
    {
      "cell_type": "code",
      "execution_count": 41,
      "metadata": {
        "id": "XZi2yIKadsPd"
      },
      "outputs": [
        {
          "name": "stdout",
          "output_type": "stream",
          "text": [
            "\n",
            "=== Результаты модели: RuBERT ===\n",
            "Accuracy: 0.9984\n",
            "Macro F1: 0.9984\n",
            "Weighted F1: 0.9984\n",
            "ROC-AUC: 1.0000\n",
            "PR-AUC: 1.0000\n",
            "\n",
            "--- Confusion Matrix ---\n",
            "          Predicted\n",
            "           Informal Formal\n",
            "Actual Informal     9527     23\n",
            "       Formal          7   9543\n",
            "\n",
            "--- Classification Report ---\n",
            "              precision    recall  f1-score   support\n",
            "\n",
            "    informal       1.00      1.00      1.00      9550\n",
            "      formal       1.00      1.00      1.00      9550\n",
            "\n",
            "    accuracy                           1.00     19100\n",
            "   macro avg       1.00      1.00      1.00     19100\n",
            "weighted avg       1.00      1.00      1.00     19100\n",
            "\n"
          ]
        }
      ],
      "source": [
        "# Оценка\n",
        "res_bert = evaluate_bert_with_metrics(model_bert, test_loader_bert, device, \"RuBERT\")"
      ]
    },
    {
      "cell_type": "markdown",
      "metadata": {
        "id": "4RHpQ-v8d_gv"
      },
      "source": [
        "# Сводка и анализ"
      ]
    },
    {
      "cell_type": "code",
      "execution_count": 42,
      "metadata": {
        "id": "GQYJqLWzeBCZ"
      },
      "outputs": [],
      "source": [
        "# Собираем все результаты\n",
        "all_results = [\n",
        "    res_lr,\n",
        "    res_svm,\n",
        "    res_nb,\n",
        "    res_ens,\n",
        "    res_bilstm,\n",
        "    res_cnn,\n",
        "    res_bert\n",
        "]"
      ]
    },
    {
      "cell_type": "code",
      "execution_count": 46,
      "metadata": {
        "id": "JLKY7ZxJejnt"
      },
      "outputs": [
        {
          "name": "stdout",
          "output_type": "stream",
          "text": [
            "\n",
            "Сводная таблица моделей (сортировка по Macro F1):\n"
          ]
        },
        {
          "data": {
            "text/html": [
              "<div>\n",
              "<style scoped>\n",
              "    .dataframe tbody tr th:only-of-type {\n",
              "        vertical-align: middle;\n",
              "    }\n",
              "\n",
              "    .dataframe tbody tr th {\n",
              "        vertical-align: top;\n",
              "    }\n",
              "\n",
              "    .dataframe thead th {\n",
              "        text-align: right;\n",
              "    }\n",
              "</style>\n",
              "<table border=\"1\" class=\"dataframe\">\n",
              "  <thead>\n",
              "    <tr style=\"text-align: right;\">\n",
              "      <th></th>\n",
              "      <th>name</th>\n",
              "      <th>acc</th>\n",
              "      <th>f1_macro</th>\n",
              "      <th>f1_weighted</th>\n",
              "      <th>roc_auc</th>\n",
              "      <th>pr_auc</th>\n",
              "    </tr>\n",
              "  </thead>\n",
              "  <tbody>\n",
              "    <tr>\n",
              "      <th>0</th>\n",
              "      <td>Logistic Regression</td>\n",
              "      <td>0.986440</td>\n",
              "      <td>0.986439</td>\n",
              "      <td>0.986439</td>\n",
              "      <td>0.999002</td>\n",
              "      <td>0.999098</td>\n",
              "    </tr>\n",
              "    <tr>\n",
              "      <th>1</th>\n",
              "      <td>SVM</td>\n",
              "      <td>0.989581</td>\n",
              "      <td>0.989581</td>\n",
              "      <td>0.989581</td>\n",
              "      <td>0.999420</td>\n",
              "      <td>0.999483</td>\n",
              "    </tr>\n",
              "    <tr>\n",
              "      <th>2</th>\n",
              "      <td>Naive Bayes</td>\n",
              "      <td>0.973560</td>\n",
              "      <td>0.973555</td>\n",
              "      <td>0.973555</td>\n",
              "      <td>0.997190</td>\n",
              "      <td>0.997775</td>\n",
              "    </tr>\n",
              "    <tr>\n",
              "      <th>3</th>\n",
              "      <td>Ensemble</td>\n",
              "      <td>0.990366</td>\n",
              "      <td>0.990366</td>\n",
              "      <td>0.990366</td>\n",
              "      <td>0.998998</td>\n",
              "      <td>0.999133</td>\n",
              "    </tr>\n",
              "    <tr>\n",
              "      <th>4</th>\n",
              "      <td>Bi-LSTM</td>\n",
              "      <td>0.993246</td>\n",
              "      <td>0.993246</td>\n",
              "      <td>0.993246</td>\n",
              "      <td>0.999623</td>\n",
              "      <td>0.999600</td>\n",
              "    </tr>\n",
              "    <tr>\n",
              "      <th>5</th>\n",
              "      <td>CNN</td>\n",
              "      <td>0.992618</td>\n",
              "      <td>0.992618</td>\n",
              "      <td>0.992618</td>\n",
              "      <td>0.999659</td>\n",
              "      <td>0.999673</td>\n",
              "    </tr>\n",
              "    <tr>\n",
              "      <th>6</th>\n",
              "      <td>RuBERT</td>\n",
              "      <td>0.998429</td>\n",
              "      <td>0.998429</td>\n",
              "      <td>0.998429</td>\n",
              "      <td>0.999978</td>\n",
              "      <td>0.999978</td>\n",
              "    </tr>\n",
              "  </tbody>\n",
              "</table>\n",
              "</div>"
            ],
            "text/plain": [
              "                  name       acc  f1_macro  f1_weighted   roc_auc    pr_auc\n",
              "0  Logistic Regression  0.986440  0.986439     0.986439  0.999002  0.999098\n",
              "1                  SVM  0.989581  0.989581     0.989581  0.999420  0.999483\n",
              "2          Naive Bayes  0.973560  0.973555     0.973555  0.997190  0.997775\n",
              "3             Ensemble  0.990366  0.990366     0.990366  0.998998  0.999133\n",
              "4              Bi-LSTM  0.993246  0.993246     0.993246  0.999623  0.999600\n",
              "5                  CNN  0.992618  0.992618     0.992618  0.999659  0.999673\n",
              "6               RuBERT  0.998429  0.998429     0.998429  0.999978  0.999978"
            ]
          },
          "execution_count": 46,
          "metadata": {},
          "output_type": "execute_result"
        }
      ],
      "source": [
        "# Сводная таблица\n",
        "summary_df = pd.DataFrame([{k: v for k, v in r.items() if k != 'cm'} for r in all_results])\n",
        "print(\"\\nСводная таблица моделей (сортировка по Macro F1):\")\n",
        "summary_df.sort_values('f1_macro', ascending=False).to_string(index=False)\n",
        "summary_df"
      ]
    },
    {
      "cell_type": "code",
      "execution_count": 44,
      "metadata": {
        "id": "0zHZakVKes1F"
      },
      "outputs": [
        {
          "name": "stdout",
          "output_type": "stream",
          "text": [
            "\n",
            "Лучшая модель: RuBERT (Macro F1 = 0.9984)\n"
          ]
        }
      ],
      "source": [
        "# Лучшая модель\n",
        "best_model = max(all_results, key=lambda x: x['f1_macro'])\n",
        "print(f\"\\nЛучшая модель: {best_model['name']} (Macro F1 = {best_model['f1_macro']:.4f})\")"
      ]
    },
    {
      "cell_type": "code",
      "execution_count": 45,
      "metadata": {
        "id": "QVGGe2NGeuP7"
      },
      "outputs": [
        {
          "name": "stdout",
          "output_type": "stream",
          "text": [
            "\n",
            "Примеры ошибок RuBERT:\n",
            "Текст: Но разговор сам собой с того, как бы устроить детям счастливое и беспечное детство, сворачивает на необходимость объясни...\n",
            "Истинный: formal → Предсказанный: informal\n",
            "\n",
            "Текст: Они все плохие, очень плохие дети. Стыд вам и срам. Стыд и срам, стыд и срам, стыд и срам. - Стыд и срам, - Молодчага, п...\n",
            "Истинный: informal → Предсказанный: formal\n",
            "\n",
            "Текст: Поздравляем Людмилу Педан с прохождением в состав ГРАЖДАНСКОГО СОВЕТА при фракции КПРФ в Государственной Думе. Вот резул...\n",
            "Истинный: informal → Предсказанный: formal\n",
            "\n"
          ]
        }
      ],
      "source": [
        "# Примеры ошибок (на примере RuBERT)\n",
        "if best_model['name'] == 'RuBERT':\n",
        "    model_bert.eval()\n",
        "    errors = []\n",
        "    for i, batch in enumerate(test_loader_bert):\n",
        "        input_ids, attention_mask, labels = [b.to(device) for b in batch]\n",
        "        with torch.no_grad():\n",
        "            outputs = model_bert(input_ids, attention_mask)\n",
        "            preds = outputs.argmax(dim=1)\n",
        "        for j in range(len(labels)):\n",
        "            if preds[j] != labels[j]:\n",
        "                idx = i * 16 + j\n",
        "                if idx < len(X_test):\n",
        "                    text = X_test[idx]\n",
        "                    true_label = \"formal\" if labels[j].item() == 1 else \"informal\"\n",
        "                    pred_label = \"formal\" if preds[j].item() == 1 else \"informal\"\n",
        "                    errors.append((text, true_label, pred_label))\n",
        "                    if len(errors) >= 3:\n",
        "                        break\n",
        "        if len(errors) >= 3:\n",
        "            break\n",
        "\n",
        "    print(\"\\nПримеры ошибок RuBERT:\")\n",
        "    for text, true, pred in errors:\n",
        "        print(f\"Текст: {text[:120]}...\")\n",
        "        print(f\"Истинный: {true} → Предсказанный: {pred}\\n\")"
      ]
    },
    {
      "cell_type": "markdown",
      "metadata": {
        "id": "xqfZSx-Ee1-C"
      },
      "source": [
        "# Анализ причин ошибок\n",
        "Возможные причины ошибок:\n",
        "* Смешанный стиль (официальный текст с разговорными вставками)\n",
        "* Очень короткие тексты (<5 слов) — мало контекста\n",
        "* Использование формальных конструкций в неформальном контексте (ирония, цитаты)* Тексты длиной >512 токенов (BERT обрезает их)\n",
        "* Недостаток разнообразия в обучающей выборке для редких случаев\n",
        "* Высокая вариативность разговорной речи (сленг, эмодзи, опечатки)"
      ]
    }
  ],
  "metadata": {
    "accelerator": "GPU",
    "colab": {
      "gpuType": "T4",
      "provenance": []
    },
    "kernelspec": {
      "display_name": ".venv",
      "language": "python",
      "name": "python3"
    },
    "language_info": {
      "codemirror_mode": {
        "name": "ipython",
        "version": 3
      },
      "file_extension": ".py",
      "mimetype": "text/x-python",
      "name": "python",
      "nbconvert_exporter": "python",
      "pygments_lexer": "ipython3",
      "version": "3.12.10"
    },
    "widgets": {
      "application/vnd.jupyter.widget-state+json": {
        "02296f5676d44e5fb53f02019bffa1d0": {
          "model_module": "@jupyter-widgets/controls",
          "model_module_version": "1.5.0",
          "model_name": "HTMLModel",
          "state": {
            "_dom_classes": [],
            "_model_module": "@jupyter-widgets/controls",
            "_model_module_version": "1.5.0",
            "_model_name": "HTMLModel",
            "_view_count": null,
            "_view_module": "@jupyter-widgets/controls",
            "_view_module_version": "1.5.0",
            "_view_name": "HTMLView",
            "description": "",
            "description_tooltip": null,
            "layout": "IPY_MODEL_2a25e8722b29472487cae6bb538817fa",
            "placeholder": "​",
            "style": "IPY_MODEL_27f2febbd5cd4ebe9d0049c27b694d9d",
            "value": "vocab.txt: "
          }
        },
        "0c48ccf1bc11451b8ed775f947da6bea": {
          "model_module": "@jupyter-widgets/controls",
          "model_module_version": "1.5.0",
          "model_name": "HTMLModel",
          "state": {
            "_dom_classes": [],
            "_model_module": "@jupyter-widgets/controls",
            "_model_module_version": "1.5.0",
            "_model_name": "HTMLModel",
            "_view_count": null,
            "_view_module": "@jupyter-widgets/controls",
            "_view_module_version": "1.5.0",
            "_view_name": "HTMLView",
            "description": "",
            "description_tooltip": null,
            "layout": "IPY_MODEL_818cc70a93c243eb964b4b4010741ae3",
            "placeholder": "​",
            "style": "IPY_MODEL_9327fea9afbd4855919041796e6cbb05",
            "value": " 112/112 [00:00&lt;00:00, 12.4kB/s]"
          }
        },
        "0fcec5fcf40842f8b3928d7c0d070934": {
          "model_module": "@jupyter-widgets/base",
          "model_module_version": "1.2.0",
          "model_name": "LayoutModel",
          "state": {
            "_model_module": "@jupyter-widgets/base",
            "_model_module_version": "1.2.0",
            "_model_name": "LayoutModel",
            "_view_count": null,
            "_view_module": "@jupyter-widgets/base",
            "_view_module_version": "1.2.0",
            "_view_name": "LayoutView",
            "align_content": null,
            "align_items": null,
            "align_self": null,
            "border": null,
            "bottom": null,
            "display": null,
            "flex": null,
            "flex_flow": null,
            "grid_area": null,
            "grid_auto_columns": null,
            "grid_auto_flow": null,
            "grid_auto_rows": null,
            "grid_column": null,
            "grid_gap": null,
            "grid_row": null,
            "grid_template_areas": null,
            "grid_template_columns": null,
            "grid_template_rows": null,
            "height": null,
            "justify_content": null,
            "justify_items": null,
            "left": null,
            "margin": null,
            "max_height": null,
            "max_width": null,
            "min_height": null,
            "min_width": null,
            "object_fit": null,
            "object_position": null,
            "order": null,
            "overflow": null,
            "overflow_x": null,
            "overflow_y": null,
            "padding": null,
            "right": null,
            "top": null,
            "visibility": null,
            "width": "20px"
          }
        },
        "1aab3b47776e4bf1b10ca5736e3dc5a0": {
          "model_module": "@jupyter-widgets/controls",
          "model_module_version": "1.5.0",
          "model_name": "HTMLModel",
          "state": {
            "_dom_classes": [],
            "_model_module": "@jupyter-widgets/controls",
            "_model_module_version": "1.5.0",
            "_model_name": "HTMLModel",
            "_view_count": null,
            "_view_module": "@jupyter-widgets/controls",
            "_view_module_version": "1.5.0",
            "_view_name": "HTMLView",
            "description": "",
            "description_tooltip": null,
            "layout": "IPY_MODEL_e6b903b66bc3415b8280fb6ca24d112c",
            "placeholder": "​",
            "style": "IPY_MODEL_c9be9e62259648caabc5ed2252f409ff",
            "value": " 24.0/24.0 [00:00&lt;00:00, 2.53kB/s]"
          }
        },
        "279b7c62f96840c39bba19522f40e289": {
          "model_module": "@jupyter-widgets/controls",
          "model_module_version": "1.5.0",
          "model_name": "HTMLModel",
          "state": {
            "_dom_classes": [],
            "_model_module": "@jupyter-widgets/controls",
            "_model_module_version": "1.5.0",
            "_model_name": "HTMLModel",
            "_view_count": null,
            "_view_module": "@jupyter-widgets/controls",
            "_view_module_version": "1.5.0",
            "_view_name": "HTMLView",
            "description": "",
            "description_tooltip": null,
            "layout": "IPY_MODEL_c8c35efcd50745349040e9c16ba382b8",
            "placeholder": "​",
            "style": "IPY_MODEL_6645e9aeb0d2445f9a84e2a4b8f67d61",
            "value": "pytorch_model.bin:  44%"
          }
        },
        "27f2febbd5cd4ebe9d0049c27b694d9d": {
          "model_module": "@jupyter-widgets/controls",
          "model_module_version": "1.5.0",
          "model_name": "DescriptionStyleModel",
          "state": {
            "_model_module": "@jupyter-widgets/controls",
            "_model_module_version": "1.5.0",
            "_model_name": "DescriptionStyleModel",
            "_view_count": null,
            "_view_module": "@jupyter-widgets/base",
            "_view_module_version": "1.2.0",
            "_view_name": "StyleView",
            "description_width": ""
          }
        },
        "2a25e8722b29472487cae6bb538817fa": {
          "model_module": "@jupyter-widgets/base",
          "model_module_version": "1.2.0",
          "model_name": "LayoutModel",
          "state": {
            "_model_module": "@jupyter-widgets/base",
            "_model_module_version": "1.2.0",
            "_model_name": "LayoutModel",
            "_view_count": null,
            "_view_module": "@jupyter-widgets/base",
            "_view_module_version": "1.2.0",
            "_view_name": "LayoutView",
            "align_content": null,
            "align_items": null,
            "align_self": null,
            "border": null,
            "bottom": null,
            "display": null,
            "flex": null,
            "flex_flow": null,
            "grid_area": null,
            "grid_auto_columns": null,
            "grid_auto_flow": null,
            "grid_auto_rows": null,
            "grid_column": null,
            "grid_gap": null,
            "grid_row": null,
            "grid_template_areas": null,
            "grid_template_columns": null,
            "grid_template_rows": null,
            "height": null,
            "justify_content": null,
            "justify_items": null,
            "left": null,
            "margin": null,
            "max_height": null,
            "max_width": null,
            "min_height": null,
            "min_width": null,
            "object_fit": null,
            "object_position": null,
            "order": null,
            "overflow": null,
            "overflow_x": null,
            "overflow_y": null,
            "padding": null,
            "right": null,
            "top": null,
            "visibility": null,
            "width": null
          }
        },
        "2dd09946fdfd48e680ed887912f20de4": {
          "model_module": "@jupyter-widgets/base",
          "model_module_version": "1.2.0",
          "model_name": "LayoutModel",
          "state": {
            "_model_module": "@jupyter-widgets/base",
            "_model_module_version": "1.2.0",
            "_model_name": "LayoutModel",
            "_view_count": null,
            "_view_module": "@jupyter-widgets/base",
            "_view_module_version": "1.2.0",
            "_view_name": "LayoutView",
            "align_content": null,
            "align_items": null,
            "align_self": null,
            "border": null,
            "bottom": null,
            "display": null,
            "flex": null,
            "flex_flow": null,
            "grid_area": null,
            "grid_auto_columns": null,
            "grid_auto_flow": null,
            "grid_auto_rows": null,
            "grid_column": null,
            "grid_gap": null,
            "grid_row": null,
            "grid_template_areas": null,
            "grid_template_columns": null,
            "grid_template_rows": null,
            "height": null,
            "justify_content": null,
            "justify_items": null,
            "left": null,
            "margin": null,
            "max_height": null,
            "max_width": null,
            "min_height": null,
            "min_width": null,
            "object_fit": null,
            "object_position": null,
            "order": null,
            "overflow": null,
            "overflow_x": null,
            "overflow_y": null,
            "padding": null,
            "right": null,
            "top": null,
            "visibility": null,
            "width": null
          }
        },
        "31bd34cd6cc6484a9cb94593d912101d": {
          "model_module": "@jupyter-widgets/controls",
          "model_module_version": "1.5.0",
          "model_name": "FloatProgressModel",
          "state": {
            "_dom_classes": [],
            "_model_module": "@jupyter-widgets/controls",
            "_model_module_version": "1.5.0",
            "_model_name": "FloatProgressModel",
            "_view_count": null,
            "_view_module": "@jupyter-widgets/controls",
            "_view_module_version": "1.5.0",
            "_view_name": "ProgressView",
            "bar_style": "success",
            "description": "",
            "description_tooltip": null,
            "layout": "IPY_MODEL_5d1beb0d731f4dbf9b34caf12e35adc0",
            "max": 24,
            "min": 0,
            "orientation": "horizontal",
            "style": "IPY_MODEL_f5f1b2210c0740cc84509d49fdc9f44a",
            "value": 24
          }
        },
        "3870db55b96442948c6906e7deddd991": {
          "model_module": "@jupyter-widgets/controls",
          "model_module_version": "1.5.0",
          "model_name": "FloatProgressModel",
          "state": {
            "_dom_classes": [],
            "_model_module": "@jupyter-widgets/controls",
            "_model_module_version": "1.5.0",
            "_model_name": "FloatProgressModel",
            "_view_count": null,
            "_view_module": "@jupyter-widgets/controls",
            "_view_module_version": "1.5.0",
            "_view_name": "ProgressView",
            "bar_style": "",
            "description": "",
            "description_tooltip": null,
            "layout": "IPY_MODEL_e537449539b747d999487bfc79ef46d7",
            "max": 714355318,
            "min": 0,
            "orientation": "horizontal",
            "style": "IPY_MODEL_6594fd89453a445184830d38feda8ee5",
            "value": 311867469
          }
        },
        "39ff4e3e2dff4e16a6a35217bca230bc": {
          "model_module": "@jupyter-widgets/base",
          "model_module_version": "1.2.0",
          "model_name": "LayoutModel",
          "state": {
            "_model_module": "@jupyter-widgets/base",
            "_model_module_version": "1.2.0",
            "_model_name": "LayoutModel",
            "_view_count": null,
            "_view_module": "@jupyter-widgets/base",
            "_view_module_version": "1.2.0",
            "_view_name": "LayoutView",
            "align_content": null,
            "align_items": null,
            "align_self": null,
            "border": null,
            "bottom": null,
            "display": null,
            "flex": null,
            "flex_flow": null,
            "grid_area": null,
            "grid_auto_columns": null,
            "grid_auto_flow": null,
            "grid_auto_rows": null,
            "grid_column": null,
            "grid_gap": null,
            "grid_row": null,
            "grid_template_areas": null,
            "grid_template_columns": null,
            "grid_template_rows": null,
            "height": null,
            "justify_content": null,
            "justify_items": null,
            "left": null,
            "margin": null,
            "max_height": null,
            "max_width": null,
            "min_height": null,
            "min_width": null,
            "object_fit": null,
            "object_position": null,
            "order": null,
            "overflow": null,
            "overflow_x": null,
            "overflow_y": null,
            "padding": null,
            "right": null,
            "top": null,
            "visibility": null,
            "width": null
          }
        },
        "3cd7b02fe65349519838c2fda5f9803f": {
          "model_module": "@jupyter-widgets/base",
          "model_module_version": "1.2.0",
          "model_name": "LayoutModel",
          "state": {
            "_model_module": "@jupyter-widgets/base",
            "_model_module_version": "1.2.0",
            "_model_name": "LayoutModel",
            "_view_count": null,
            "_view_module": "@jupyter-widgets/base",
            "_view_module_version": "1.2.0",
            "_view_name": "LayoutView",
            "align_content": null,
            "align_items": null,
            "align_self": null,
            "border": null,
            "bottom": null,
            "display": null,
            "flex": null,
            "flex_flow": null,
            "grid_area": null,
            "grid_auto_columns": null,
            "grid_auto_flow": null,
            "grid_auto_rows": null,
            "grid_column": null,
            "grid_gap": null,
            "grid_row": null,
            "grid_template_areas": null,
            "grid_template_columns": null,
            "grid_template_rows": null,
            "height": null,
            "justify_content": null,
            "justify_items": null,
            "left": null,
            "margin": null,
            "max_height": null,
            "max_width": null,
            "min_height": null,
            "min_width": null,
            "object_fit": null,
            "object_position": null,
            "order": null,
            "overflow": null,
            "overflow_x": null,
            "overflow_y": null,
            "padding": null,
            "right": null,
            "top": null,
            "visibility": null,
            "width": null
          }
        },
        "3dd14b00e2fa4aeab76af977993dac88": {
          "model_module": "@jupyter-widgets/controls",
          "model_module_version": "1.5.0",
          "model_name": "HTMLModel",
          "state": {
            "_dom_classes": [],
            "_model_module": "@jupyter-widgets/controls",
            "_model_module_version": "1.5.0",
            "_model_name": "HTMLModel",
            "_view_count": null,
            "_view_module": "@jupyter-widgets/controls",
            "_view_module_version": "1.5.0",
            "_view_name": "HTMLView",
            "description": "",
            "description_tooltip": null,
            "layout": "IPY_MODEL_39ff4e3e2dff4e16a6a35217bca230bc",
            "placeholder": "​",
            "style": "IPY_MODEL_50ab41b6ea034f42a8a55ed3a08ab43d",
            "value": "special_tokens_map.json: 100%"
          }
        },
        "4cf898366b06402e86b6efed91a051fe": {
          "model_module": "@jupyter-widgets/controls",
          "model_module_version": "1.5.0",
          "model_name": "DescriptionStyleModel",
          "state": {
            "_model_module": "@jupyter-widgets/controls",
            "_model_module_version": "1.5.0",
            "_model_name": "DescriptionStyleModel",
            "_view_count": null,
            "_view_module": "@jupyter-widgets/base",
            "_view_module_version": "1.2.0",
            "_view_name": "StyleView",
            "description_width": ""
          }
        },
        "50ab41b6ea034f42a8a55ed3a08ab43d": {
          "model_module": "@jupyter-widgets/controls",
          "model_module_version": "1.5.0",
          "model_name": "DescriptionStyleModel",
          "state": {
            "_model_module": "@jupyter-widgets/controls",
            "_model_module_version": "1.5.0",
            "_model_name": "DescriptionStyleModel",
            "_view_count": null,
            "_view_module": "@jupyter-widgets/base",
            "_view_module_version": "1.2.0",
            "_view_name": "StyleView",
            "description_width": ""
          }
        },
        "51f883eb60424bca855459ffc3491c61": {
          "model_module": "@jupyter-widgets/controls",
          "model_module_version": "1.5.0",
          "model_name": "HBoxModel",
          "state": {
            "_dom_classes": [],
            "_model_module": "@jupyter-widgets/controls",
            "_model_module_version": "1.5.0",
            "_model_name": "HBoxModel",
            "_view_count": null,
            "_view_module": "@jupyter-widgets/controls",
            "_view_module_version": "1.5.0",
            "_view_name": "HBoxView",
            "box_style": "",
            "children": [
              "IPY_MODEL_02296f5676d44e5fb53f02019bffa1d0",
              "IPY_MODEL_96f3f668b2ff4f508cd948073d60707f",
              "IPY_MODEL_f529ea5600644d858d209e17e11c30a8"
            ],
            "layout": "IPY_MODEL_a3bcecbb10fa4b5784cdb065d67d04ef"
          }
        },
        "58aa8011023542d6b28a899939404a9c": {
          "model_module": "@jupyter-widgets/controls",
          "model_module_version": "1.5.0",
          "model_name": "ProgressStyleModel",
          "state": {
            "_model_module": "@jupyter-widgets/controls",
            "_model_module_version": "1.5.0",
            "_model_name": "ProgressStyleModel",
            "_view_count": null,
            "_view_module": "@jupyter-widgets/base",
            "_view_module_version": "1.2.0",
            "_view_name": "StyleView",
            "bar_color": null,
            "description_width": ""
          }
        },
        "5a99a3a89b514babafa7bdf20ae38141": {
          "model_module": "@jupyter-widgets/controls",
          "model_module_version": "1.5.0",
          "model_name": "HBoxModel",
          "state": {
            "_dom_classes": [],
            "_model_module": "@jupyter-widgets/controls",
            "_model_module_version": "1.5.0",
            "_model_name": "HBoxModel",
            "_view_count": null,
            "_view_module": "@jupyter-widgets/controls",
            "_view_module_version": "1.5.0",
            "_view_name": "HBoxView",
            "box_style": "",
            "children": [
              "IPY_MODEL_3dd14b00e2fa4aeab76af977993dac88",
              "IPY_MODEL_7732a084fe774540939ef87760af8b95",
              "IPY_MODEL_0c48ccf1bc11451b8ed775f947da6bea"
            ],
            "layout": "IPY_MODEL_3cd7b02fe65349519838c2fda5f9803f"
          }
        },
        "5cd1b0dba95a4719819e62eb9a16f8c6": {
          "model_module": "@jupyter-widgets/controls",
          "model_module_version": "1.5.0",
          "model_name": "DescriptionStyleModel",
          "state": {
            "_model_module": "@jupyter-widgets/controls",
            "_model_module_version": "1.5.0",
            "_model_name": "DescriptionStyleModel",
            "_view_count": null,
            "_view_module": "@jupyter-widgets/base",
            "_view_module_version": "1.2.0",
            "_view_name": "StyleView",
            "description_width": ""
          }
        },
        "5d1beb0d731f4dbf9b34caf12e35adc0": {
          "model_module": "@jupyter-widgets/base",
          "model_module_version": "1.2.0",
          "model_name": "LayoutModel",
          "state": {
            "_model_module": "@jupyter-widgets/base",
            "_model_module_version": "1.2.0",
            "_model_name": "LayoutModel",
            "_view_count": null,
            "_view_module": "@jupyter-widgets/base",
            "_view_module_version": "1.2.0",
            "_view_name": "LayoutView",
            "align_content": null,
            "align_items": null,
            "align_self": null,
            "border": null,
            "bottom": null,
            "display": null,
            "flex": null,
            "flex_flow": null,
            "grid_area": null,
            "grid_auto_columns": null,
            "grid_auto_flow": null,
            "grid_auto_rows": null,
            "grid_column": null,
            "grid_gap": null,
            "grid_row": null,
            "grid_template_areas": null,
            "grid_template_columns": null,
            "grid_template_rows": null,
            "height": null,
            "justify_content": null,
            "justify_items": null,
            "left": null,
            "margin": null,
            "max_height": null,
            "max_width": null,
            "min_height": null,
            "min_width": null,
            "object_fit": null,
            "object_position": null,
            "order": null,
            "overflow": null,
            "overflow_x": null,
            "overflow_y": null,
            "padding": null,
            "right": null,
            "top": null,
            "visibility": null,
            "width": null
          }
        },
        "627d01e6e3ec4fa9bacfb3fab3fdb225": {
          "model_module": "@jupyter-widgets/controls",
          "model_module_version": "1.5.0",
          "model_name": "ProgressStyleModel",
          "state": {
            "_model_module": "@jupyter-widgets/controls",
            "_model_module_version": "1.5.0",
            "_model_name": "ProgressStyleModel",
            "_view_count": null,
            "_view_module": "@jupyter-widgets/base",
            "_view_module_version": "1.2.0",
            "_view_name": "StyleView",
            "bar_color": null,
            "description_width": ""
          }
        },
        "6594fd89453a445184830d38feda8ee5": {
          "model_module": "@jupyter-widgets/controls",
          "model_module_version": "1.5.0",
          "model_name": "ProgressStyleModel",
          "state": {
            "_model_module": "@jupyter-widgets/controls",
            "_model_module_version": "1.5.0",
            "_model_name": "ProgressStyleModel",
            "_view_count": null,
            "_view_module": "@jupyter-widgets/base",
            "_view_module_version": "1.2.0",
            "_view_name": "StyleView",
            "bar_color": null,
            "description_width": ""
          }
        },
        "6645e9aeb0d2445f9a84e2a4b8f67d61": {
          "model_module": "@jupyter-widgets/controls",
          "model_module_version": "1.5.0",
          "model_name": "DescriptionStyleModel",
          "state": {
            "_model_module": "@jupyter-widgets/controls",
            "_model_module_version": "1.5.0",
            "_model_name": "DescriptionStyleModel",
            "_view_count": null,
            "_view_module": "@jupyter-widgets/base",
            "_view_module_version": "1.2.0",
            "_view_name": "StyleView",
            "description_width": ""
          }
        },
        "67e078715f18427cbb514e345057a881": {
          "model_module": "@jupyter-widgets/controls",
          "model_module_version": "1.5.0",
          "model_name": "HTMLModel",
          "state": {
            "_dom_classes": [],
            "_model_module": "@jupyter-widgets/controls",
            "_model_module_version": "1.5.0",
            "_model_name": "HTMLModel",
            "_view_count": null,
            "_view_module": "@jupyter-widgets/controls",
            "_view_module_version": "1.5.0",
            "_view_name": "HTMLView",
            "description": "",
            "description_tooltip": null,
            "layout": "IPY_MODEL_cd8083f7a780474fb4fd2223ea6d0b4b",
            "placeholder": "​",
            "style": "IPY_MODEL_7385d51a9a4d4629b48ee4d3043f1f24",
            "value": "config.json: 100%"
          }
        },
        "6965480d0dff49099d966d366712709a": {
          "model_module": "@jupyter-widgets/controls",
          "model_module_version": "1.5.0",
          "model_name": "FloatProgressModel",
          "state": {
            "_dom_classes": [],
            "_model_module": "@jupyter-widgets/controls",
            "_model_module_version": "1.5.0",
            "_model_name": "FloatProgressModel",
            "_view_count": null,
            "_view_module": "@jupyter-widgets/controls",
            "_view_module_version": "1.5.0",
            "_view_name": "ProgressView",
            "bar_style": "success",
            "description": "",
            "description_tooltip": null,
            "layout": "IPY_MODEL_a4297ae4b3ff494885840981bcd8d273",
            "max": 642,
            "min": 0,
            "orientation": "horizontal",
            "style": "IPY_MODEL_a3b578271b6843aa8e176c5475990301",
            "value": 642
          }
        },
        "73287bbd19c74e71afecf9015dbd0e2d": {
          "model_module": "@jupyter-widgets/controls",
          "model_module_version": "1.5.0",
          "model_name": "HTMLModel",
          "state": {
            "_dom_classes": [],
            "_model_module": "@jupyter-widgets/controls",
            "_model_module_version": "1.5.0",
            "_model_name": "HTMLModel",
            "_view_count": null,
            "_view_module": "@jupyter-widgets/controls",
            "_view_module_version": "1.5.0",
            "_view_name": "HTMLView",
            "description": "",
            "description_tooltip": null,
            "layout": "IPY_MODEL_7bcbcac390c8451bbcde7d0a402fa5eb",
            "placeholder": "​",
            "style": "IPY_MODEL_e068ebdf0fe241d98ad84f094686efe3",
            "value": " 642/642 [00:00&lt;00:00, 69.2kB/s]"
          }
        },
        "7385d51a9a4d4629b48ee4d3043f1f24": {
          "model_module": "@jupyter-widgets/controls",
          "model_module_version": "1.5.0",
          "model_name": "DescriptionStyleModel",
          "state": {
            "_model_module": "@jupyter-widgets/controls",
            "_model_module_version": "1.5.0",
            "_model_name": "DescriptionStyleModel",
            "_view_count": null,
            "_view_module": "@jupyter-widgets/base",
            "_view_module_version": "1.2.0",
            "_view_name": "StyleView",
            "description_width": ""
          }
        },
        "7732a084fe774540939ef87760af8b95": {
          "model_module": "@jupyter-widgets/controls",
          "model_module_version": "1.5.0",
          "model_name": "FloatProgressModel",
          "state": {
            "_dom_classes": [],
            "_model_module": "@jupyter-widgets/controls",
            "_model_module_version": "1.5.0",
            "_model_name": "FloatProgressModel",
            "_view_count": null,
            "_view_module": "@jupyter-widgets/controls",
            "_view_module_version": "1.5.0",
            "_view_name": "ProgressView",
            "bar_style": "success",
            "description": "",
            "description_tooltip": null,
            "layout": "IPY_MODEL_d1620b3c879b4bb6bc7d74d159f8a71d",
            "max": 112,
            "min": 0,
            "orientation": "horizontal",
            "style": "IPY_MODEL_627d01e6e3ec4fa9bacfb3fab3fdb225",
            "value": 112
          }
        },
        "77601ef224d44e629efcf175bc6b9fe4": {
          "model_module": "@jupyter-widgets/controls",
          "model_module_version": "1.5.0",
          "model_name": "HBoxModel",
          "state": {
            "_dom_classes": [],
            "_model_module": "@jupyter-widgets/controls",
            "_model_module_version": "1.5.0",
            "_model_name": "HBoxModel",
            "_view_count": null,
            "_view_module": "@jupyter-widgets/controls",
            "_view_module_version": "1.5.0",
            "_view_name": "HBoxView",
            "box_style": "",
            "children": [
              "IPY_MODEL_db92ef82849c4bf38e097a68d076906a",
              "IPY_MODEL_31bd34cd6cc6484a9cb94593d912101d",
              "IPY_MODEL_1aab3b47776e4bf1b10ca5736e3dc5a0"
            ],
            "layout": "IPY_MODEL_db23ccbda02a4033a9fa7fdb4222f603"
          }
        },
        "7bcbcac390c8451bbcde7d0a402fa5eb": {
          "model_module": "@jupyter-widgets/base",
          "model_module_version": "1.2.0",
          "model_name": "LayoutModel",
          "state": {
            "_model_module": "@jupyter-widgets/base",
            "_model_module_version": "1.2.0",
            "_model_name": "LayoutModel",
            "_view_count": null,
            "_view_module": "@jupyter-widgets/base",
            "_view_module_version": "1.2.0",
            "_view_name": "LayoutView",
            "align_content": null,
            "align_items": null,
            "align_self": null,
            "border": null,
            "bottom": null,
            "display": null,
            "flex": null,
            "flex_flow": null,
            "grid_area": null,
            "grid_auto_columns": null,
            "grid_auto_flow": null,
            "grid_auto_rows": null,
            "grid_column": null,
            "grid_gap": null,
            "grid_row": null,
            "grid_template_areas": null,
            "grid_template_columns": null,
            "grid_template_rows": null,
            "height": null,
            "justify_content": null,
            "justify_items": null,
            "left": null,
            "margin": null,
            "max_height": null,
            "max_width": null,
            "min_height": null,
            "min_width": null,
            "object_fit": null,
            "object_position": null,
            "order": null,
            "overflow": null,
            "overflow_x": null,
            "overflow_y": null,
            "padding": null,
            "right": null,
            "top": null,
            "visibility": null,
            "width": null
          }
        },
        "7ccb225e254d4df49bda7c05f9cdf148": {
          "model_module": "@jupyter-widgets/base",
          "model_module_version": "1.2.0",
          "model_name": "LayoutModel",
          "state": {
            "_model_module": "@jupyter-widgets/base",
            "_model_module_version": "1.2.0",
            "_model_name": "LayoutModel",
            "_view_count": null,
            "_view_module": "@jupyter-widgets/base",
            "_view_module_version": "1.2.0",
            "_view_name": "LayoutView",
            "align_content": null,
            "align_items": null,
            "align_self": null,
            "border": null,
            "bottom": null,
            "display": null,
            "flex": null,
            "flex_flow": null,
            "grid_area": null,
            "grid_auto_columns": null,
            "grid_auto_flow": null,
            "grid_auto_rows": null,
            "grid_column": null,
            "grid_gap": null,
            "grid_row": null,
            "grid_template_areas": null,
            "grid_template_columns": null,
            "grid_template_rows": null,
            "height": null,
            "justify_content": null,
            "justify_items": null,
            "left": null,
            "margin": null,
            "max_height": null,
            "max_width": null,
            "min_height": null,
            "min_width": null,
            "object_fit": null,
            "object_position": null,
            "order": null,
            "overflow": null,
            "overflow_x": null,
            "overflow_y": null,
            "padding": null,
            "right": null,
            "top": null,
            "visibility": null,
            "width": null
          }
        },
        "818cc70a93c243eb964b4b4010741ae3": {
          "model_module": "@jupyter-widgets/base",
          "model_module_version": "1.2.0",
          "model_name": "LayoutModel",
          "state": {
            "_model_module": "@jupyter-widgets/base",
            "_model_module_version": "1.2.0",
            "_model_name": "LayoutModel",
            "_view_count": null,
            "_view_module": "@jupyter-widgets/base",
            "_view_module_version": "1.2.0",
            "_view_name": "LayoutView",
            "align_content": null,
            "align_items": null,
            "align_self": null,
            "border": null,
            "bottom": null,
            "display": null,
            "flex": null,
            "flex_flow": null,
            "grid_area": null,
            "grid_auto_columns": null,
            "grid_auto_flow": null,
            "grid_auto_rows": null,
            "grid_column": null,
            "grid_gap": null,
            "grid_row": null,
            "grid_template_areas": null,
            "grid_template_columns": null,
            "grid_template_rows": null,
            "height": null,
            "justify_content": null,
            "justify_items": null,
            "left": null,
            "margin": null,
            "max_height": null,
            "max_width": null,
            "min_height": null,
            "min_width": null,
            "object_fit": null,
            "object_position": null,
            "order": null,
            "overflow": null,
            "overflow_x": null,
            "overflow_y": null,
            "padding": null,
            "right": null,
            "top": null,
            "visibility": null,
            "width": null
          }
        },
        "8d6d6ad4a24a4b79acd961666cf49029": {
          "model_module": "@jupyter-widgets/base",
          "model_module_version": "1.2.0",
          "model_name": "LayoutModel",
          "state": {
            "_model_module": "@jupyter-widgets/base",
            "_model_module_version": "1.2.0",
            "_model_name": "LayoutModel",
            "_view_count": null,
            "_view_module": "@jupyter-widgets/base",
            "_view_module_version": "1.2.0",
            "_view_name": "LayoutView",
            "align_content": null,
            "align_items": null,
            "align_self": null,
            "border": null,
            "bottom": null,
            "display": null,
            "flex": null,
            "flex_flow": null,
            "grid_area": null,
            "grid_auto_columns": null,
            "grid_auto_flow": null,
            "grid_auto_rows": null,
            "grid_column": null,
            "grid_gap": null,
            "grid_row": null,
            "grid_template_areas": null,
            "grid_template_columns": null,
            "grid_template_rows": null,
            "height": null,
            "justify_content": null,
            "justify_items": null,
            "left": null,
            "margin": null,
            "max_height": null,
            "max_width": null,
            "min_height": null,
            "min_width": null,
            "object_fit": null,
            "object_position": null,
            "order": null,
            "overflow": null,
            "overflow_x": null,
            "overflow_y": null,
            "padding": null,
            "right": null,
            "top": null,
            "visibility": null,
            "width": null
          }
        },
        "9327fea9afbd4855919041796e6cbb05": {
          "model_module": "@jupyter-widgets/controls",
          "model_module_version": "1.5.0",
          "model_name": "DescriptionStyleModel",
          "state": {
            "_model_module": "@jupyter-widgets/controls",
            "_model_module_version": "1.5.0",
            "_model_name": "DescriptionStyleModel",
            "_view_count": null,
            "_view_module": "@jupyter-widgets/base",
            "_view_module_version": "1.2.0",
            "_view_name": "StyleView",
            "description_width": ""
          }
        },
        "948248a13e6c4ed69d341ca0545dba45": {
          "model_module": "@jupyter-widgets/controls",
          "model_module_version": "1.5.0",
          "model_name": "HTMLModel",
          "state": {
            "_dom_classes": [],
            "_model_module": "@jupyter-widgets/controls",
            "_model_module_version": "1.5.0",
            "_model_name": "HTMLModel",
            "_view_count": null,
            "_view_module": "@jupyter-widgets/controls",
            "_view_module_version": "1.5.0",
            "_view_name": "HTMLView",
            "description": "",
            "description_tooltip": null,
            "layout": "IPY_MODEL_2dd09946fdfd48e680ed887912f20de4",
            "placeholder": "​",
            "style": "IPY_MODEL_5cd1b0dba95a4719819e62eb9a16f8c6",
            "value": " 312M/714M [02:41&lt;02:55, 2.29MB/s]"
          }
        },
        "96f3f668b2ff4f508cd948073d60707f": {
          "model_module": "@jupyter-widgets/controls",
          "model_module_version": "1.5.0",
          "model_name": "FloatProgressModel",
          "state": {
            "_dom_classes": [],
            "_model_module": "@jupyter-widgets/controls",
            "_model_module_version": "1.5.0",
            "_model_name": "FloatProgressModel",
            "_view_count": null,
            "_view_module": "@jupyter-widgets/controls",
            "_view_module_version": "1.5.0",
            "_view_name": "ProgressView",
            "bar_style": "success",
            "description": "",
            "description_tooltip": null,
            "layout": "IPY_MODEL_0fcec5fcf40842f8b3928d7c0d070934",
            "max": 1,
            "min": 0,
            "orientation": "horizontal",
            "style": "IPY_MODEL_58aa8011023542d6b28a899939404a9c",
            "value": 1
          }
        },
        "a0bddb1a00e840a884a4eae80980391c": {
          "model_module": "@jupyter-widgets/controls",
          "model_module_version": "1.5.0",
          "model_name": "HBoxModel",
          "state": {
            "_dom_classes": [],
            "_model_module": "@jupyter-widgets/controls",
            "_model_module_version": "1.5.0",
            "_model_name": "HBoxModel",
            "_view_count": null,
            "_view_module": "@jupyter-widgets/controls",
            "_view_module_version": "1.5.0",
            "_view_name": "HBoxView",
            "box_style": "",
            "children": [
              "IPY_MODEL_67e078715f18427cbb514e345057a881",
              "IPY_MODEL_6965480d0dff49099d966d366712709a",
              "IPY_MODEL_73287bbd19c74e71afecf9015dbd0e2d"
            ],
            "layout": "IPY_MODEL_f14a9956bc1846d1b295738aad8a108b"
          }
        },
        "a3b578271b6843aa8e176c5475990301": {
          "model_module": "@jupyter-widgets/controls",
          "model_module_version": "1.5.0",
          "model_name": "ProgressStyleModel",
          "state": {
            "_model_module": "@jupyter-widgets/controls",
            "_model_module_version": "1.5.0",
            "_model_name": "ProgressStyleModel",
            "_view_count": null,
            "_view_module": "@jupyter-widgets/base",
            "_view_module_version": "1.2.0",
            "_view_name": "StyleView",
            "bar_color": null,
            "description_width": ""
          }
        },
        "a3bcecbb10fa4b5784cdb065d67d04ef": {
          "model_module": "@jupyter-widgets/base",
          "model_module_version": "1.2.0",
          "model_name": "LayoutModel",
          "state": {
            "_model_module": "@jupyter-widgets/base",
            "_model_module_version": "1.2.0",
            "_model_name": "LayoutModel",
            "_view_count": null,
            "_view_module": "@jupyter-widgets/base",
            "_view_module_version": "1.2.0",
            "_view_name": "LayoutView",
            "align_content": null,
            "align_items": null,
            "align_self": null,
            "border": null,
            "bottom": null,
            "display": null,
            "flex": null,
            "flex_flow": null,
            "grid_area": null,
            "grid_auto_columns": null,
            "grid_auto_flow": null,
            "grid_auto_rows": null,
            "grid_column": null,
            "grid_gap": null,
            "grid_row": null,
            "grid_template_areas": null,
            "grid_template_columns": null,
            "grid_template_rows": null,
            "height": null,
            "justify_content": null,
            "justify_items": null,
            "left": null,
            "margin": null,
            "max_height": null,
            "max_width": null,
            "min_height": null,
            "min_width": null,
            "object_fit": null,
            "object_position": null,
            "order": null,
            "overflow": null,
            "overflow_x": null,
            "overflow_y": null,
            "padding": null,
            "right": null,
            "top": null,
            "visibility": null,
            "width": null
          }
        },
        "a4297ae4b3ff494885840981bcd8d273": {
          "model_module": "@jupyter-widgets/base",
          "model_module_version": "1.2.0",
          "model_name": "LayoutModel",
          "state": {
            "_model_module": "@jupyter-widgets/base",
            "_model_module_version": "1.2.0",
            "_model_name": "LayoutModel",
            "_view_count": null,
            "_view_module": "@jupyter-widgets/base",
            "_view_module_version": "1.2.0",
            "_view_name": "LayoutView",
            "align_content": null,
            "align_items": null,
            "align_self": null,
            "border": null,
            "bottom": null,
            "display": null,
            "flex": null,
            "flex_flow": null,
            "grid_area": null,
            "grid_auto_columns": null,
            "grid_auto_flow": null,
            "grid_auto_rows": null,
            "grid_column": null,
            "grid_gap": null,
            "grid_row": null,
            "grid_template_areas": null,
            "grid_template_columns": null,
            "grid_template_rows": null,
            "height": null,
            "justify_content": null,
            "justify_items": null,
            "left": null,
            "margin": null,
            "max_height": null,
            "max_width": null,
            "min_height": null,
            "min_width": null,
            "object_fit": null,
            "object_position": null,
            "order": null,
            "overflow": null,
            "overflow_x": null,
            "overflow_y": null,
            "padding": null,
            "right": null,
            "top": null,
            "visibility": null,
            "width": null
          }
        },
        "a5babb90c0ed44dc89ca815d5dc29d6f": {
          "model_module": "@jupyter-widgets/base",
          "model_module_version": "1.2.0",
          "model_name": "LayoutModel",
          "state": {
            "_model_module": "@jupyter-widgets/base",
            "_model_module_version": "1.2.0",
            "_model_name": "LayoutModel",
            "_view_count": null,
            "_view_module": "@jupyter-widgets/base",
            "_view_module_version": "1.2.0",
            "_view_name": "LayoutView",
            "align_content": null,
            "align_items": null,
            "align_self": null,
            "border": null,
            "bottom": null,
            "display": null,
            "flex": null,
            "flex_flow": null,
            "grid_area": null,
            "grid_auto_columns": null,
            "grid_auto_flow": null,
            "grid_auto_rows": null,
            "grid_column": null,
            "grid_gap": null,
            "grid_row": null,
            "grid_template_areas": null,
            "grid_template_columns": null,
            "grid_template_rows": null,
            "height": null,
            "justify_content": null,
            "justify_items": null,
            "left": null,
            "margin": null,
            "max_height": null,
            "max_width": null,
            "min_height": null,
            "min_width": null,
            "object_fit": null,
            "object_position": null,
            "order": null,
            "overflow": null,
            "overflow_x": null,
            "overflow_y": null,
            "padding": null,
            "right": null,
            "top": null,
            "visibility": null,
            "width": null
          }
        },
        "a6e486585718478e83064b179b8aa452": {
          "model_module": "@jupyter-widgets/controls",
          "model_module_version": "1.5.0",
          "model_name": "DescriptionStyleModel",
          "state": {
            "_model_module": "@jupyter-widgets/controls",
            "_model_module_version": "1.5.0",
            "_model_name": "DescriptionStyleModel",
            "_view_count": null,
            "_view_module": "@jupyter-widgets/base",
            "_view_module_version": "1.2.0",
            "_view_name": "StyleView",
            "description_width": ""
          }
        },
        "bc610435d4b9421ea10f47e6fc20f42a": {
          "model_module": "@jupyter-widgets/controls",
          "model_module_version": "1.5.0",
          "model_name": "HBoxModel",
          "state": {
            "_dom_classes": [],
            "_model_module": "@jupyter-widgets/controls",
            "_model_module_version": "1.5.0",
            "_model_name": "HBoxModel",
            "_view_count": null,
            "_view_module": "@jupyter-widgets/controls",
            "_view_module_version": "1.5.0",
            "_view_name": "HBoxView",
            "box_style": "",
            "children": [
              "IPY_MODEL_279b7c62f96840c39bba19522f40e289",
              "IPY_MODEL_3870db55b96442948c6906e7deddd991",
              "IPY_MODEL_948248a13e6c4ed69d341ca0545dba45"
            ],
            "layout": "IPY_MODEL_8d6d6ad4a24a4b79acd961666cf49029"
          }
        },
        "c8c35efcd50745349040e9c16ba382b8": {
          "model_module": "@jupyter-widgets/base",
          "model_module_version": "1.2.0",
          "model_name": "LayoutModel",
          "state": {
            "_model_module": "@jupyter-widgets/base",
            "_model_module_version": "1.2.0",
            "_model_name": "LayoutModel",
            "_view_count": null,
            "_view_module": "@jupyter-widgets/base",
            "_view_module_version": "1.2.0",
            "_view_name": "LayoutView",
            "align_content": null,
            "align_items": null,
            "align_self": null,
            "border": null,
            "bottom": null,
            "display": null,
            "flex": null,
            "flex_flow": null,
            "grid_area": null,
            "grid_auto_columns": null,
            "grid_auto_flow": null,
            "grid_auto_rows": null,
            "grid_column": null,
            "grid_gap": null,
            "grid_row": null,
            "grid_template_areas": null,
            "grid_template_columns": null,
            "grid_template_rows": null,
            "height": null,
            "justify_content": null,
            "justify_items": null,
            "left": null,
            "margin": null,
            "max_height": null,
            "max_width": null,
            "min_height": null,
            "min_width": null,
            "object_fit": null,
            "object_position": null,
            "order": null,
            "overflow": null,
            "overflow_x": null,
            "overflow_y": null,
            "padding": null,
            "right": null,
            "top": null,
            "visibility": null,
            "width": null
          }
        },
        "c9be9e62259648caabc5ed2252f409ff": {
          "model_module": "@jupyter-widgets/controls",
          "model_module_version": "1.5.0",
          "model_name": "DescriptionStyleModel",
          "state": {
            "_model_module": "@jupyter-widgets/controls",
            "_model_module_version": "1.5.0",
            "_model_name": "DescriptionStyleModel",
            "_view_count": null,
            "_view_module": "@jupyter-widgets/base",
            "_view_module_version": "1.2.0",
            "_view_name": "StyleView",
            "description_width": ""
          }
        },
        "cd8083f7a780474fb4fd2223ea6d0b4b": {
          "model_module": "@jupyter-widgets/base",
          "model_module_version": "1.2.0",
          "model_name": "LayoutModel",
          "state": {
            "_model_module": "@jupyter-widgets/base",
            "_model_module_version": "1.2.0",
            "_model_name": "LayoutModel",
            "_view_count": null,
            "_view_module": "@jupyter-widgets/base",
            "_view_module_version": "1.2.0",
            "_view_name": "LayoutView",
            "align_content": null,
            "align_items": null,
            "align_self": null,
            "border": null,
            "bottom": null,
            "display": null,
            "flex": null,
            "flex_flow": null,
            "grid_area": null,
            "grid_auto_columns": null,
            "grid_auto_flow": null,
            "grid_auto_rows": null,
            "grid_column": null,
            "grid_gap": null,
            "grid_row": null,
            "grid_template_areas": null,
            "grid_template_columns": null,
            "grid_template_rows": null,
            "height": null,
            "justify_content": null,
            "justify_items": null,
            "left": null,
            "margin": null,
            "max_height": null,
            "max_width": null,
            "min_height": null,
            "min_width": null,
            "object_fit": null,
            "object_position": null,
            "order": null,
            "overflow": null,
            "overflow_x": null,
            "overflow_y": null,
            "padding": null,
            "right": null,
            "top": null,
            "visibility": null,
            "width": null
          }
        },
        "d1620b3c879b4bb6bc7d74d159f8a71d": {
          "model_module": "@jupyter-widgets/base",
          "model_module_version": "1.2.0",
          "model_name": "LayoutModel",
          "state": {
            "_model_module": "@jupyter-widgets/base",
            "_model_module_version": "1.2.0",
            "_model_name": "LayoutModel",
            "_view_count": null,
            "_view_module": "@jupyter-widgets/base",
            "_view_module_version": "1.2.0",
            "_view_name": "LayoutView",
            "align_content": null,
            "align_items": null,
            "align_self": null,
            "border": null,
            "bottom": null,
            "display": null,
            "flex": null,
            "flex_flow": null,
            "grid_area": null,
            "grid_auto_columns": null,
            "grid_auto_flow": null,
            "grid_auto_rows": null,
            "grid_column": null,
            "grid_gap": null,
            "grid_row": null,
            "grid_template_areas": null,
            "grid_template_columns": null,
            "grid_template_rows": null,
            "height": null,
            "justify_content": null,
            "justify_items": null,
            "left": null,
            "margin": null,
            "max_height": null,
            "max_width": null,
            "min_height": null,
            "min_width": null,
            "object_fit": null,
            "object_position": null,
            "order": null,
            "overflow": null,
            "overflow_x": null,
            "overflow_y": null,
            "padding": null,
            "right": null,
            "top": null,
            "visibility": null,
            "width": null
          }
        },
        "db23ccbda02a4033a9fa7fdb4222f603": {
          "model_module": "@jupyter-widgets/base",
          "model_module_version": "1.2.0",
          "model_name": "LayoutModel",
          "state": {
            "_model_module": "@jupyter-widgets/base",
            "_model_module_version": "1.2.0",
            "_model_name": "LayoutModel",
            "_view_count": null,
            "_view_module": "@jupyter-widgets/base",
            "_view_module_version": "1.2.0",
            "_view_name": "LayoutView",
            "align_content": null,
            "align_items": null,
            "align_self": null,
            "border": null,
            "bottom": null,
            "display": null,
            "flex": null,
            "flex_flow": null,
            "grid_area": null,
            "grid_auto_columns": null,
            "grid_auto_flow": null,
            "grid_auto_rows": null,
            "grid_column": null,
            "grid_gap": null,
            "grid_row": null,
            "grid_template_areas": null,
            "grid_template_columns": null,
            "grid_template_rows": null,
            "height": null,
            "justify_content": null,
            "justify_items": null,
            "left": null,
            "margin": null,
            "max_height": null,
            "max_width": null,
            "min_height": null,
            "min_width": null,
            "object_fit": null,
            "object_position": null,
            "order": null,
            "overflow": null,
            "overflow_x": null,
            "overflow_y": null,
            "padding": null,
            "right": null,
            "top": null,
            "visibility": null,
            "width": null
          }
        },
        "db92ef82849c4bf38e097a68d076906a": {
          "model_module": "@jupyter-widgets/controls",
          "model_module_version": "1.5.0",
          "model_name": "HTMLModel",
          "state": {
            "_dom_classes": [],
            "_model_module": "@jupyter-widgets/controls",
            "_model_module_version": "1.5.0",
            "_model_name": "HTMLModel",
            "_view_count": null,
            "_view_module": "@jupyter-widgets/controls",
            "_view_module_version": "1.5.0",
            "_view_name": "HTMLView",
            "description": "",
            "description_tooltip": null,
            "layout": "IPY_MODEL_a5babb90c0ed44dc89ca815d5dc29d6f",
            "placeholder": "​",
            "style": "IPY_MODEL_4cf898366b06402e86b6efed91a051fe",
            "value": "tokenizer_config.json: 100%"
          }
        },
        "e068ebdf0fe241d98ad84f094686efe3": {
          "model_module": "@jupyter-widgets/controls",
          "model_module_version": "1.5.0",
          "model_name": "DescriptionStyleModel",
          "state": {
            "_model_module": "@jupyter-widgets/controls",
            "_model_module_version": "1.5.0",
            "_model_name": "DescriptionStyleModel",
            "_view_count": null,
            "_view_module": "@jupyter-widgets/base",
            "_view_module_version": "1.2.0",
            "_view_name": "StyleView",
            "description_width": ""
          }
        },
        "e537449539b747d999487bfc79ef46d7": {
          "model_module": "@jupyter-widgets/base",
          "model_module_version": "1.2.0",
          "model_name": "LayoutModel",
          "state": {
            "_model_module": "@jupyter-widgets/base",
            "_model_module_version": "1.2.0",
            "_model_name": "LayoutModel",
            "_view_count": null,
            "_view_module": "@jupyter-widgets/base",
            "_view_module_version": "1.2.0",
            "_view_name": "LayoutView",
            "align_content": null,
            "align_items": null,
            "align_self": null,
            "border": null,
            "bottom": null,
            "display": null,
            "flex": null,
            "flex_flow": null,
            "grid_area": null,
            "grid_auto_columns": null,
            "grid_auto_flow": null,
            "grid_auto_rows": null,
            "grid_column": null,
            "grid_gap": null,
            "grid_row": null,
            "grid_template_areas": null,
            "grid_template_columns": null,
            "grid_template_rows": null,
            "height": null,
            "justify_content": null,
            "justify_items": null,
            "left": null,
            "margin": null,
            "max_height": null,
            "max_width": null,
            "min_height": null,
            "min_width": null,
            "object_fit": null,
            "object_position": null,
            "order": null,
            "overflow": null,
            "overflow_x": null,
            "overflow_y": null,
            "padding": null,
            "right": null,
            "top": null,
            "visibility": null,
            "width": null
          }
        },
        "e6b903b66bc3415b8280fb6ca24d112c": {
          "model_module": "@jupyter-widgets/base",
          "model_module_version": "1.2.0",
          "model_name": "LayoutModel",
          "state": {
            "_model_module": "@jupyter-widgets/base",
            "_model_module_version": "1.2.0",
            "_model_name": "LayoutModel",
            "_view_count": null,
            "_view_module": "@jupyter-widgets/base",
            "_view_module_version": "1.2.0",
            "_view_name": "LayoutView",
            "align_content": null,
            "align_items": null,
            "align_self": null,
            "border": null,
            "bottom": null,
            "display": null,
            "flex": null,
            "flex_flow": null,
            "grid_area": null,
            "grid_auto_columns": null,
            "grid_auto_flow": null,
            "grid_auto_rows": null,
            "grid_column": null,
            "grid_gap": null,
            "grid_row": null,
            "grid_template_areas": null,
            "grid_template_columns": null,
            "grid_template_rows": null,
            "height": null,
            "justify_content": null,
            "justify_items": null,
            "left": null,
            "margin": null,
            "max_height": null,
            "max_width": null,
            "min_height": null,
            "min_width": null,
            "object_fit": null,
            "object_position": null,
            "order": null,
            "overflow": null,
            "overflow_x": null,
            "overflow_y": null,
            "padding": null,
            "right": null,
            "top": null,
            "visibility": null,
            "width": null
          }
        },
        "f14a9956bc1846d1b295738aad8a108b": {
          "model_module": "@jupyter-widgets/base",
          "model_module_version": "1.2.0",
          "model_name": "LayoutModel",
          "state": {
            "_model_module": "@jupyter-widgets/base",
            "_model_module_version": "1.2.0",
            "_model_name": "LayoutModel",
            "_view_count": null,
            "_view_module": "@jupyter-widgets/base",
            "_view_module_version": "1.2.0",
            "_view_name": "LayoutView",
            "align_content": null,
            "align_items": null,
            "align_self": null,
            "border": null,
            "bottom": null,
            "display": null,
            "flex": null,
            "flex_flow": null,
            "grid_area": null,
            "grid_auto_columns": null,
            "grid_auto_flow": null,
            "grid_auto_rows": null,
            "grid_column": null,
            "grid_gap": null,
            "grid_row": null,
            "grid_template_areas": null,
            "grid_template_columns": null,
            "grid_template_rows": null,
            "height": null,
            "justify_content": null,
            "justify_items": null,
            "left": null,
            "margin": null,
            "max_height": null,
            "max_width": null,
            "min_height": null,
            "min_width": null,
            "object_fit": null,
            "object_position": null,
            "order": null,
            "overflow": null,
            "overflow_x": null,
            "overflow_y": null,
            "padding": null,
            "right": null,
            "top": null,
            "visibility": null,
            "width": null
          }
        },
        "f529ea5600644d858d209e17e11c30a8": {
          "model_module": "@jupyter-widgets/controls",
          "model_module_version": "1.5.0",
          "model_name": "HTMLModel",
          "state": {
            "_dom_classes": [],
            "_model_module": "@jupyter-widgets/controls",
            "_model_module_version": "1.5.0",
            "_model_name": "HTMLModel",
            "_view_count": null,
            "_view_module": "@jupyter-widgets/controls",
            "_view_module_version": "1.5.0",
            "_view_name": "HTMLView",
            "description": "",
            "description_tooltip": null,
            "layout": "IPY_MODEL_7ccb225e254d4df49bda7c05f9cdf148",
            "placeholder": "​",
            "style": "IPY_MODEL_a6e486585718478e83064b179b8aa452",
            "value": " 1.65M/? [00:00&lt;00:00, 43.5MB/s]"
          }
        },
        "f5f1b2210c0740cc84509d49fdc9f44a": {
          "model_module": "@jupyter-widgets/controls",
          "model_module_version": "1.5.0",
          "model_name": "ProgressStyleModel",
          "state": {
            "_model_module": "@jupyter-widgets/controls",
            "_model_module_version": "1.5.0",
            "_model_name": "ProgressStyleModel",
            "_view_count": null,
            "_view_module": "@jupyter-widgets/base",
            "_view_module_version": "1.2.0",
            "_view_name": "StyleView",
            "bar_color": null,
            "description_width": ""
          }
        }
      }
    }
  },
  "nbformat": 4,
  "nbformat_minor": 0
}
